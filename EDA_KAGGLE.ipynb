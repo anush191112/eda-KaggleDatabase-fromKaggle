{
  "nbformat": 4,
  "nbformat_minor": 0,
  "metadata": {
    "colab": {
      "name": "EDA_KAGGLE_SMA.ipynb",
      "provenance": [],
      "collapsed_sections": []
    },
    "kernelspec": {
      "name": "python3",
      "display_name": "Python 3"
    }
  },
  "cells": [
    {
      "cell_type": "markdown",
      "metadata": {
        "id": "0gigSwZcXez5"
      },
      "source": [
        "Link of Dataset: https://www.kaggle.com/gaurav2796/kaggle-competions-rankings-and-kernels"
      ]
    },
    {
      "cell_type": "code",
      "metadata": {
        "id": "d8chfT0fwPtu"
      },
      "source": [
        "# for some basic operations\n",
        "import numpy as np\n",
        "import pandas as pd\n",
        "from sklearn import preprocessing"
      ],
      "execution_count": null,
      "outputs": []
    },
    {
      "cell_type": "code",
      "metadata": {
        "id": "XAW16el3P0dl"
      },
      "source": [
        "# for data visualizations\n",
        "import matplotlib.pyplot as plt\n",
        "import matplotlib.gridspec as gridspec\n",
        "import seaborn as sns"
      ],
      "execution_count": null,
      "outputs": []
    },
    {
      "cell_type": "markdown",
      "metadata": {
        "id": "kwhQ4P4rU0a9"
      },
      "source": [
        "### **UPLOADING DATASET**"
      ]
    },
    {
      "cell_type": "code",
      "metadata": {
        "id": "w8AG-zcOQym4",
        "colab": {
          "resources": {
            "http://localhost:8080/nbextensions/google.colab/files.js": {
              "data": "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",
              "ok": true,
              "headers": [
                [
                  "content-type",
                  "application/javascript"
                ]
              ],
              "status": 200,
              "status_text": ""
            }
          },
          "base_uri": "https://localhost:8080/",
          "height": 73
        },
        "outputId": "ed8440fe-5635-4ddf-d5c8-5ed42bc425a8"
      },
      "source": [
        "#Upoading dataset 1\n",
        "from google.colab import files\n",
        "uploaded = files.upload()"
      ],
      "execution_count": null,
      "outputs": [
        {
          "output_type": "display_data",
          "data": {
            "text/html": [
              "\n",
              "     <input type=\"file\" id=\"files-2bb738da-6921-42ba-9287-e0e2cb5caeac\" name=\"files[]\" multiple disabled\n",
              "        style=\"border:none\" />\n",
              "     <output id=\"result-2bb738da-6921-42ba-9287-e0e2cb5caeac\">\n",
              "      Upload widget is only available when the cell has been executed in the\n",
              "      current browser session. Please rerun this cell to enable.\n",
              "      </output>\n",
              "      <script src=\"/nbextensions/google.colab/files.js\"></script> "
            ],
            "text/plain": [
              "<IPython.core.display.HTML object>"
            ]
          },
          "metadata": {
            "tags": []
          }
        },
        {
          "output_type": "stream",
          "text": [
            "Saving competitions_rankings.csv to competitions_rankings.csv\n"
          ],
          "name": "stdout"
        }
      ]
    },
    {
      "cell_type": "code",
      "metadata": {
        "id": "netWmosAWF9a",
        "colab": {
          "resources": {
            "http://localhost:8080/nbextensions/google.colab/files.js": {
              "data": "Ly8gQ29weXJpZ2h0IDIwMTcgR29vZ2xlIExMQwovLwovLyBMaWNlbnNlZCB1bmRlciB0aGUgQXBhY2hlIExpY2Vuc2UsIFZlcnNpb24gMi4wICh0aGUgIkxpY2Vuc2UiKTsKLy8geW91IG1heSBub3QgdXNlIHRoaXMgZmlsZSBleGNlcHQgaW4gY29tcGxpYW5jZSB3aXRoIHRoZSBMaWNlbnNlLgovLyBZb3UgbWF5IG9idGFpbiBhIGNvcHkgb2YgdGhlIExpY2Vuc2UgYXQKLy8KLy8gICAgICBodHRwOi8vd3d3LmFwYWNoZS5vcmcvbGljZW5zZXMvTElDRU5TRS0yLjAKLy8KLy8gVW5sZXNzIHJlcXVpcmVkIGJ5IGFwcGxpY2FibGUgbGF3IG9yIGFncmVlZCB0byBpbiB3cml0aW5nLCBzb2Z0d2FyZQovLyBkaXN0cmlidXRlZCB1bmRlciB0aGUgTGljZW5zZSBpcyBkaXN0cmlidXRlZCBvbiBhbiAiQVMgSVMiIEJBU0lTLAovLyBXSVRIT1VUIFdBUlJBTlRJRVMgT1IgQ09ORElUSU9OUyBPRiBBTlkgS0lORCwgZWl0aGVyIGV4cHJlc3Mgb3IgaW1wbGllZC4KLy8gU2VlIHRoZSBMaWNlbnNlIGZvciB0aGUgc3BlY2lmaWMgbGFuZ3VhZ2UgZ292ZXJuaW5nIHBlcm1pc3Npb25zIGFuZAovLyBsaW1pdGF0aW9ucyB1bmRlciB0aGUgTGljZW5zZS4KCi8qKgogKiBAZmlsZW92ZXJ2aWV3IEhlbHBlcnMgZm9yIGdvb2dsZS5jb2xhYiBQeXRob24gbW9kdWxlLgogKi8KKGZ1bmN0aW9uKHNjb3BlKSB7CmZ1bmN0aW9uIHNwYW4odGV4dCwgc3R5bGVBdHRyaWJ1dGVzID0ge30pIHsKICBjb25zdCBlbGVtZW50ID0gZG9jdW1lbnQuY3JlYXRlRWxlbWVudCgnc3BhbicpOwogIGVsZW1lbnQudGV4dENvbnRlbnQgPSB0ZXh0OwogIGZvciAoY29uc3Qga2V5IG9mIE9iamVjdC5rZXlzKHN0eWxlQXR0cmlidXRlcykpIHsKICAgIGVsZW1lbnQuc3R5bGVba2V5XSA9IHN0eWxlQXR0cmlidXRlc1trZXldOwogIH0KICByZXR1cm4gZWxlbWVudDsKfQoKLy8gTWF4IG51bWJlciBvZiBieXRlcyB3aGljaCB3aWxsIGJlIHVwbG9hZGVkIGF0IGEgdGltZS4KY29uc3QgTUFYX1BBWUxPQURfU0laRSA9IDEwMCAqIDEwMjQ7CgpmdW5jdGlvbiBfdXBsb2FkRmlsZXMoaW5wdXRJZCwgb3V0cHV0SWQpIHsKICBjb25zdCBzdGVwcyA9IHVwbG9hZEZpbGVzU3RlcChpbnB1dElkLCBvdXRwdXRJZCk7CiAgY29uc3Qgb3V0cHV0RWxlbWVudCA9IGRvY3VtZW50LmdldEVsZW1lbnRCeUlkKG91dHB1dElkKTsKICAvLyBDYWNoZSBzdGVwcyBvbiB0aGUgb3V0cHV0RWxlbWVudCB0byBtYWtlIGl0IGF2YWlsYWJsZSBmb3IgdGhlIG5leHQgY2FsbAogIC8vIHRvIHVwbG9hZEZpbGVzQ29udGludWUgZnJvbSBQeXRob24uCiAgb3V0cHV0RWxlbWVudC5zdGVwcyA9IHN0ZXBzOwoKICByZXR1cm4gX3VwbG9hZEZpbGVzQ29udGludWUob3V0cHV0SWQpOwp9CgovLyBUaGlzIGlzIHJvdWdobHkgYW4gYXN5bmMgZ2VuZXJhdG9yIChub3Qgc3VwcG9ydGVkIGluIHRoZSBicm93c2VyIHlldCksCi8vIHdoZXJlIHRoZXJlIGFyZSBtdWx0aXBsZSBhc3luY2hyb25vdXMgc3RlcHMgYW5kIHRoZSBQeXRob24gc2lkZSBpcyBnb2luZwovLyB0byBwb2xsIGZvciBjb21wbGV0aW9uIG9mIGVhY2ggc3RlcC4KLy8gVGhpcyB1c2VzIGEgUHJvbWlzZSB0byBibG9jayB0aGUgcHl0aG9uIHNpZGUgb24gY29tcGxldGlvbiBvZiBlYWNoIHN0ZXAsCi8vIHRoZW4gcGFzc2VzIHRoZSByZXN1bHQgb2YgdGhlIHByZXZpb3VzIHN0ZXAgYXMgdGhlIGlucHV0IHRvIHRoZSBuZXh0IHN0ZXAuCmZ1bmN0aW9uIF91cGxvYWRGaWxlc0NvbnRpbnVlKG91dHB1dElkKSB7CiAgY29uc3Qgb3V0cHV0RWxlbWVudCA9IGRvY3VtZW50LmdldEVsZW1lbnRCeUlkKG91dHB1dElkKTsKICBjb25zdCBzdGVwcyA9IG91dHB1dEVsZW1lbnQuc3RlcHM7CgogIGNvbnN0IG5leHQgPSBzdGVwcy5uZXh0KG91dHB1dEVsZW1lbnQubGFzdFByb21pc2VWYWx1ZSk7CiAgcmV0dXJuIFByb21pc2UucmVzb2x2ZShuZXh0LnZhbHVlLnByb21pc2UpLnRoZW4oKHZhbHVlKSA9PiB7CiAgICAvLyBDYWNoZSB0aGUgbGFzdCBwcm9taXNlIHZhbHVlIHRvIG1ha2UgaXQgYXZhaWxhYmxlIHRvIHRoZSBuZXh0CiAgICAvLyBzdGVwIG9mIHRoZSBnZW5lcmF0b3IuCiAgICBvdXRwdXRFbGVtZW50Lmxhc3RQcm9taXNlVmFsdWUgPSB2YWx1ZTsKICAgIHJldHVybiBuZXh0LnZhbHVlLnJlc3BvbnNlOwogIH0pOwp9CgovKioKICogR2VuZXJhdG9yIGZ1bmN0aW9uIHdoaWNoIGlzIGNhbGxlZCBiZXR3ZWVuIGVhY2ggYXN5bmMgc3RlcCBvZiB0aGUgdXBsb2FkCiAqIHByb2Nlc3MuCiAqIEBwYXJhbSB7c3RyaW5nfSBpbnB1dElkIEVsZW1lbnQgSUQgb2YgdGhlIGlucHV0IGZpbGUgcGlja2VyIGVsZW1lbnQuCiAqIEBwYXJhbSB7c3RyaW5nfSBvdXRwdXRJZCBFbGVtZW50IElEIG9mIHRoZSBvdXRwdXQgZGlzcGxheS4KICogQHJldHVybiB7IUl0ZXJhYmxlPCFPYmplY3Q+fSBJdGVyYWJsZSBvZiBuZXh0IHN0ZXBzLgogKi8KZnVuY3Rpb24qIHVwbG9hZEZpbGVzU3RlcChpbnB1dElkLCBvdXRwdXRJZCkgewogIGNvbnN0IGlucHV0RWxlbWVudCA9IGRvY3VtZW50LmdldEVsZW1lbnRCeUlkKGlucHV0SWQpOwogIGlucHV0RWxlbWVudC5kaXNhYmxlZCA9IGZhbHNlOwoKICBjb25zdCBvdXRwdXRFbGVtZW50ID0gZG9jdW1lbnQuZ2V0RWxlbWVudEJ5SWQob3V0cHV0SWQpOwogIG91dHB1dEVsZW1lbnQuaW5uZXJIVE1MID0gJyc7CgogIGNvbnN0IHBpY2tlZFByb21pc2UgPSBuZXcgUHJvbWlzZSgocmVzb2x2ZSkgPT4gewogICAgaW5wdXRFbGVtZW50LmFkZEV2ZW50TGlzdGVuZXIoJ2NoYW5nZScsIChlKSA9PiB7CiAgICAgIHJlc29sdmUoZS50YXJnZXQuZmlsZXMpOwogICAgfSk7CiAgfSk7CgogIGNvbnN0IGNhbmNlbCA9IGRvY3VtZW50LmNyZWF0ZUVsZW1lbnQoJ2J1dHRvbicpOwogIGlucHV0RWxlbWVudC5wYXJlbnRFbGVtZW50LmFwcGVuZENoaWxkKGNhbmNlbCk7CiAgY2FuY2VsLnRleHRDb250ZW50ID0gJ0NhbmNlbCB1cGxvYWQnOwogIGNvbnN0IGNhbmNlbFByb21pc2UgPSBuZXcgUHJvbWlzZSgocmVzb2x2ZSkgPT4gewogICAgY2FuY2VsLm9uY2xpY2sgPSAoKSA9PiB7CiAgICAgIHJlc29sdmUobnVsbCk7CiAgICB9OwogIH0pOwoKICAvLyBXYWl0IGZvciB0aGUgdXNlciB0byBwaWNrIHRoZSBmaWxlcy4KICBjb25zdCBmaWxlcyA9IHlpZWxkIHsKICAgIHByb21pc2U6IFByb21pc2UucmFjZShbcGlja2VkUHJvbWlzZSwgY2FuY2VsUHJvbWlzZV0pLAogICAgcmVzcG9uc2U6IHsKICAgICAgYWN0aW9uOiAnc3RhcnRpbmcnLAogICAgfQogIH07CgogIGNhbmNlbC5yZW1vdmUoKTsKCiAgLy8gRGlzYWJsZSB0aGUgaW5wdXQgZWxlbWVudCBzaW5jZSBmdXJ0aGVyIHBpY2tzIGFyZSBub3QgYWxsb3dlZC4KICBpbnB1dEVsZW1lbnQuZGlzYWJsZWQgPSB0cnVlOwoKICBpZiAoIWZpbGVzKSB7CiAgICByZXR1cm4gewogICAgICByZXNwb25zZTogewogICAgICAgIGFjdGlvbjogJ2NvbXBsZXRlJywKICAgICAgfQogICAgfTsKICB9CgogIGZvciAoY29uc3QgZmlsZSBvZiBmaWxlcykgewogICAgY29uc3QgbGkgPSBkb2N1bWVudC5jcmVhdGVFbGVtZW50KCdsaScpOwogICAgbGkuYXBwZW5kKHNwYW4oZmlsZS5uYW1lLCB7Zm9udFdlaWdodDogJ2JvbGQnfSkpOwogICAgbGkuYXBwZW5kKHNwYW4oCiAgICAgICAgYCgke2ZpbGUudHlwZSB8fCAnbi9hJ30pIC0gJHtmaWxlLnNpemV9IGJ5dGVzLCBgICsKICAgICAgICBgbGFzdCBtb2RpZmllZDogJHsKICAgICAgICAgICAgZmlsZS5sYXN0TW9kaWZpZWREYXRlID8gZmlsZS5sYXN0TW9kaWZpZWREYXRlLnRvTG9jYWxlRGF0ZVN0cmluZygpIDoKICAgICAgICAgICAgICAgICAgICAgICAgICAgICAgICAgICAgJ24vYSd9IC0gYCkpOwogICAgY29uc3QgcGVyY2VudCA9IHNwYW4oJzAlIGRvbmUnKTsKICAgIGxpLmFwcGVuZENoaWxkKHBlcmNlbnQpOwoKICAgIG91dHB1dEVsZW1lbnQuYXBwZW5kQ2hpbGQobGkpOwoKICAgIGNvbnN0IGZpbGVEYXRhUHJvbWlzZSA9IG5ldyBQcm9taXNlKChyZXNvbHZlKSA9PiB7CiAgICAgIGNvbnN0IHJlYWRlciA9IG5ldyBGaWxlUmVhZGVyKCk7CiAgICAgIHJlYWRlci5vbmxvYWQgPSAoZSkgPT4gewogICAgICAgIHJlc29sdmUoZS50YXJnZXQucmVzdWx0KTsKICAgICAgfTsKICAgICAgcmVhZGVyLnJlYWRBc0FycmF5QnVmZmVyKGZpbGUpOwogICAgfSk7CiAgICAvLyBXYWl0IGZvciB0aGUgZGF0YSB0byBiZSByZWFkeS4KICAgIGxldCBmaWxlRGF0YSA9IHlpZWxkIHsKICAgICAgcHJvbWlzZTogZmlsZURhdGFQcm9taXNlLAogICAgICByZXNwb25zZTogewogICAgICAgIGFjdGlvbjogJ2NvbnRpbnVlJywKICAgICAgfQogICAgfTsKCiAgICAvLyBVc2UgYSBjaHVua2VkIHNlbmRpbmcgdG8gYXZvaWQgbWVzc2FnZSBzaXplIGxpbWl0cy4gU2VlIGIvNjIxMTU2NjAuCiAgICBsZXQgcG9zaXRpb24gPSAwOwogICAgd2hpbGUgKHBvc2l0aW9uIDwgZmlsZURhdGEuYnl0ZUxlbmd0aCkgewogICAgICBjb25zdCBsZW5ndGggPSBNYXRoLm1pbihmaWxlRGF0YS5ieXRlTGVuZ3RoIC0gcG9zaXRpb24sIE1BWF9QQVlMT0FEX1NJWkUpOwogICAgICBjb25zdCBjaHVuayA9IG5ldyBVaW50OEFycmF5KGZpbGVEYXRhLCBwb3NpdGlvbiwgbGVuZ3RoKTsKICAgICAgcG9zaXRpb24gKz0gbGVuZ3RoOwoKICAgICAgY29uc3QgYmFzZTY0ID0gYnRvYShTdHJpbmcuZnJvbUNoYXJDb2RlLmFwcGx5KG51bGwsIGNodW5rKSk7CiAgICAgIHlpZWxkIHsKICAgICAgICByZXNwb25zZTogewogICAgICAgICAgYWN0aW9uOiAnYXBwZW5kJywKICAgICAgICAgIGZpbGU6IGZpbGUubmFtZSwKICAgICAgICAgIGRhdGE6IGJhc2U2NCwKICAgICAgICB9LAogICAgICB9OwogICAgICBwZXJjZW50LnRleHRDb250ZW50ID0KICAgICAgICAgIGAke01hdGgucm91bmQoKHBvc2l0aW9uIC8gZmlsZURhdGEuYnl0ZUxlbmd0aCkgKiAxMDApfSUgZG9uZWA7CiAgICB9CiAgfQoKICAvLyBBbGwgZG9uZS4KICB5aWVsZCB7CiAgICByZXNwb25zZTogewogICAgICBhY3Rpb246ICdjb21wbGV0ZScsCiAgICB9CiAgfTsKfQoKc2NvcGUuZ29vZ2xlID0gc2NvcGUuZ29vZ2xlIHx8IHt9OwpzY29wZS5nb29nbGUuY29sYWIgPSBzY29wZS5nb29nbGUuY29sYWIgfHwge307CnNjb3BlLmdvb2dsZS5jb2xhYi5fZmlsZXMgPSB7CiAgX3VwbG9hZEZpbGVzLAogIF91cGxvYWRGaWxlc0NvbnRpbnVlLAp9Owp9KShzZWxmKTsK",
              "ok": true,
              "headers": [
                [
                  "content-type",
                  "application/javascript"
                ]
              ],
              "status": 200,
              "status_text": ""
            }
          },
          "base_uri": "https://localhost:8080/",
          "height": 73
        },
        "outputId": "f9f5eb46-eebe-4644-cbcf-32f2f611f63d"
      },
      "source": [
        "#Upoading dataset 2\n",
        "from google.colab import files\n",
        "uploaded = files.upload()"
      ],
      "execution_count": null,
      "outputs": [
        {
          "output_type": "display_data",
          "data": {
            "text/html": [
              "\n",
              "     <input type=\"file\" id=\"files-14ea91ae-39de-47eb-b693-c5f2ee6d1422\" name=\"files[]\" multiple disabled\n",
              "        style=\"border:none\" />\n",
              "     <output id=\"result-14ea91ae-39de-47eb-b693-c5f2ee6d1422\">\n",
              "      Upload widget is only available when the cell has been executed in the\n",
              "      current browser session. Please rerun this cell to enable.\n",
              "      </output>\n",
              "      <script src=\"/nbextensions/google.colab/files.js\"></script> "
            ],
            "text/plain": [
              "<IPython.core.display.HTML object>"
            ]
          },
          "metadata": {
            "tags": []
          }
        },
        {
          "output_type": "stream",
          "text": [
            "Saving datasets_rankings.csv to datasets_rankings.csv\n"
          ],
          "name": "stdout"
        }
      ]
    },
    {
      "cell_type": "code",
      "metadata": {
        "id": "tdIumSa9WJGK",
        "colab": {
          "resources": {
            "http://localhost:8080/nbextensions/google.colab/files.js": {
              "data": "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",
              "ok": true,
              "headers": [
                [
                  "content-type",
                  "application/javascript"
                ]
              ],
              "status": 200,
              "status_text": ""
            }
          },
          "base_uri": "https://localhost:8080/",
          "height": 73
        },
        "outputId": "161732ae-25a3-40d2-f783-dc736241814b"
      },
      "source": [
        "#Upoading dataset 3\n",
        "from google.colab import files\n",
        "uploaded = files.upload()"
      ],
      "execution_count": null,
      "outputs": [
        {
          "output_type": "display_data",
          "data": {
            "text/html": [
              "\n",
              "     <input type=\"file\" id=\"files-9093ace9-edf7-46b9-a6b4-0d28ed4b0ab0\" name=\"files[]\" multiple disabled\n",
              "        style=\"border:none\" />\n",
              "     <output id=\"result-9093ace9-edf7-46b9-a6b4-0d28ed4b0ab0\">\n",
              "      Upload widget is only available when the cell has been executed in the\n",
              "      current browser session. Please rerun this cell to enable.\n",
              "      </output>\n",
              "      <script src=\"/nbextensions/google.colab/files.js\"></script> "
            ],
            "text/plain": [
              "<IPython.core.display.HTML object>"
            ]
          },
          "metadata": {
            "tags": []
          }
        },
        {
          "output_type": "stream",
          "text": [
            "Saving notebooks_rankings.csv to notebooks_rankings.csv\n"
          ],
          "name": "stdout"
        }
      ]
    },
    {
      "cell_type": "code",
      "metadata": {
        "id": "wPeZWix7W3zn",
        "colab": {
          "resources": {
            "http://localhost:8080/nbextensions/google.colab/files.js": {
              "data": "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",
              "ok": true,
              "headers": [
                [
                  "content-type",
                  "application/javascript"
                ]
              ],
              "status": 200,
              "status_text": ""
            }
          },
          "base_uri": "https://localhost:8080/",
          "height": 73
        },
        "outputId": "ed8e2705-920c-4c7f-f6fa-579aff13e3a4"
      },
      "source": [
        "#Upoading dataset 4\n",
        "from google.colab import files\n",
        "uploaded = files.upload()"
      ],
      "execution_count": null,
      "outputs": [
        {
          "output_type": "display_data",
          "data": {
            "text/html": [
              "\n",
              "     <input type=\"file\" id=\"files-1ad255a0-fbae-4a69-94a6-09e7f8c88435\" name=\"files[]\" multiple disabled\n",
              "        style=\"border:none\" />\n",
              "     <output id=\"result-1ad255a0-fbae-4a69-94a6-09e7f8c88435\">\n",
              "      Upload widget is only available when the cell has been executed in the\n",
              "      current browser session. Please rerun this cell to enable.\n",
              "      </output>\n",
              "      <script src=\"/nbextensions/google.colab/files.js\"></script> "
            ],
            "text/plain": [
              "<IPython.core.display.HTML object>"
            ]
          },
          "metadata": {
            "tags": []
          }
        },
        {
          "output_type": "stream",
          "text": [
            "Saving kernels.csv to kernels.csv\n"
          ],
          "name": "stdout"
        }
      ]
    },
    {
      "cell_type": "markdown",
      "metadata": {
        "id": "h0F0EB8max_G"
      },
      "source": [
        "### **DATASET 1**"
      ]
    },
    {
      "cell_type": "code",
      "metadata": {
        "id": "DmfEBnWzRKJ9",
        "colab": {
          "base_uri": "https://localhost:8080/",
          "height": 418
        },
        "outputId": "05da0e64-e608-40e5-df99-62123fc714ac"
      },
      "source": [
        "#Loading Dataset 1\n",
        "Comp = pd.read_csv('competitions_rankings.csv')\n",
        "print(Comp.shape)\n",
        "Comp"
      ],
      "execution_count": null,
      "outputs": [
        {
          "output_type": "stream",
          "text": [
            "(17334, 9)\n"
          ],
          "name": "stdout"
        },
        {
          "output_type": "execute_result",
          "data": {
            "text/html": [
              "<div>\n",
              "<style scoped>\n",
              "    .dataframe tbody tr th:only-of-type {\n",
              "        vertical-align: middle;\n",
              "    }\n",
              "\n",
              "    .dataframe tbody tr th {\n",
              "        vertical-align: top;\n",
              "    }\n",
              "\n",
              "    .dataframe thead th {\n",
              "        text-align: right;\n",
              "    }\n",
              "</style>\n",
              "<table border=\"1\" class=\"dataframe\">\n",
              "  <thead>\n",
              "    <tr style=\"text-align: right;\">\n",
              "      <th></th>\n",
              "      <th>currentRanking</th>\n",
              "      <th>displayName</th>\n",
              "      <th>userUrl</th>\n",
              "      <th>tier</th>\n",
              "      <th>points</th>\n",
              "      <th>joined</th>\n",
              "      <th>totalGoldMedals</th>\n",
              "      <th>totalSilverMedals</th>\n",
              "      <th>totalBronzeMedals</th>\n",
              "    </tr>\n",
              "  </thead>\n",
              "  <tbody>\n",
              "    <tr>\n",
              "      <th>0</th>\n",
              "      <td>1</td>\n",
              "      <td>bestfitting</td>\n",
              "      <td>/bestfitting</td>\n",
              "      <td>grandmaster</td>\n",
              "      <td>221687.0</td>\n",
              "      <td>2016-09-07T16:39:04.817Z</td>\n",
              "      <td>28</td>\n",
              "      <td>8</td>\n",
              "      <td>1</td>\n",
              "    </tr>\n",
              "    <tr>\n",
              "      <th>1</th>\n",
              "      <td>2</td>\n",
              "      <td>Guanshuo Xu</td>\n",
              "      <td>/wowfattie</td>\n",
              "      <td>grandmaster</td>\n",
              "      <td>204592.0</td>\n",
              "      <td>2015-12-02T04:40:13.517Z</td>\n",
              "      <td>15</td>\n",
              "      <td>15</td>\n",
              "      <td>2</td>\n",
              "    </tr>\n",
              "    <tr>\n",
              "      <th>2</th>\n",
              "      <td>3</td>\n",
              "      <td>Psi</td>\n",
              "      <td>/philippsinger</td>\n",
              "      <td>grandmaster</td>\n",
              "      <td>192493.0</td>\n",
              "      <td>2012-03-29T14:12:46.277Z</td>\n",
              "      <td>13</td>\n",
              "      <td>5</td>\n",
              "      <td>0</td>\n",
              "    </tr>\n",
              "    <tr>\n",
              "      <th>3</th>\n",
              "      <td>4</td>\n",
              "      <td>Μαριος Μιχαηλιδης KazAnova</td>\n",
              "      <td>/kazanova</td>\n",
              "      <td>grandmaster</td>\n",
              "      <td>169473.0</td>\n",
              "      <td>2013-06-24T19:35:02.9Z</td>\n",
              "      <td>38</td>\n",
              "      <td>52</td>\n",
              "      <td>38</td>\n",
              "    </tr>\n",
              "    <tr>\n",
              "      <th>4</th>\n",
              "      <td>5</td>\n",
              "      <td>Dieter</td>\n",
              "      <td>/christofhenkel</td>\n",
              "      <td>grandmaster</td>\n",
              "      <td>160728.0</td>\n",
              "      <td>2017-11-17T06:39:22.317Z</td>\n",
              "      <td>13</td>\n",
              "      <td>8</td>\n",
              "      <td>3</td>\n",
              "    </tr>\n",
              "    <tr>\n",
              "      <th>...</th>\n",
              "      <td>...</td>\n",
              "      <td>...</td>\n",
              "      <td>...</td>\n",
              "      <td>...</td>\n",
              "      <td>...</td>\n",
              "      <td>...</td>\n",
              "      <td>...</td>\n",
              "      <td>...</td>\n",
              "      <td>...</td>\n",
              "    </tr>\n",
              "    <tr>\n",
              "      <th>17329</th>\n",
              "      <td>7673</td>\n",
              "      <td>Sudip_Jerry</td>\n",
              "      <td>/sudipjerry</td>\n",
              "      <td>expert</td>\n",
              "      <td>3.0</td>\n",
              "      <td>2012-01-01T18:41:45.513Z</td>\n",
              "      <td>0</td>\n",
              "      <td>1</td>\n",
              "      <td>1</td>\n",
              "    </tr>\n",
              "    <tr>\n",
              "      <th>17330</th>\n",
              "      <td>7674</td>\n",
              "      <td>Sourangsu</td>\n",
              "      <td>/sourangsu</td>\n",
              "      <td>expert</td>\n",
              "      <td>3.0</td>\n",
              "      <td>2012-01-09T20:04:15.37Z</td>\n",
              "      <td>0</td>\n",
              "      <td>1</td>\n",
              "      <td>1</td>\n",
              "    </tr>\n",
              "    <tr>\n",
              "      <th>17331</th>\n",
              "      <td>7675</td>\n",
              "      <td>Yousuf</td>\n",
              "      <td>/yousuf0</td>\n",
              "      <td>expert</td>\n",
              "      <td>3.0</td>\n",
              "      <td>2012-01-15T17:34:02.683Z</td>\n",
              "      <td>0</td>\n",
              "      <td>1</td>\n",
              "      <td>1</td>\n",
              "    </tr>\n",
              "    <tr>\n",
              "      <th>17332</th>\n",
              "      <td>7676</td>\n",
              "      <td>mohit</td>\n",
              "      <td>/mohit29765</td>\n",
              "      <td>expert</td>\n",
              "      <td>3.0</td>\n",
              "      <td>2012-01-17T13:17:06.817Z</td>\n",
              "      <td>0</td>\n",
              "      <td>1</td>\n",
              "      <td>1</td>\n",
              "    </tr>\n",
              "    <tr>\n",
              "      <th>17333</th>\n",
              "      <td>7677</td>\n",
              "      <td>Mansi</td>\n",
              "      <td>/pixelm</td>\n",
              "      <td>expert</td>\n",
              "      <td>3.0</td>\n",
              "      <td>2012-01-17T21:28:28.773Z</td>\n",
              "      <td>0</td>\n",
              "      <td>1</td>\n",
              "      <td>1</td>\n",
              "    </tr>\n",
              "  </tbody>\n",
              "</table>\n",
              "<p>17334 rows × 9 columns</p>\n",
              "</div>"
            ],
            "text/plain": [
              "       currentRanking  ... totalBronzeMedals\n",
              "0                   1  ...                 1\n",
              "1                   2  ...                 2\n",
              "2                   3  ...                 0\n",
              "3                   4  ...                38\n",
              "4                   5  ...                 3\n",
              "...               ...  ...               ...\n",
              "17329            7673  ...                 1\n",
              "17330            7674  ...                 1\n",
              "17331            7675  ...                 1\n",
              "17332            7676  ...                 1\n",
              "17333            7677  ...                 1\n",
              "\n",
              "[17334 rows x 9 columns]"
            ]
          },
          "metadata": {
            "tags": []
          },
          "execution_count": 84
        }
      ]
    },
    {
      "cell_type": "code",
      "metadata": {
        "id": "uu3kBqqWTANg",
        "colab": {
          "base_uri": "https://localhost:8080/"
        },
        "outputId": "5f28a1fb-6ce0-494c-b926-ea067fdd47ed"
      },
      "source": [
        "# checking if the data contains any NULL values\n",
        "Comp.isnull().sum()"
      ],
      "execution_count": null,
      "outputs": [
        {
          "output_type": "execute_result",
          "data": {
            "text/plain": [
              "currentRanking       0\n",
              "displayName          9\n",
              "userUrl              0\n",
              "tier                 0\n",
              "points               0\n",
              "joined               0\n",
              "totalGoldMedals      0\n",
              "totalSilverMedals    0\n",
              "totalBronzeMedals    0\n",
              "dtype: int64"
            ]
          },
          "metadata": {
            "tags": []
          },
          "execution_count": 9
        }
      ]
    },
    {
      "cell_type": "code",
      "metadata": {
        "id": "0P-ACAoPbZXI",
        "colab": {
          "base_uri": "https://localhost:8080/",
          "height": 136
        },
        "outputId": "94ab3577-08a0-4053-aa76-c4502fb8265d"
      },
      "source": [
        "Tier = Comp.tier.value_counts().to_frame().reset_index().rename(columns={\"index\":\"tier\",\"tier\":\"counts\"})\n",
        "Tier"
      ],
      "execution_count": null,
      "outputs": [
        {
          "output_type": "execute_result",
          "data": {
            "text/html": [
              "<div>\n",
              "<style scoped>\n",
              "    .dataframe tbody tr th:only-of-type {\n",
              "        vertical-align: middle;\n",
              "    }\n",
              "\n",
              "    .dataframe tbody tr th {\n",
              "        vertical-align: top;\n",
              "    }\n",
              "\n",
              "    .dataframe thead th {\n",
              "        text-align: right;\n",
              "    }\n",
              "</style>\n",
              "<table border=\"1\" class=\"dataframe\">\n",
              "  <thead>\n",
              "    <tr style=\"text-align: right;\">\n",
              "      <th></th>\n",
              "      <th>tier</th>\n",
              "      <th>counts</th>\n",
              "    </tr>\n",
              "  </thead>\n",
              "  <tbody>\n",
              "    <tr>\n",
              "      <th>0</th>\n",
              "      <td>expert</td>\n",
              "      <td>13192</td>\n",
              "    </tr>\n",
              "    <tr>\n",
              "      <th>1</th>\n",
              "      <td>master</td>\n",
              "      <td>3595</td>\n",
              "    </tr>\n",
              "    <tr>\n",
              "      <th>2</th>\n",
              "      <td>grandmaster</td>\n",
              "      <td>547</td>\n",
              "    </tr>\n",
              "  </tbody>\n",
              "</table>\n",
              "</div>"
            ],
            "text/plain": [
              "          tier  counts\n",
              "0       expert   13192\n",
              "1       master    3595\n",
              "2  grandmaster     547"
            ]
          },
          "metadata": {
            "tags": []
          },
          "execution_count": 10
        }
      ]
    },
    {
      "cell_type": "code",
      "metadata": {
        "id": "TagJeKp-xpRx",
        "colab": {
          "base_uri": "https://localhost:8080/",
          "height": 402
        },
        "outputId": "2bcc1ec7-f44e-44cb-ce74-d991b276b090"
      },
      "source": [
        "Comp[\"tier\"] = Comp[\"tier\"].astype('category')\n",
        "Comp[\"tier_Cleaned\"] = Comp[\"tier\"].cat.codes\n",
        "Comp"
      ],
      "execution_count": null,
      "outputs": [
        {
          "output_type": "execute_result",
          "data": {
            "text/html": [
              "<div>\n",
              "<style scoped>\n",
              "    .dataframe tbody tr th:only-of-type {\n",
              "        vertical-align: middle;\n",
              "    }\n",
              "\n",
              "    .dataframe tbody tr th {\n",
              "        vertical-align: top;\n",
              "    }\n",
              "\n",
              "    .dataframe thead th {\n",
              "        text-align: right;\n",
              "    }\n",
              "</style>\n",
              "<table border=\"1\" class=\"dataframe\">\n",
              "  <thead>\n",
              "    <tr style=\"text-align: right;\">\n",
              "      <th></th>\n",
              "      <th>currentRanking</th>\n",
              "      <th>displayName</th>\n",
              "      <th>userUrl</th>\n",
              "      <th>tier</th>\n",
              "      <th>points</th>\n",
              "      <th>joined</th>\n",
              "      <th>totalGoldMedals</th>\n",
              "      <th>totalSilverMedals</th>\n",
              "      <th>totalBronzeMedals</th>\n",
              "      <th>tier_Cleaned</th>\n",
              "    </tr>\n",
              "  </thead>\n",
              "  <tbody>\n",
              "    <tr>\n",
              "      <th>0</th>\n",
              "      <td>1</td>\n",
              "      <td>bestfitting</td>\n",
              "      <td>/bestfitting</td>\n",
              "      <td>grandmaster</td>\n",
              "      <td>221687.0</td>\n",
              "      <td>2016-09-07T16:39:04.817Z</td>\n",
              "      <td>28</td>\n",
              "      <td>8</td>\n",
              "      <td>1</td>\n",
              "      <td>1</td>\n",
              "    </tr>\n",
              "    <tr>\n",
              "      <th>1</th>\n",
              "      <td>2</td>\n",
              "      <td>Guanshuo Xu</td>\n",
              "      <td>/wowfattie</td>\n",
              "      <td>grandmaster</td>\n",
              "      <td>204592.0</td>\n",
              "      <td>2015-12-02T04:40:13.517Z</td>\n",
              "      <td>15</td>\n",
              "      <td>15</td>\n",
              "      <td>2</td>\n",
              "      <td>1</td>\n",
              "    </tr>\n",
              "    <tr>\n",
              "      <th>2</th>\n",
              "      <td>3</td>\n",
              "      <td>Psi</td>\n",
              "      <td>/philippsinger</td>\n",
              "      <td>grandmaster</td>\n",
              "      <td>192493.0</td>\n",
              "      <td>2012-03-29T14:12:46.277Z</td>\n",
              "      <td>13</td>\n",
              "      <td>5</td>\n",
              "      <td>0</td>\n",
              "      <td>1</td>\n",
              "    </tr>\n",
              "    <tr>\n",
              "      <th>3</th>\n",
              "      <td>4</td>\n",
              "      <td>Μαριος Μιχαηλιδης KazAnova</td>\n",
              "      <td>/kazanova</td>\n",
              "      <td>grandmaster</td>\n",
              "      <td>169473.0</td>\n",
              "      <td>2013-06-24T19:35:02.9Z</td>\n",
              "      <td>38</td>\n",
              "      <td>52</td>\n",
              "      <td>38</td>\n",
              "      <td>1</td>\n",
              "    </tr>\n",
              "    <tr>\n",
              "      <th>4</th>\n",
              "      <td>5</td>\n",
              "      <td>Dieter</td>\n",
              "      <td>/christofhenkel</td>\n",
              "      <td>grandmaster</td>\n",
              "      <td>160728.0</td>\n",
              "      <td>2017-11-17T06:39:22.317Z</td>\n",
              "      <td>13</td>\n",
              "      <td>8</td>\n",
              "      <td>3</td>\n",
              "      <td>1</td>\n",
              "    </tr>\n",
              "    <tr>\n",
              "      <th>...</th>\n",
              "      <td>...</td>\n",
              "      <td>...</td>\n",
              "      <td>...</td>\n",
              "      <td>...</td>\n",
              "      <td>...</td>\n",
              "      <td>...</td>\n",
              "      <td>...</td>\n",
              "      <td>...</td>\n",
              "      <td>...</td>\n",
              "      <td>...</td>\n",
              "    </tr>\n",
              "    <tr>\n",
              "      <th>17329</th>\n",
              "      <td>7673</td>\n",
              "      <td>Sudip_Jerry</td>\n",
              "      <td>/sudipjerry</td>\n",
              "      <td>expert</td>\n",
              "      <td>3.0</td>\n",
              "      <td>2012-01-01T18:41:45.513Z</td>\n",
              "      <td>0</td>\n",
              "      <td>1</td>\n",
              "      <td>1</td>\n",
              "      <td>0</td>\n",
              "    </tr>\n",
              "    <tr>\n",
              "      <th>17330</th>\n",
              "      <td>7674</td>\n",
              "      <td>Sourangsu</td>\n",
              "      <td>/sourangsu</td>\n",
              "      <td>expert</td>\n",
              "      <td>3.0</td>\n",
              "      <td>2012-01-09T20:04:15.37Z</td>\n",
              "      <td>0</td>\n",
              "      <td>1</td>\n",
              "      <td>1</td>\n",
              "      <td>0</td>\n",
              "    </tr>\n",
              "    <tr>\n",
              "      <th>17331</th>\n",
              "      <td>7675</td>\n",
              "      <td>Yousuf</td>\n",
              "      <td>/yousuf0</td>\n",
              "      <td>expert</td>\n",
              "      <td>3.0</td>\n",
              "      <td>2012-01-15T17:34:02.683Z</td>\n",
              "      <td>0</td>\n",
              "      <td>1</td>\n",
              "      <td>1</td>\n",
              "      <td>0</td>\n",
              "    </tr>\n",
              "    <tr>\n",
              "      <th>17332</th>\n",
              "      <td>7676</td>\n",
              "      <td>mohit</td>\n",
              "      <td>/mohit29765</td>\n",
              "      <td>expert</td>\n",
              "      <td>3.0</td>\n",
              "      <td>2012-01-17T13:17:06.817Z</td>\n",
              "      <td>0</td>\n",
              "      <td>1</td>\n",
              "      <td>1</td>\n",
              "      <td>0</td>\n",
              "    </tr>\n",
              "    <tr>\n",
              "      <th>17333</th>\n",
              "      <td>7677</td>\n",
              "      <td>Mansi</td>\n",
              "      <td>/pixelm</td>\n",
              "      <td>expert</td>\n",
              "      <td>3.0</td>\n",
              "      <td>2012-01-17T21:28:28.773Z</td>\n",
              "      <td>0</td>\n",
              "      <td>1</td>\n",
              "      <td>1</td>\n",
              "      <td>0</td>\n",
              "    </tr>\n",
              "  </tbody>\n",
              "</table>\n",
              "<p>17334 rows × 10 columns</p>\n",
              "</div>"
            ],
            "text/plain": [
              "       currentRanking  ... tier_Cleaned\n",
              "0                   1  ...            1\n",
              "1                   2  ...            1\n",
              "2                   3  ...            1\n",
              "3                   4  ...            1\n",
              "4                   5  ...            1\n",
              "...               ...  ...          ...\n",
              "17329            7673  ...            0\n",
              "17330            7674  ...            0\n",
              "17331            7675  ...            0\n",
              "17332            7676  ...            0\n",
              "17333            7677  ...            0\n",
              "\n",
              "[17334 rows x 10 columns]"
            ]
          },
          "metadata": {
            "tags": []
          },
          "execution_count": 11
        }
      ]
    },
    {
      "cell_type": "code",
      "metadata": {
        "id": "HoQVZMNab4-P",
        "colab": {
          "base_uri": "https://localhost:8080/",
          "height": 567
        },
        "outputId": "c2414f26-5954-451a-8fe6-3dcd4a954390"
      },
      "source": [
        "plt.rcParams['figure.figsize'] = (9, 9)\n",
        "\n",
        "plt.bar(Tier['tier'],Tier['counts'] , color ='cyan',  width = 0.4) \n",
        "  \n",
        "plt.xlabel(\"Tier\") \n",
        "plt.ylabel(\"No. of Enrollments\") \n",
        "plt.title(\"No. of Competetion\") \n",
        "plt.show() "
      ],
      "execution_count": null,
      "outputs": [
        {
          "output_type": "display_data",
          "data": {
            "image/png": "[encoded data removed]",
            "text/plain": [
              "<Figure size 648x648 with 1 Axes>"
            ]
          },
          "metadata": {
            "tags": [],
            "needs_background": "light"
          }
        }
      ]
    },
    {
      "cell_type": "code",
      "metadata": {
        "id": "5fbFHvP5dEz3",
        "colab": {
          "base_uri": "https://localhost:8080/",
          "height": 787
        },
        "outputId": "e35a4d99-e6f4-4fab-e22a-37c80077b714"
      },
      "source": [
        "Gold = Comp.totalGoldMedals.value_counts().to_frame().reset_index().rename(columns={\"index\":\"Gold Medals\",\"totalGoldMedals\":\"counts\"})\n",
        "Gold\n"
      ],
      "execution_count": null,
      "outputs": [
        {
          "output_type": "execute_result",
          "data": {
            "text/html": [
              "<div>\n",
              "<style scoped>\n",
              "    .dataframe tbody tr th:only-of-type {\n",
              "        vertical-align: middle;\n",
              "    }\n",
              "\n",
              "    .dataframe tbody tr th {\n",
              "        vertical-align: top;\n",
              "    }\n",
              "\n",
              "    .dataframe thead th {\n",
              "        text-align: right;\n",
              "    }\n",
              "</style>\n",
              "<table border=\"1\" class=\"dataframe\">\n",
              "  <thead>\n",
              "    <tr style=\"text-align: right;\">\n",
              "      <th></th>\n",
              "      <th>Gold Medals</th>\n",
              "      <th>counts</th>\n",
              "    </tr>\n",
              "  </thead>\n",
              "  <tbody>\n",
              "    <tr>\n",
              "      <th>0</th>\n",
              "      <td>0</td>\n",
              "      <td>11793</td>\n",
              "    </tr>\n",
              "    <tr>\n",
              "      <th>1</th>\n",
              "      <td>1</td>\n",
              "      <td>3178</td>\n",
              "    </tr>\n",
              "    <tr>\n",
              "      <th>2</th>\n",
              "      <td>2</td>\n",
              "      <td>1074</td>\n",
              "    </tr>\n",
              "    <tr>\n",
              "      <th>3</th>\n",
              "      <td>3</td>\n",
              "      <td>440</td>\n",
              "    </tr>\n",
              "    <tr>\n",
              "      <th>4</th>\n",
              "      <td>4</td>\n",
              "      <td>242</td>\n",
              "    </tr>\n",
              "    <tr>\n",
              "      <th>5</th>\n",
              "      <td>5</td>\n",
              "      <td>188</td>\n",
              "    </tr>\n",
              "    <tr>\n",
              "      <th>6</th>\n",
              "      <td>6</td>\n",
              "      <td>133</td>\n",
              "    </tr>\n",
              "    <tr>\n",
              "      <th>7</th>\n",
              "      <td>7</td>\n",
              "      <td>67</td>\n",
              "    </tr>\n",
              "    <tr>\n",
              "      <th>8</th>\n",
              "      <td>8</td>\n",
              "      <td>53</td>\n",
              "    </tr>\n",
              "    <tr>\n",
              "      <th>9</th>\n",
              "      <td>9</td>\n",
              "      <td>37</td>\n",
              "    </tr>\n",
              "    <tr>\n",
              "      <th>10</th>\n",
              "      <td>11</td>\n",
              "      <td>21</td>\n",
              "    </tr>\n",
              "    <tr>\n",
              "      <th>11</th>\n",
              "      <td>15</td>\n",
              "      <td>15</td>\n",
              "    </tr>\n",
              "    <tr>\n",
              "      <th>12</th>\n",
              "      <td>13</td>\n",
              "      <td>14</td>\n",
              "    </tr>\n",
              "    <tr>\n",
              "      <th>13</th>\n",
              "      <td>10</td>\n",
              "      <td>12</td>\n",
              "    </tr>\n",
              "    <tr>\n",
              "      <th>14</th>\n",
              "      <td>18</td>\n",
              "      <td>11</td>\n",
              "    </tr>\n",
              "    <tr>\n",
              "      <th>15</th>\n",
              "      <td>12</td>\n",
              "      <td>9</td>\n",
              "    </tr>\n",
              "    <tr>\n",
              "      <th>16</th>\n",
              "      <td>19</td>\n",
              "      <td>8</td>\n",
              "    </tr>\n",
              "    <tr>\n",
              "      <th>17</th>\n",
              "      <td>14</td>\n",
              "      <td>6</td>\n",
              "    </tr>\n",
              "    <tr>\n",
              "      <th>18</th>\n",
              "      <td>23</td>\n",
              "      <td>6</td>\n",
              "    </tr>\n",
              "    <tr>\n",
              "      <th>19</th>\n",
              "      <td>28</td>\n",
              "      <td>6</td>\n",
              "    </tr>\n",
              "    <tr>\n",
              "      <th>20</th>\n",
              "      <td>17</td>\n",
              "      <td>6</td>\n",
              "    </tr>\n",
              "    <tr>\n",
              "      <th>21</th>\n",
              "      <td>16</td>\n",
              "      <td>6</td>\n",
              "    </tr>\n",
              "    <tr>\n",
              "      <th>22</th>\n",
              "      <td>54</td>\n",
              "      <td>3</td>\n",
              "    </tr>\n",
              "    <tr>\n",
              "      <th>23</th>\n",
              "      <td>21</td>\n",
              "      <td>3</td>\n",
              "    </tr>\n",
              "    <tr>\n",
              "      <th>24</th>\n",
              "      <td>38</td>\n",
              "      <td>3</td>\n",
              "    </tr>\n",
              "  </tbody>\n",
              "</table>\n",
              "</div>"
            ],
            "text/plain": [
              "    Gold Medals  counts\n",
              "0             0   11793\n",
              "1             1    3178\n",
              "2             2    1074\n",
              "3             3     440\n",
              "4             4     242\n",
              "5             5     188\n",
              "6             6     133\n",
              "7             7      67\n",
              "8             8      53\n",
              "9             9      37\n",
              "10           11      21\n",
              "11           15      15\n",
              "12           13      14\n",
              "13           10      12\n",
              "14           18      11\n",
              "15           12       9\n",
              "16           19       8\n",
              "17           14       6\n",
              "18           23       6\n",
              "19           28       6\n",
              "20           17       6\n",
              "21           16       6\n",
              "22           54       3\n",
              "23           21       3\n",
              "24           38       3"
            ]
          },
          "metadata": {
            "tags": []
          },
          "execution_count": 13
        }
      ]
    },
    {
      "cell_type": "code",
      "metadata": {
        "id": "5heY7s6FWRbe",
        "colab": {
          "base_uri": "https://localhost:8080/",
          "height": 462
        },
        "outputId": "88015256-cc33-40ba-a7f2-b62f55742455"
      },
      "source": [
        "plt.rcParams['figure.figsize'] = (12,6)\n",
        "\n",
        "sns.swarmplot(Gold['counts'], Gold['Gold Medals'], palette = 'twilight')\n",
        "plt.title('Gold Medal vs Counts', fontsize = 20)\n",
        "plt.show()"
      ],
      "execution_count": null,
      "outputs": [
        {
          "output_type": "stream",
          "text": [
            "/usr/local/lib/python3.6/dist-packages/seaborn/_decorators.py:43: FutureWarning: Pass the following variables as keyword args: x, y. From version 0.12, the only valid positional argument will be `data`, and passing other arguments without an explicit keyword will result in an error or misinterpretation.\n",
            "  FutureWarning\n"
          ],
          "name": "stderr"
        },
        {
          "output_type": "display_data",
          "data": {
            "image/png": "[encoded data removed]",
            "text/plain": [
              "<Figure size 864x432 with 1 Axes>"
            ]
          },
          "metadata": {
            "tags": [],
            "needs_background": "light"
          }
        }
      ]
    },
    {
      "cell_type": "code",
      "metadata": {
        "id": "kl7RaQp4lyMP",
        "colab": {
          "base_uri": "https://localhost:8080/",
          "height": 1000
        },
        "outputId": "dca7889d-6c13-4678-b607-caa65be126c1"
      },
      "source": [
        "Silver= Comp.totalSilverMedals.value_counts().to_frame().reset_index().rename(columns={\"index\":\"Silver Medals\",\"totalSilverMedals\":\"counts\"})\n",
        "Silver"
      ],
      "execution_count": null,
      "outputs": [
        {
          "output_type": "execute_result",
          "data": {
            "text/html": [
              "<div>\n",
              "<style scoped>\n",
              "    .dataframe tbody tr th:only-of-type {\n",
              "        vertical-align: middle;\n",
              "    }\n",
              "\n",
              "    .dataframe tbody tr th {\n",
              "        vertical-align: top;\n",
              "    }\n",
              "\n",
              "    .dataframe thead th {\n",
              "        text-align: right;\n",
              "    }\n",
              "</style>\n",
              "<table border=\"1\" class=\"dataframe\">\n",
              "  <thead>\n",
              "    <tr style=\"text-align: right;\">\n",
              "      <th></th>\n",
              "      <th>Silver Medals</th>\n",
              "      <th>counts</th>\n",
              "    </tr>\n",
              "  </thead>\n",
              "  <tbody>\n",
              "    <tr>\n",
              "      <th>0</th>\n",
              "      <td>1</td>\n",
              "      <td>5368</td>\n",
              "    </tr>\n",
              "    <tr>\n",
              "      <th>1</th>\n",
              "      <td>2</td>\n",
              "      <td>3873</td>\n",
              "    </tr>\n",
              "    <tr>\n",
              "      <th>2</th>\n",
              "      <td>0</td>\n",
              "      <td>3613</td>\n",
              "    </tr>\n",
              "    <tr>\n",
              "      <th>3</th>\n",
              "      <td>3</td>\n",
              "      <td>1661</td>\n",
              "    </tr>\n",
              "    <tr>\n",
              "      <th>4</th>\n",
              "      <td>4</td>\n",
              "      <td>890</td>\n",
              "    </tr>\n",
              "    <tr>\n",
              "      <th>5</th>\n",
              "      <td>5</td>\n",
              "      <td>559</td>\n",
              "    </tr>\n",
              "    <tr>\n",
              "      <th>6</th>\n",
              "      <td>6</td>\n",
              "      <td>317</td>\n",
              "    </tr>\n",
              "    <tr>\n",
              "      <th>7</th>\n",
              "      <td>7</td>\n",
              "      <td>245</td>\n",
              "    </tr>\n",
              "    <tr>\n",
              "      <th>8</th>\n",
              "      <td>8</td>\n",
              "      <td>165</td>\n",
              "    </tr>\n",
              "    <tr>\n",
              "      <th>9</th>\n",
              "      <td>9</td>\n",
              "      <td>148</td>\n",
              "    </tr>\n",
              "    <tr>\n",
              "      <th>10</th>\n",
              "      <td>11</td>\n",
              "      <td>84</td>\n",
              "    </tr>\n",
              "    <tr>\n",
              "      <th>11</th>\n",
              "      <td>10</td>\n",
              "      <td>76</td>\n",
              "    </tr>\n",
              "    <tr>\n",
              "      <th>12</th>\n",
              "      <td>12</td>\n",
              "      <td>66</td>\n",
              "    </tr>\n",
              "    <tr>\n",
              "      <th>13</th>\n",
              "      <td>14</td>\n",
              "      <td>43</td>\n",
              "    </tr>\n",
              "    <tr>\n",
              "      <th>14</th>\n",
              "      <td>15</td>\n",
              "      <td>28</td>\n",
              "    </tr>\n",
              "    <tr>\n",
              "      <th>15</th>\n",
              "      <td>16</td>\n",
              "      <td>27</td>\n",
              "    </tr>\n",
              "    <tr>\n",
              "      <th>16</th>\n",
              "      <td>17</td>\n",
              "      <td>25</td>\n",
              "    </tr>\n",
              "    <tr>\n",
              "      <th>17</th>\n",
              "      <td>13</td>\n",
              "      <td>23</td>\n",
              "    </tr>\n",
              "    <tr>\n",
              "      <th>18</th>\n",
              "      <td>19</td>\n",
              "      <td>18</td>\n",
              "    </tr>\n",
              "    <tr>\n",
              "      <th>19</th>\n",
              "      <td>21</td>\n",
              "      <td>12</td>\n",
              "    </tr>\n",
              "    <tr>\n",
              "      <th>20</th>\n",
              "      <td>20</td>\n",
              "      <td>12</td>\n",
              "    </tr>\n",
              "    <tr>\n",
              "      <th>21</th>\n",
              "      <td>30</td>\n",
              "      <td>9</td>\n",
              "    </tr>\n",
              "    <tr>\n",
              "      <th>22</th>\n",
              "      <td>22</td>\n",
              "      <td>9</td>\n",
              "    </tr>\n",
              "    <tr>\n",
              "      <th>23</th>\n",
              "      <td>25</td>\n",
              "      <td>9</td>\n",
              "    </tr>\n",
              "    <tr>\n",
              "      <th>24</th>\n",
              "      <td>28</td>\n",
              "      <td>9</td>\n",
              "    </tr>\n",
              "    <tr>\n",
              "      <th>25</th>\n",
              "      <td>18</td>\n",
              "      <td>6</td>\n",
              "    </tr>\n",
              "    <tr>\n",
              "      <th>26</th>\n",
              "      <td>33</td>\n",
              "      <td>6</td>\n",
              "    </tr>\n",
              "    <tr>\n",
              "      <th>27</th>\n",
              "      <td>31</td>\n",
              "      <td>6</td>\n",
              "    </tr>\n",
              "    <tr>\n",
              "      <th>28</th>\n",
              "      <td>29</td>\n",
              "      <td>6</td>\n",
              "    </tr>\n",
              "    <tr>\n",
              "      <th>29</th>\n",
              "      <td>23</td>\n",
              "      <td>6</td>\n",
              "    </tr>\n",
              "    <tr>\n",
              "      <th>30</th>\n",
              "      <td>52</td>\n",
              "      <td>3</td>\n",
              "    </tr>\n",
              "    <tr>\n",
              "      <th>31</th>\n",
              "      <td>39</td>\n",
              "      <td>3</td>\n",
              "    </tr>\n",
              "    <tr>\n",
              "      <th>32</th>\n",
              "      <td>32</td>\n",
              "      <td>3</td>\n",
              "    </tr>\n",
              "    <tr>\n",
              "      <th>33</th>\n",
              "      <td>24</td>\n",
              "      <td>3</td>\n",
              "    </tr>\n",
              "    <tr>\n",
              "      <th>34</th>\n",
              "      <td>43</td>\n",
              "      <td>3</td>\n",
              "    </tr>\n",
              "  </tbody>\n",
              "</table>\n",
              "</div>"
            ],
            "text/plain": [
              "    Silver Medals  counts\n",
              "0               1    5368\n",
              "1               2    3873\n",
              "2               0    3613\n",
              "3               3    1661\n",
              "4               4     890\n",
              "5               5     559\n",
              "6               6     317\n",
              "7               7     245\n",
              "8               8     165\n",
              "9               9     148\n",
              "10             11      84\n",
              "11             10      76\n",
              "12             12      66\n",
              "13             14      43\n",
              "14             15      28\n",
              "15             16      27\n",
              "16             17      25\n",
              "17             13      23\n",
              "18             19      18\n",
              "19             21      12\n",
              "20             20      12\n",
              "21             30       9\n",
              "22             22       9\n",
              "23             25       9\n",
              "24             28       9\n",
              "25             18       6\n",
              "26             33       6\n",
              "27             31       6\n",
              "28             29       6\n",
              "29             23       6\n",
              "30             52       3\n",
              "31             39       3\n",
              "32             32       3\n",
              "33             24       3\n",
              "34             43       3"
            ]
          },
          "metadata": {
            "tags": []
          },
          "execution_count": 15
        }
      ]
    },
    {
      "cell_type": "code",
      "metadata": {
        "id": "Xkvhf_D-Xygt",
        "colab": {
          "base_uri": "https://localhost:8080/",
          "height": 462
        },
        "outputId": "bd1fa835-3c23-4239-8634-c08106403226"
      },
      "source": [
        "plt.rcParams['figure.figsize'] = (12,6)\n",
        "\n",
        "sns.swarmplot(Silver['counts'], Silver['Silver Medals'],palette = 'twilight')\n",
        "plt.title('Gold Medal vs Counts', fontsize = 20)\n",
        "plt.show()"
      ],
      "execution_count": null,
      "outputs": [
        {
          "output_type": "stream",
          "text": [
            "/usr/local/lib/python3.6/dist-packages/seaborn/_decorators.py:43: FutureWarning: Pass the following variables as keyword args: x, y. From version 0.12, the only valid positional argument will be `data`, and passing other arguments without an explicit keyword will result in an error or misinterpretation.\n",
            "  FutureWarning\n"
          ],
          "name": "stderr"
        },
        {
          "output_type": "display_data",
          "data": {
            "image/png": "[encoded data removed]",
            "text/plain": [
              "<Figure size 864x432 with 1 Axes>"
            ]
          },
          "metadata": {
            "tags": [],
            "needs_background": "light"
          }
        }
      ]
    },
    {
      "cell_type": "code",
      "metadata": {
        "id": "pvNayQ1gl1MF",
        "colab": {
          "base_uri": "https://localhost:8080/",
          "height": 965
        },
        "outputId": "23f92af7-ea2d-4fc3-b194-e1bd2feb9ea2"
      },
      "source": [
        "Bronze = Comp.totalBronzeMedals.value_counts().to_frame().reset_index().rename(columns={\"index\":\"Bronze Medals\",\"totalBronzeMedals\":\"counts\"})\n",
        "Bronze"
      ],
      "execution_count": null,
      "outputs": [
        {
          "output_type": "execute_result",
          "data": {
            "text/html": [
              "<div>\n",
              "<style scoped>\n",
              "    .dataframe tbody tr th:only-of-type {\n",
              "        vertical-align: middle;\n",
              "    }\n",
              "\n",
              "    .dataframe tbody tr th {\n",
              "        vertical-align: top;\n",
              "    }\n",
              "\n",
              "    .dataframe thead th {\n",
              "        text-align: right;\n",
              "    }\n",
              "</style>\n",
              "<table border=\"1\" class=\"dataframe\">\n",
              "  <thead>\n",
              "    <tr style=\"text-align: right;\">\n",
              "      <th></th>\n",
              "      <th>Bronze Medals</th>\n",
              "      <th>counts</th>\n",
              "    </tr>\n",
              "  </thead>\n",
              "  <tbody>\n",
              "    <tr>\n",
              "      <th>0</th>\n",
              "      <td>1</td>\n",
              "      <td>5561</td>\n",
              "    </tr>\n",
              "    <tr>\n",
              "      <th>1</th>\n",
              "      <td>2</td>\n",
              "      <td>4450</td>\n",
              "    </tr>\n",
              "    <tr>\n",
              "      <th>2</th>\n",
              "      <td>0</td>\n",
              "      <td>3479</td>\n",
              "    </tr>\n",
              "    <tr>\n",
              "      <th>3</th>\n",
              "      <td>3</td>\n",
              "      <td>1647</td>\n",
              "    </tr>\n",
              "    <tr>\n",
              "      <th>4</th>\n",
              "      <td>4</td>\n",
              "      <td>755</td>\n",
              "    </tr>\n",
              "    <tr>\n",
              "      <th>5</th>\n",
              "      <td>5</td>\n",
              "      <td>454</td>\n",
              "    </tr>\n",
              "    <tr>\n",
              "      <th>6</th>\n",
              "      <td>6</td>\n",
              "      <td>283</td>\n",
              "    </tr>\n",
              "    <tr>\n",
              "      <th>7</th>\n",
              "      <td>7</td>\n",
              "      <td>223</td>\n",
              "    </tr>\n",
              "    <tr>\n",
              "      <th>8</th>\n",
              "      <td>9</td>\n",
              "      <td>117</td>\n",
              "    </tr>\n",
              "    <tr>\n",
              "      <th>9</th>\n",
              "      <td>8</td>\n",
              "      <td>116</td>\n",
              "    </tr>\n",
              "    <tr>\n",
              "      <th>10</th>\n",
              "      <td>10</td>\n",
              "      <td>41</td>\n",
              "    </tr>\n",
              "    <tr>\n",
              "      <th>11</th>\n",
              "      <td>11</td>\n",
              "      <td>33</td>\n",
              "    </tr>\n",
              "    <tr>\n",
              "      <th>12</th>\n",
              "      <td>12</td>\n",
              "      <td>32</td>\n",
              "    </tr>\n",
              "    <tr>\n",
              "      <th>13</th>\n",
              "      <td>14</td>\n",
              "      <td>22</td>\n",
              "    </tr>\n",
              "    <tr>\n",
              "      <th>14</th>\n",
              "      <td>19</td>\n",
              "      <td>21</td>\n",
              "    </tr>\n",
              "    <tr>\n",
              "      <th>15</th>\n",
              "      <td>15</td>\n",
              "      <td>17</td>\n",
              "    </tr>\n",
              "    <tr>\n",
              "      <th>16</th>\n",
              "      <td>13</td>\n",
              "      <td>12</td>\n",
              "    </tr>\n",
              "    <tr>\n",
              "      <th>17</th>\n",
              "      <td>16</td>\n",
              "      <td>11</td>\n",
              "    </tr>\n",
              "    <tr>\n",
              "      <th>18</th>\n",
              "      <td>21</td>\n",
              "      <td>9</td>\n",
              "    </tr>\n",
              "    <tr>\n",
              "      <th>19</th>\n",
              "      <td>18</td>\n",
              "      <td>9</td>\n",
              "    </tr>\n",
              "    <tr>\n",
              "      <th>20</th>\n",
              "      <td>38</td>\n",
              "      <td>6</td>\n",
              "    </tr>\n",
              "    <tr>\n",
              "      <th>21</th>\n",
              "      <td>27</td>\n",
              "      <td>6</td>\n",
              "    </tr>\n",
              "    <tr>\n",
              "      <th>22</th>\n",
              "      <td>17</td>\n",
              "      <td>6</td>\n",
              "    </tr>\n",
              "    <tr>\n",
              "      <th>23</th>\n",
              "      <td>26</td>\n",
              "      <td>3</td>\n",
              "    </tr>\n",
              "    <tr>\n",
              "      <th>24</th>\n",
              "      <td>20</td>\n",
              "      <td>3</td>\n",
              "    </tr>\n",
              "    <tr>\n",
              "      <th>25</th>\n",
              "      <td>23</td>\n",
              "      <td>3</td>\n",
              "    </tr>\n",
              "    <tr>\n",
              "      <th>26</th>\n",
              "      <td>24</td>\n",
              "      <td>3</td>\n",
              "    </tr>\n",
              "    <tr>\n",
              "      <th>27</th>\n",
              "      <td>28</td>\n",
              "      <td>3</td>\n",
              "    </tr>\n",
              "    <tr>\n",
              "      <th>28</th>\n",
              "      <td>33</td>\n",
              "      <td>3</td>\n",
              "    </tr>\n",
              "    <tr>\n",
              "      <th>29</th>\n",
              "      <td>29</td>\n",
              "      <td>3</td>\n",
              "    </tr>\n",
              "    <tr>\n",
              "      <th>30</th>\n",
              "      <td>43</td>\n",
              "      <td>3</td>\n",
              "    </tr>\n",
              "  </tbody>\n",
              "</table>\n",
              "</div>"
            ],
            "text/plain": [
              "    Bronze Medals  counts\n",
              "0               1    5561\n",
              "1               2    4450\n",
              "2               0    3479\n",
              "3               3    1647\n",
              "4               4     755\n",
              "5               5     454\n",
              "6               6     283\n",
              "7               7     223\n",
              "8               9     117\n",
              "9               8     116\n",
              "10             10      41\n",
              "11             11      33\n",
              "12             12      32\n",
              "13             14      22\n",
              "14             19      21\n",
              "15             15      17\n",
              "16             13      12\n",
              "17             16      11\n",
              "18             21       9\n",
              "19             18       9\n",
              "20             38       6\n",
              "21             27       6\n",
              "22             17       6\n",
              "23             26       3\n",
              "24             20       3\n",
              "25             23       3\n",
              "26             24       3\n",
              "27             28       3\n",
              "28             33       3\n",
              "29             29       3\n",
              "30             43       3"
            ]
          },
          "metadata": {
            "tags": []
          },
          "execution_count": 19
        }
      ]
    },
    {
      "cell_type": "code",
      "metadata": {
        "id": "3mJ8kah4X9-H",
        "colab": {
          "base_uri": "https://localhost:8080/",
          "height": 462
        },
        "outputId": "f239e161-113d-47b0-b405-ef9d00f379a2"
      },
      "source": [
        "plt.rcParams['figure.figsize'] = (12,6)\n",
        "\n",
        "sns.swarmplot(Bronze['counts'], Bronze['Bronze Medals'], palette = 'twilight')\n",
        "plt.title('Gold Medal vs Counts', fontsize = 20)\n",
        "plt.show()"
      ],
      "execution_count": null,
      "outputs": [
        {
          "output_type": "stream",
          "text": [
            "/usr/local/lib/python3.6/dist-packages/seaborn/_decorators.py:43: FutureWarning: Pass the following variables as keyword args: x, y. From version 0.12, the only valid positional argument will be `data`, and passing other arguments without an explicit keyword will result in an error or misinterpretation.\n",
            "  FutureWarning\n"
          ],
          "name": "stderr"
        },
        {
          "output_type": "display_data",
          "data": {
            "image/png": "[encoded data removed]",
            "text/plain": [
              "<Figure size 864x432 with 1 Axes>"
            ]
          },
          "metadata": {
            "tags": [],
            "needs_background": "light"
          }
        }
      ]
    },
    {
      "cell_type": "code",
      "metadata": {
        "id": "M3spRSISmeJb",
        "colab": {
          "base_uri": "https://localhost:8080/"
        },
        "outputId": "09a17eeb-693a-4fba-ead6-da8c3fb1d6b0"
      },
      "source": [
        "Gold_medals = np.round(Comp['totalGoldMedals'].min())\n",
        "Silver_medals = np.round(Comp['totalSilverMedals'].min())\n",
        "Bronze_medals = np.round(Comp['totalBronzeMedals'].min())\n",
        "min_points = np.round(Comp['points'].min())\n",
        "\n",
        "print(\"Minimum no. of Gold Medals in any Competetion:\", Gold_medals)\n",
        "print(\"Minimum no. of Silver Medals in any Competetion:\", Silver_medals)\n",
        "print(\"Minimum no. of Bronze Medals in any Competetion:\", Bronze_medals)\n",
        "print(\"Minimum points in any Competetion:\", min_points)"
      ],
      "execution_count": null,
      "outputs": [
        {
          "output_type": "stream",
          "text": [
            "Minimum no. of Gold Medals in any Competetion: 0\n",
            "Minimum no. of Silver Medals in any Competetion: 0\n",
            "Minimum no. of Bronze Medals in any Competetion: 0\n",
            "Minimum points in any Competetion: 3.0\n"
          ],
          "name": "stdout"
        }
      ]
    },
    {
      "cell_type": "code",
      "metadata": {
        "id": "TT9j4oGFnmK0",
        "colab": {
          "base_uri": "https://localhost:8080/"
        },
        "outputId": "aa4e25cf-57f0-4c3d-c53d-90e71e2d5a14"
      },
      "source": [
        "Gold_medals = np.round(Comp['totalGoldMedals'].max())\n",
        "Silver_medals = np.round(Comp['totalSilverMedals'].max())\n",
        "Bronze_medals = np.round(Comp['totalBronzeMedals'].max())\n",
        "max_points = np.round(Comp['points'].max())\n",
        "\n",
        "print(\"Maximum no. of Gold Medals in any Competetion:\", Gold_medals)\n",
        "print(\"Mamimum no. of Silver Medals in any Competetion:\", Silver_medals)\n",
        "print(\"Maximum no. of Bronze Medals in any Competetion:\", Bronze_medals)\n",
        "print(\"Maximum points in any Competetion:\", max_points)"
      ],
      "execution_count": null,
      "outputs": [
        {
          "output_type": "stream",
          "text": [
            "Maximum no. of Gold Medals in any Competetion: 54\n",
            "Mamimum no. of Silver Medals in any Competetion: 52\n",
            "Maximum no. of Bronze Medals in any Competetion: 43\n",
            "Maximum points in any Competetion: 221687.0\n"
          ],
          "name": "stdout"
        }
      ]
    },
    {
      "cell_type": "code",
      "metadata": {
        "id": "cKrhwhE3n3gJ",
        "colab": {
          "base_uri": "https://localhost:8080/"
        },
        "outputId": "f9742266-b792-4237-d1d3-2b261ff33c16"
      },
      "source": [
        "Gold_medals = np.round(Comp['totalGoldMedals'].mean())\n",
        "Silver_medals = np.round(Comp['totalSilverMedals'].mean())\n",
        "Bronze_medals = np.round(Comp['totalBronzeMedals'].mean())\n",
        "avg_points = np.round(Comp['points'].mean())\n",
        "\n",
        "print(\"Average no. of Gold Medals:\", Gold_medals)\n",
        "print(\"Average no. of Silver Medals:\", Silver_medals)\n",
        "print(\"Average no. of Bronze Medals:\", Bronze_medals)\n",
        "print(\"Average no. of Bronze Medals:\", Bronze_medals)\n",
        "print(\"Average points:\", avg_points)"
      ],
      "execution_count": null,
      "outputs": [
        {
          "output_type": "stream",
          "text": [
            "Average no. of Gold Medals: 1.0\n",
            "Average no. of Silver Medals: 2.0\n",
            "Average no. of Bronze Medals: 2.0\n",
            "Average no. of Bronze Medals: 2.0\n",
            "Average points: 5745.0\n"
          ],
          "name": "stdout"
        }
      ]
    },
    {
      "cell_type": "code",
      "metadata": {
        "id": "_RHsCoKksKca"
      },
      "source": [
        "x = Comp.drop(['currentRanking', 'displayName','tier', 'userUrl', 'joined'], axis=1)\n",
        "y = Comp.iloc[:, :1]"
      ],
      "execution_count": null,
      "outputs": []
    },
    {
      "cell_type": "code",
      "metadata": {
        "id": "canymhcZwa-q",
        "colab": {
          "base_uri": "https://localhost:8080/",
          "height": 212
        },
        "outputId": "0fc7d5b9-7ff9-4e16-9116-2d6320fbdbde"
      },
      "source": [
        "print(x.shape)\n",
        "x.head()"
      ],
      "execution_count": null,
      "outputs": [
        {
          "output_type": "stream",
          "text": [
            "(17334, 5)\n"
          ],
          "name": "stdout"
        },
        {
          "output_type": "execute_result",
          "data": {
            "text/html": [
              "<div>\n",
              "<style scoped>\n",
              "    .dataframe tbody tr th:only-of-type {\n",
              "        vertical-align: middle;\n",
              "    }\n",
              "\n",
              "    .dataframe tbody tr th {\n",
              "        vertical-align: top;\n",
              "    }\n",
              "\n",
              "    .dataframe thead th {\n",
              "        text-align: right;\n",
              "    }\n",
              "</style>\n",
              "<table border=\"1\" class=\"dataframe\">\n",
              "  <thead>\n",
              "    <tr style=\"text-align: right;\">\n",
              "      <th></th>\n",
              "      <th>points</th>\n",
              "      <th>totalGoldMedals</th>\n",
              "      <th>totalSilverMedals</th>\n",
              "      <th>totalBronzeMedals</th>\n",
              "      <th>tier_Cleaned</th>\n",
              "    </tr>\n",
              "  </thead>\n",
              "  <tbody>\n",
              "    <tr>\n",
              "      <th>0</th>\n",
              "      <td>221687.0</td>\n",
              "      <td>28</td>\n",
              "      <td>8</td>\n",
              "      <td>1</td>\n",
              "      <td>1</td>\n",
              "    </tr>\n",
              "    <tr>\n",
              "      <th>1</th>\n",
              "      <td>204592.0</td>\n",
              "      <td>15</td>\n",
              "      <td>15</td>\n",
              "      <td>2</td>\n",
              "      <td>1</td>\n",
              "    </tr>\n",
              "    <tr>\n",
              "      <th>2</th>\n",
              "      <td>192493.0</td>\n",
              "      <td>13</td>\n",
              "      <td>5</td>\n",
              "      <td>0</td>\n",
              "      <td>1</td>\n",
              "    </tr>\n",
              "    <tr>\n",
              "      <th>3</th>\n",
              "      <td>169473.0</td>\n",
              "      <td>38</td>\n",
              "      <td>52</td>\n",
              "      <td>38</td>\n",
              "      <td>1</td>\n",
              "    </tr>\n",
              "    <tr>\n",
              "      <th>4</th>\n",
              "      <td>160728.0</td>\n",
              "      <td>13</td>\n",
              "      <td>8</td>\n",
              "      <td>3</td>\n",
              "      <td>1</td>\n",
              "    </tr>\n",
              "  </tbody>\n",
              "</table>\n",
              "</div>"
            ],
            "text/plain": [
              "     points  totalGoldMedals  ...  totalBronzeMedals  tier_Cleaned\n",
              "0  221687.0               28  ...                  1             1\n",
              "1  204592.0               15  ...                  2             1\n",
              "2  192493.0               13  ...                  0             1\n",
              "3  169473.0               38  ...                 38             1\n",
              "4  160728.0               13  ...                  3             1\n",
              "\n",
              "[5 rows x 5 columns]"
            ]
          },
          "metadata": {
            "tags": []
          },
          "execution_count": 25
        }
      ]
    },
    {
      "cell_type": "code",
      "metadata": {
        "id": "j0T0Dyx2wdpt",
        "colab": {
          "base_uri": "https://localhost:8080/",
          "height": 212
        },
        "outputId": "2b9f2c88-94a3-4985-9753-020e20295c36"
      },
      "source": [
        "print(y.shape)\n",
        "y.head()"
      ],
      "execution_count": null,
      "outputs": [
        {
          "output_type": "stream",
          "text": [
            "(17334, 1)\n"
          ],
          "name": "stdout"
        },
        {
          "output_type": "execute_result",
          "data": {
            "text/html": [
              "<div>\n",
              "<style scoped>\n",
              "    .dataframe tbody tr th:only-of-type {\n",
              "        vertical-align: middle;\n",
              "    }\n",
              "\n",
              "    .dataframe tbody tr th {\n",
              "        vertical-align: top;\n",
              "    }\n",
              "\n",
              "    .dataframe thead th {\n",
              "        text-align: right;\n",
              "    }\n",
              "</style>\n",
              "<table border=\"1\" class=\"dataframe\">\n",
              "  <thead>\n",
              "    <tr style=\"text-align: right;\">\n",
              "      <th></th>\n",
              "      <th>currentRanking</th>\n",
              "    </tr>\n",
              "  </thead>\n",
              "  <tbody>\n",
              "    <tr>\n",
              "      <th>0</th>\n",
              "      <td>1</td>\n",
              "    </tr>\n",
              "    <tr>\n",
              "      <th>1</th>\n",
              "      <td>2</td>\n",
              "    </tr>\n",
              "    <tr>\n",
              "      <th>2</th>\n",
              "      <td>3</td>\n",
              "    </tr>\n",
              "    <tr>\n",
              "      <th>3</th>\n",
              "      <td>4</td>\n",
              "    </tr>\n",
              "    <tr>\n",
              "      <th>4</th>\n",
              "      <td>5</td>\n",
              "    </tr>\n",
              "  </tbody>\n",
              "</table>\n",
              "</div>"
            ],
            "text/plain": [
              "   currentRanking\n",
              "0               1\n",
              "1               2\n",
              "2               3\n",
              "3               4\n",
              "4               5"
            ]
          },
          "metadata": {
            "tags": []
          },
          "execution_count": 26
        }
      ]
    },
    {
      "cell_type": "code",
      "metadata": {
        "id": "-vNkM-WrwgKI",
        "colab": {
          "base_uri": "https://localhost:8080/"
        },
        "outputId": "4bd0c5c9-0742-41b2-fbf2-a5ba3876a300"
      },
      "source": [
        "from sklearn.model_selection import train_test_split\n",
        "\n",
        "x_train, x_test, y_train, y_test = train_test_split(x, y, test_size = 0.2, random_state = 0)\n",
        "\n",
        "print(\"Shape of x_train :\", x_train.shape)\n",
        "print(\"Shape of x_test :\", x_test.shape)\n",
        "print(\"Shape of y_train :\", y_train.shape)\n",
        "print(\"Shape of y_test :\", y_test.shape)"
      ],
      "execution_count": null,
      "outputs": [
        {
          "output_type": "stream",
          "text": [
            "Shape of x_train : (13867, 5)\n",
            "Shape of x_test : (3467, 5)\n",
            "Shape of y_train : (13867, 1)\n",
            "Shape of y_test : (3467, 1)\n"
          ],
          "name": "stdout"
        }
      ]
    },
    {
      "cell_type": "code",
      "metadata": {
        "id": "xHgNs5ylxH55"
      },
      "source": [
        "# standard Scaling\n",
        "\n",
        "from sklearn.preprocessing import StandardScaler\n",
        "\n",
        "sc = StandardScaler()\n",
        "x_train = sc.fit_transform(x_train)\n",
        "x_test = sc.transform(x_test)"
      ],
      "execution_count": null,
      "outputs": []
    },
    {
      "cell_type": "markdown",
      "metadata": {
        "id": "lz5t4ykq1Nl7"
      },
      "source": [
        "Linear Regression"
      ]
    },
    {
      "cell_type": "code",
      "metadata": {
        "id": "2sknbUCrznm1",
        "colab": {
          "base_uri": "https://localhost:8080/"
        },
        "outputId": "5977784b-12d9-4a0e-84c0-2ce1a26b4f18"
      },
      "source": [
        "from sklearn.linear_model import LinearRegression\n",
        "\n",
        "from sklearn.metrics import mean_squared_error\n",
        "from sklearn.metrics import r2_score\n",
        "\n",
        "linreg = LinearRegression()\n",
        "linreg.fit(x_train, y_train)\n",
        "\n",
        "r_sq = linreg.score(x,y)\n",
        "print(\"coefficient of determination: \", r_sq)\n",
        "\n",
        "print(\"intercept: \", linreg.intercept_)\n",
        "print(\"Slope: \", linreg.coef_)\n",
        "\n",
        "linreg_pred = linreg.predict(x_test)\n",
        "\n",
        "mse = mean_squared_error(y_test, linreg_pred)\n",
        "rmse = np.sqrt(mse)\n",
        "r2 = r2_score(y_test, linreg_pred)\n",
        "\n",
        "print(\"Root Mean Squared Error : \",rmse)\n",
        "print(\"R-Squared Error:\", r2)"
      ],
      "execution_count": null,
      "outputs": [
        {
          "output_type": "stream",
          "text": [
            "coefficient of determination:  -49300837.36932379\n",
            "intercept:  [3509.44696041]\n",
            "Slope:  [[-1248.35338009   442.79736488  -400.69850897   -92.67557749\n",
            "   -232.09985336]]\n",
            "Root Mean Squared Error :  1839.3118964429705\n",
            "R-Squared Error: 0.34228606786111104\n"
          ],
          "name": "stdout"
        }
      ]
    },
    {
      "cell_type": "markdown",
      "metadata": {
        "id": "QknhQ5Fs1Gfu"
      },
      "source": [
        "Support Vector Machine"
      ]
    },
    {
      "cell_type": "code",
      "metadata": {
        "id": "HVUrDcooz0sM",
        "colab": {
          "base_uri": "https://localhost:8080/"
        },
        "outputId": "15102daa-c969-416e-a3cd-613c250c11da"
      },
      "source": [
        "from sklearn.svm import SVR\n",
        "\n",
        "from sklearn.metrics import mean_squared_error\n",
        "from sklearn.metrics import r2_score\n",
        "\n",
        "svr = SVR(kernel = 'linear')\n",
        "svr.fit(x_train, y_train)\n",
        "\n",
        "svr_pred = svr.predict(x_test)\n",
        "\n",
        "mse = mean_squared_error(y_test, svr_pred)\n",
        "rmse = np.sqrt(mse)\n",
        "r2 = r2_score(y_test, svr_pred)\n",
        "\n",
        "print(\"Root Mean Squared Error : \",rmse)\n",
        "print(\"R-Squared Error:\", r2)"
      ],
      "execution_count": null,
      "outputs": [
        {
          "output_type": "stream",
          "text": [
            "/usr/local/lib/python3.6/dist-packages/sklearn/utils/validation.py:760: DataConversionWarning: A column-vector y was passed when a 1d array was expected. Please change the shape of y to (n_samples, ), for example using ravel().\n",
            "  y = column_or_1d(y, warn=True)\n"
          ],
          "name": "stderr"
        },
        {
          "output_type": "stream",
          "text": [
            "Root Mean Squared Error :  1961.9490695835946\n",
            "R-Squared Error: 0.2516552082730784\n"
          ],
          "name": "stdout"
        }
      ]
    },
    {
      "cell_type": "markdown",
      "metadata": {
        "id": "1HOOzIWx1DUN"
      },
      "source": [
        "Random Forest"
      ]
    },
    {
      "cell_type": "code",
      "metadata": {
        "id": "7tvIS9QU0FrX",
        "colab": {
          "base_uri": "https://localhost:8080/"
        },
        "outputId": "ac80ea6e-7e1c-44a9-9cf3-d837709977f6"
      },
      "source": [
        "from sklearn.ensemble import RandomForestRegressor\n",
        "\n",
        "from sklearn.metrics import mean_squared_error\n",
        "from sklearn.metrics import r2_score\n",
        "\n",
        "rfr = RandomForestRegressor()\n",
        "rfr.fit(x_train, y_train)\n",
        "\n",
        "rfr_pred = linreg.predict(x_test)\n",
        "\n",
        "mse = mean_squared_error(y_test, rfr_pred)\n",
        "rmse = np.sqrt(mse)\n",
        "r2 = r2_score(y_test, rfr_pred)\n",
        "\n",
        "print(\"Root Mean Squared Error : \",rmse)\n",
        "print(\"R-Squared Error:\", r2)"
      ],
      "execution_count": null,
      "outputs": [
        {
          "output_type": "stream",
          "text": [
            "/usr/local/lib/python3.6/dist-packages/ipykernel_launcher.py:7: DataConversionWarning: A column-vector y was passed when a 1d array was expected. Please change the shape of y to (n_samples,), for example using ravel().\n",
            "  import sys\n"
          ],
          "name": "stderr"
        },
        {
          "output_type": "stream",
          "text": [
            "Root Mean Squared Error :  1839.3118964429705\n",
            "R-Squared Error: 0.34228606786111104\n"
          ],
          "name": "stdout"
        }
      ]
    },
    {
      "cell_type": "markdown",
      "metadata": {
        "id": "0eGUnN3U0959"
      },
      "source": [
        "Xg Boost"
      ]
    },
    {
      "cell_type": "code",
      "metadata": {
        "id": "8R08JFb30K2l",
        "colab": {
          "base_uri": "https://localhost:8080/"
        },
        "outputId": "e9b6d209-ebf2-4762-c513-78d0fa39792b"
      },
      "source": [
        "from sklearn.ensemble import ExtraTreesRegressor\n",
        "\n",
        "from sklearn.metrics import mean_squared_error\n",
        "from sklearn.metrics import r2_score\n",
        "\n",
        "etr = ExtraTreesRegressor()\n",
        "etr.fit(x_train, y_train)\n",
        "\n",
        "etr_pred = etr.predict(x_test)\n",
        "\n",
        "mse = mean_squared_error(y_test, etr_pred)\n",
        "rmse = np.sqrt(mse)\n",
        "r2 = r2_score(y_test, etr_pred)\n",
        "\n",
        "print(\"Root Mean Squared Error : \",rmse)\n",
        "print(\"R-Squared Error:\", r2)"
      ],
      "execution_count": null,
      "outputs": [
        {
          "output_type": "stream",
          "text": [
            "/usr/local/lib/python3.6/dist-packages/ipykernel_launcher.py:7: DataConversionWarning: A column-vector y was passed when a 1d array was expected. Please change the shape of y to (n_samples,), for example using ravel().\n",
            "  import sys\n"
          ],
          "name": "stderr"
        },
        {
          "output_type": "stream",
          "text": [
            "Root Mean Squared Error :  3.0257957394732484\n",
            "R-Squared Error: 0.999998220059455\n"
          ],
          "name": "stdout"
        }
      ]
    },
    {
      "cell_type": "markdown",
      "metadata": {
        "id": "VaKSJzSna5V2"
      },
      "source": [
        "## **DATASET 2**"
      ]
    },
    {
      "cell_type": "code",
      "metadata": {
        "id": "WiBNqaAIZD2l",
        "colab": {
          "base_uri": "https://localhost:8080/",
          "height": 212
        },
        "outputId": "eea56590-361f-4919-dca8-980ba4dca030"
      },
      "source": [
        "#Loading Dataset 2\n",
        "data = pd.read_csv('datasets_rankings.csv')\n",
        "print(data.shape)\n",
        "data.head()"
      ],
      "execution_count": null,
      "outputs": [
        {
          "output_type": "stream",
          "text": [
            "(325, 9)\n"
          ],
          "name": "stdout"
        },
        {
          "output_type": "execute_result",
          "data": {
            "text/html": [
              "<div>\n",
              "<style scoped>\n",
              "    .dataframe tbody tr th:only-of-type {\n",
              "        vertical-align: middle;\n",
              "    }\n",
              "\n",
              "    .dataframe tbody tr th {\n",
              "        vertical-align: top;\n",
              "    }\n",
              "\n",
              "    .dataframe thead th {\n",
              "        text-align: right;\n",
              "    }\n",
              "</style>\n",
              "<table border=\"1\" class=\"dataframe\">\n",
              "  <thead>\n",
              "    <tr style=\"text-align: right;\">\n",
              "      <th></th>\n",
              "      <th>currentRanking</th>\n",
              "      <th>displayName</th>\n",
              "      <th>userUrl</th>\n",
              "      <th>tier</th>\n",
              "      <th>points</th>\n",
              "      <th>joined</th>\n",
              "      <th>totalGoldMedals</th>\n",
              "      <th>totalSilverMedals</th>\n",
              "      <th>totalBronzeMedals</th>\n",
              "    </tr>\n",
              "  </thead>\n",
              "  <tbody>\n",
              "    <tr>\n",
              "      <th>0</th>\n",
              "      <td>1</td>\n",
              "      <td>Chris Deotte</td>\n",
              "      <td>/cdeotte</td>\n",
              "      <td>grandmaster</td>\n",
              "      <td>1031.0</td>\n",
              "      <td>2018-03-14T22:51:30.63Z</td>\n",
              "      <td>8</td>\n",
              "      <td>8</td>\n",
              "      <td>22</td>\n",
              "    </tr>\n",
              "    <tr>\n",
              "      <th>1</th>\n",
              "      <td>2</td>\n",
              "      <td>SRK</td>\n",
              "      <td>/sudalairajkumar</td>\n",
              "      <td>grandmaster</td>\n",
              "      <td>1001.0</td>\n",
              "      <td>2012-11-28T14:13:45.6Z</td>\n",
              "      <td>5</td>\n",
              "      <td>5</td>\n",
              "      <td>3</td>\n",
              "    </tr>\n",
              "    <tr>\n",
              "      <th>2</th>\n",
              "      <td>3</td>\n",
              "      <td>Larxel</td>\n",
              "      <td>/andrewmvd</td>\n",
              "      <td>grandmaster</td>\n",
              "      <td>880.0</td>\n",
              "      <td>2016-11-15T02:55:17.343Z</td>\n",
              "      <td>6</td>\n",
              "      <td>5</td>\n",
              "      <td>28</td>\n",
              "    </tr>\n",
              "    <tr>\n",
              "      <th>3</th>\n",
              "      <td>4</td>\n",
              "      <td>Chris Crawford</td>\n",
              "      <td>/crawford</td>\n",
              "      <td>grandmaster</td>\n",
              "      <td>656.0</td>\n",
              "      <td>2015-12-09T23:39:03.803Z</td>\n",
              "      <td>7</td>\n",
              "      <td>12</td>\n",
              "      <td>51</td>\n",
              "    </tr>\n",
              "    <tr>\n",
              "      <th>4</th>\n",
              "      <td>5</td>\n",
              "      <td>Ruchi Bhatia</td>\n",
              "      <td>/ruchi798</td>\n",
              "      <td>grandmaster</td>\n",
              "      <td>636.0</td>\n",
              "      <td>2019-06-04T09:32:45.307Z</td>\n",
              "      <td>7</td>\n",
              "      <td>4</td>\n",
              "      <td>0</td>\n",
              "    </tr>\n",
              "  </tbody>\n",
              "</table>\n",
              "</div>"
            ],
            "text/plain": [
              "   currentRanking     displayName  ... totalSilverMedals totalBronzeMedals\n",
              "0               1    Chris Deotte  ...                 8                22\n",
              "1               2             SRK  ...                 5                 3\n",
              "2               3          Larxel  ...                 5                28\n",
              "3               4  Chris Crawford  ...                12                51\n",
              "4               5    Ruchi Bhatia  ...                 4                 0\n",
              "\n",
              "[5 rows x 9 columns]"
            ]
          },
          "metadata": {
            "tags": []
          },
          "execution_count": 33
        }
      ]
    },
    {
      "cell_type": "code",
      "metadata": {
        "id": "ZNwgXhygZZ75",
        "colab": {
          "base_uri": "https://localhost:8080/"
        },
        "outputId": "5abe949c-1d59-404f-b32b-cb86212fc6ec"
      },
      "source": [
        "data.isnull().sum()"
      ],
      "execution_count": null,
      "outputs": [
        {
          "output_type": "execute_result",
          "data": {
            "text/plain": [
              "currentRanking       0\n",
              "displayName          0\n",
              "userUrl              0\n",
              "tier                 0\n",
              "points               0\n",
              "joined               0\n",
              "totalGoldMedals      0\n",
              "totalSilverMedals    0\n",
              "totalBronzeMedals    0\n",
              "dtype: int64"
            ]
          },
          "metadata": {
            "tags": []
          },
          "execution_count": 34
        }
      ]
    },
    {
      "cell_type": "code",
      "metadata": {
        "id": "qIiUI1GnpjWL",
        "colab": {
          "base_uri": "https://localhost:8080/",
          "height": 136
        },
        "outputId": "14c6fe3f-abba-460d-d825-d6ea07a7ec81"
      },
      "source": [
        "Tier2 = data.tier.value_counts().to_frame().reset_index().rename(columns={\"index\":\"tier\",\"tier\":\"counts\"})\n",
        "Tier2"
      ],
      "execution_count": null,
      "outputs": [
        {
          "output_type": "execute_result",
          "data": {
            "text/html": [
              "<div>\n",
              "<style scoped>\n",
              "    .dataframe tbody tr th:only-of-type {\n",
              "        vertical-align: middle;\n",
              "    }\n",
              "\n",
              "    .dataframe tbody tr th {\n",
              "        vertical-align: top;\n",
              "    }\n",
              "\n",
              "    .dataframe thead th {\n",
              "        text-align: right;\n",
              "    }\n",
              "</style>\n",
              "<table border=\"1\" class=\"dataframe\">\n",
              "  <thead>\n",
              "    <tr style=\"text-align: right;\">\n",
              "      <th></th>\n",
              "      <th>tier</th>\n",
              "      <th>counts</th>\n",
              "    </tr>\n",
              "  </thead>\n",
              "  <tbody>\n",
              "    <tr>\n",
              "      <th>0</th>\n",
              "      <td>expert</td>\n",
              "      <td>300</td>\n",
              "    </tr>\n",
              "    <tr>\n",
              "      <th>1</th>\n",
              "      <td>master</td>\n",
              "      <td>18</td>\n",
              "    </tr>\n",
              "    <tr>\n",
              "      <th>2</th>\n",
              "      <td>grandmaster</td>\n",
              "      <td>7</td>\n",
              "    </tr>\n",
              "  </tbody>\n",
              "</table>\n",
              "</div>"
            ],
            "text/plain": [
              "          tier  counts\n",
              "0       expert     300\n",
              "1       master      18\n",
              "2  grandmaster       7"
            ]
          },
          "metadata": {
            "tags": []
          },
          "execution_count": 35
        }
      ]
    },
    {
      "cell_type": "code",
      "metadata": {
        "id": "VHWk1o5XDSXS",
        "colab": {
          "base_uri": "https://localhost:8080/",
          "height": 402
        },
        "outputId": "3964d42f-1dae-49ec-8538-7069cb6506bf"
      },
      "source": [
        "data[\"tier\"] = Comp[\"tier\"].astype('category')\n",
        "data[\"tier_Cleaned\"] = data[\"tier\"].cat.codes\n",
        "data"
      ],
      "execution_count": null,
      "outputs": [
        {
          "output_type": "execute_result",
          "data": {
            "text/html": [
              "<div>\n",
              "<style scoped>\n",
              "    .dataframe tbody tr th:only-of-type {\n",
              "        vertical-align: middle;\n",
              "    }\n",
              "\n",
              "    .dataframe tbody tr th {\n",
              "        vertical-align: top;\n",
              "    }\n",
              "\n",
              "    .dataframe thead th {\n",
              "        text-align: right;\n",
              "    }\n",
              "</style>\n",
              "<table border=\"1\" class=\"dataframe\">\n",
              "  <thead>\n",
              "    <tr style=\"text-align: right;\">\n",
              "      <th></th>\n",
              "      <th>currentRanking</th>\n",
              "      <th>displayName</th>\n",
              "      <th>userUrl</th>\n",
              "      <th>tier</th>\n",
              "      <th>points</th>\n",
              "      <th>joined</th>\n",
              "      <th>totalGoldMedals</th>\n",
              "      <th>totalSilverMedals</th>\n",
              "      <th>totalBronzeMedals</th>\n",
              "      <th>tier_Cleaned</th>\n",
              "    </tr>\n",
              "  </thead>\n",
              "  <tbody>\n",
              "    <tr>\n",
              "      <th>0</th>\n",
              "      <td>1</td>\n",
              "      <td>Chris Deotte</td>\n",
              "      <td>/cdeotte</td>\n",
              "      <td>grandmaster</td>\n",
              "      <td>1031.0</td>\n",
              "      <td>2018-03-14T22:51:30.63Z</td>\n",
              "      <td>8</td>\n",
              "      <td>8</td>\n",
              "      <td>22</td>\n",
              "      <td>1</td>\n",
              "    </tr>\n",
              "    <tr>\n",
              "      <th>1</th>\n",
              "      <td>2</td>\n",
              "      <td>SRK</td>\n",
              "      <td>/sudalairajkumar</td>\n",
              "      <td>grandmaster</td>\n",
              "      <td>1001.0</td>\n",
              "      <td>2012-11-28T14:13:45.6Z</td>\n",
              "      <td>5</td>\n",
              "      <td>5</td>\n",
              "      <td>3</td>\n",
              "      <td>1</td>\n",
              "    </tr>\n",
              "    <tr>\n",
              "      <th>2</th>\n",
              "      <td>3</td>\n",
              "      <td>Larxel</td>\n",
              "      <td>/andrewmvd</td>\n",
              "      <td>grandmaster</td>\n",
              "      <td>880.0</td>\n",
              "      <td>2016-11-15T02:55:17.343Z</td>\n",
              "      <td>6</td>\n",
              "      <td>5</td>\n",
              "      <td>28</td>\n",
              "      <td>1</td>\n",
              "    </tr>\n",
              "    <tr>\n",
              "      <th>3</th>\n",
              "      <td>4</td>\n",
              "      <td>Chris Crawford</td>\n",
              "      <td>/crawford</td>\n",
              "      <td>grandmaster</td>\n",
              "      <td>656.0</td>\n",
              "      <td>2015-12-09T23:39:03.803Z</td>\n",
              "      <td>7</td>\n",
              "      <td>12</td>\n",
              "      <td>51</td>\n",
              "      <td>1</td>\n",
              "    </tr>\n",
              "    <tr>\n",
              "      <th>4</th>\n",
              "      <td>5</td>\n",
              "      <td>Ruchi Bhatia</td>\n",
              "      <td>/ruchi798</td>\n",
              "      <td>grandmaster</td>\n",
              "      <td>636.0</td>\n",
              "      <td>2019-06-04T09:32:45.307Z</td>\n",
              "      <td>7</td>\n",
              "      <td>4</td>\n",
              "      <td>0</td>\n",
              "      <td>1</td>\n",
              "    </tr>\n",
              "    <tr>\n",
              "      <th>...</th>\n",
              "      <td>...</td>\n",
              "      <td>...</td>\n",
              "      <td>...</td>\n",
              "      <td>...</td>\n",
              "      <td>...</td>\n",
              "      <td>...</td>\n",
              "      <td>...</td>\n",
              "      <td>...</td>\n",
              "      <td>...</td>\n",
              "      <td>...</td>\n",
              "    </tr>\n",
              "    <tr>\n",
              "      <th>320</th>\n",
              "      <td>321</td>\n",
              "      <td>Brian Roach</td>\n",
              "      <td>/broach</td>\n",
              "      <td>master</td>\n",
              "      <td>10.0</td>\n",
              "      <td>2013-02-09T23:56:09.817Z</td>\n",
              "      <td>0</td>\n",
              "      <td>1</td>\n",
              "      <td>2</td>\n",
              "      <td>2</td>\n",
              "    </tr>\n",
              "    <tr>\n",
              "      <th>321</th>\n",
              "      <td>322</td>\n",
              "      <td>Chaitanya Bapat</td>\n",
              "      <td>/chaibapat</td>\n",
              "      <td>master</td>\n",
              "      <td>10.0</td>\n",
              "      <td>2016-07-05T06:53:47.08Z</td>\n",
              "      <td>0</td>\n",
              "      <td>0</td>\n",
              "      <td>3</td>\n",
              "      <td>2</td>\n",
              "    </tr>\n",
              "    <tr>\n",
              "      <th>322</th>\n",
              "      <td>323</td>\n",
              "      <td>Alexsumt</td>\n",
              "      <td>/alexsumt</td>\n",
              "      <td>master</td>\n",
              "      <td>10.0</td>\n",
              "      <td>2018-12-19T16:05:48.663Z</td>\n",
              "      <td>0</td>\n",
              "      <td>0</td>\n",
              "      <td>3</td>\n",
              "      <td>2</td>\n",
              "    </tr>\n",
              "    <tr>\n",
              "      <th>323</th>\n",
              "      <td>324</td>\n",
              "      <td>freeCodeCamp</td>\n",
              "      <td>/fccuser</td>\n",
              "      <td>master</td>\n",
              "      <td>6.0</td>\n",
              "      <td>2016-05-30T03:23:39.12Z</td>\n",
              "      <td>0</td>\n",
              "      <td>1</td>\n",
              "      <td>2</td>\n",
              "      <td>2</td>\n",
              "    </tr>\n",
              "    <tr>\n",
              "      <th>324</th>\n",
              "      <td>325</td>\n",
              "      <td>AaronSchlegel</td>\n",
              "      <td>/aaronschlegel</td>\n",
              "      <td>master</td>\n",
              "      <td>5.0</td>\n",
              "      <td>2015-05-12T21:18:06.06Z</td>\n",
              "      <td>0</td>\n",
              "      <td>0</td>\n",
              "      <td>3</td>\n",
              "      <td>2</td>\n",
              "    </tr>\n",
              "  </tbody>\n",
              "</table>\n",
              "<p>325 rows × 10 columns</p>\n",
              "</div>"
            ],
            "text/plain": [
              "     currentRanking      displayName  ... totalBronzeMedals tier_Cleaned\n",
              "0                 1     Chris Deotte  ...                22            1\n",
              "1                 2              SRK  ...                 3            1\n",
              "2                 3           Larxel  ...                28            1\n",
              "3                 4   Chris Crawford  ...                51            1\n",
              "4                 5     Ruchi Bhatia  ...                 0            1\n",
              "..              ...              ...  ...               ...          ...\n",
              "320             321      Brian Roach  ...                 2            2\n",
              "321             322  Chaitanya Bapat  ...                 3            2\n",
              "322             323         Alexsumt  ...                 3            2\n",
              "323             324     freeCodeCamp  ...                 2            2\n",
              "324             325    AaronSchlegel  ...                 3            2\n",
              "\n",
              "[325 rows x 10 columns]"
            ]
          },
          "metadata": {
            "tags": []
          },
          "execution_count": 36
        }
      ]
    },
    {
      "cell_type": "code",
      "metadata": {
        "id": "Z8dxUx9vpngS",
        "colab": {
          "base_uri": "https://localhost:8080/",
          "height": 567
        },
        "outputId": "9c40d7c7-a896-43e5-c37d-6cc2a871a6ca"
      },
      "source": [
        "plt.rcParams['figure.figsize'] = (9, 9)\n",
        "\n",
        "plt.bar(Tier2['tier'],Tier2['counts'] , color ='cyan',  width = 0.4) \n",
        "  \n",
        "plt.xlabel(\"Tier\") \n",
        "plt.ylabel(\"No. of Datasets Uploaded\") \n",
        "plt.title(\"No. of Datasets\") \n",
        "plt.show() "
      ],
      "execution_count": null,
      "outputs": [
        {
          "output_type": "display_data",
          "data": {
            "image/png": "[encoded data removed]",
            "text/plain": [
              "<Figure size 648x648 with 1 Axes>"
            ]
          },
          "metadata": {
            "tags": [],
            "needs_background": "light"
          }
        }
      ]
    },
    {
      "cell_type": "code",
      "metadata": {
        "id": "Le7kXgBap1Th",
        "colab": {
          "base_uri": "https://localhost:8080/",
          "height": 314
        },
        "outputId": "c8e36f01-74ec-4121-c516-30990a35a1da"
      },
      "source": [
        "Gold2 = data.totalGoldMedals.value_counts().to_frame().reset_index().rename(columns={\"index\":\"Gold Medals\",\"totalGoldMedals\":\"counts\"})\n",
        "Gold2"
      ],
      "execution_count": null,
      "outputs": [
        {
          "output_type": "execute_result",
          "data": {
            "text/html": [
              "<div>\n",
              "<style scoped>\n",
              "    .dataframe tbody tr th:only-of-type {\n",
              "        vertical-align: middle;\n",
              "    }\n",
              "\n",
              "    .dataframe tbody tr th {\n",
              "        vertical-align: top;\n",
              "    }\n",
              "\n",
              "    .dataframe thead th {\n",
              "        text-align: right;\n",
              "    }\n",
              "</style>\n",
              "<table border=\"1\" class=\"dataframe\">\n",
              "  <thead>\n",
              "    <tr style=\"text-align: right;\">\n",
              "      <th></th>\n",
              "      <th>Gold Medals</th>\n",
              "      <th>counts</th>\n",
              "    </tr>\n",
              "  </thead>\n",
              "  <tbody>\n",
              "    <tr>\n",
              "      <th>0</th>\n",
              "      <td>0</td>\n",
              "      <td>263</td>\n",
              "    </tr>\n",
              "    <tr>\n",
              "      <th>1</th>\n",
              "      <td>1</td>\n",
              "      <td>39</td>\n",
              "    </tr>\n",
              "    <tr>\n",
              "      <th>2</th>\n",
              "      <td>2</td>\n",
              "      <td>7</td>\n",
              "    </tr>\n",
              "    <tr>\n",
              "      <th>3</th>\n",
              "      <td>7</td>\n",
              "      <td>4</td>\n",
              "    </tr>\n",
              "    <tr>\n",
              "      <th>4</th>\n",
              "      <td>3</td>\n",
              "      <td>4</td>\n",
              "    </tr>\n",
              "    <tr>\n",
              "      <th>5</th>\n",
              "      <td>5</td>\n",
              "      <td>3</td>\n",
              "    </tr>\n",
              "    <tr>\n",
              "      <th>6</th>\n",
              "      <td>6</td>\n",
              "      <td>2</td>\n",
              "    </tr>\n",
              "    <tr>\n",
              "      <th>7</th>\n",
              "      <td>4</td>\n",
              "      <td>2</td>\n",
              "    </tr>\n",
              "    <tr>\n",
              "      <th>8</th>\n",
              "      <td>8</td>\n",
              "      <td>1</td>\n",
              "    </tr>\n",
              "  </tbody>\n",
              "</table>\n",
              "</div>"
            ],
            "text/plain": [
              "   Gold Medals  counts\n",
              "0            0     263\n",
              "1            1      39\n",
              "2            2       7\n",
              "3            7       4\n",
              "4            3       4\n",
              "5            5       3\n",
              "6            6       2\n",
              "7            4       2\n",
              "8            8       1"
            ]
          },
          "metadata": {
            "tags": []
          },
          "execution_count": 38
        }
      ]
    },
    {
      "cell_type": "code",
      "metadata": {
        "id": "7wsnp00pYMyZ",
        "colab": {
          "base_uri": "https://localhost:8080/",
          "height": 462
        },
        "outputId": "be325422-3176-4664-be69-0ddc3ca19d34"
      },
      "source": [
        "plt.rcParams['figure.figsize'] = (12,6)\n",
        "\n",
        "sns.swarmplot(Gold2['counts'], Gold2['Gold Medals'], palette = 'twilight')\n",
        "plt.title('Gold Medal vs Counts', fontsize = 20)\n",
        "plt.show()"
      ],
      "execution_count": null,
      "outputs": [
        {
          "output_type": "stream",
          "text": [
            "/usr/local/lib/python3.6/dist-packages/seaborn/_decorators.py:43: FutureWarning: Pass the following variables as keyword args: x, y. From version 0.12, the only valid positional argument will be `data`, and passing other arguments without an explicit keyword will result in an error or misinterpretation.\n",
            "  FutureWarning\n"
          ],
          "name": "stderr"
        },
        {
          "output_type": "display_data",
          "data": {
            "image/png": "[encoded data removed]",
            "text/plain": [
              "<Figure size 864x432 with 1 Axes>"
            ]
          },
          "metadata": {
            "tags": [],
            "needs_background": "light"
          }
        }
      ]
    },
    {
      "cell_type": "code",
      "metadata": {
        "id": "gKpY0Fhwp9nq",
        "colab": {
          "base_uri": "https://localhost:8080/",
          "height": 343
        },
        "outputId": "53b2863d-1073-43a8-9b51-754a553707b4"
      },
      "source": [
        "Silver2= data.totalSilverMedals.value_counts().to_frame().reset_index().rename(columns={\"index\":\"Silver Medals\",\"totalSilverMedals\":\"counts\"})\n",
        "Silver2"
      ],
      "execution_count": null,
      "outputs": [
        {
          "output_type": "execute_result",
          "data": {
            "text/html": [
              "<div>\n",
              "<style scoped>\n",
              "    .dataframe tbody tr th:only-of-type {\n",
              "        vertical-align: middle;\n",
              "    }\n",
              "\n",
              "    .dataframe tbody tr th {\n",
              "        vertical-align: top;\n",
              "    }\n",
              "\n",
              "    .dataframe thead th {\n",
              "        text-align: right;\n",
              "    }\n",
              "</style>\n",
              "<table border=\"1\" class=\"dataframe\">\n",
              "  <thead>\n",
              "    <tr style=\"text-align: right;\">\n",
              "      <th></th>\n",
              "      <th>Silver Medals</th>\n",
              "      <th>counts</th>\n",
              "    </tr>\n",
              "  </thead>\n",
              "  <tbody>\n",
              "    <tr>\n",
              "      <th>0</th>\n",
              "      <td>0</td>\n",
              "      <td>207</td>\n",
              "    </tr>\n",
              "    <tr>\n",
              "      <th>1</th>\n",
              "      <td>1</td>\n",
              "      <td>55</td>\n",
              "    </tr>\n",
              "    <tr>\n",
              "      <th>2</th>\n",
              "      <td>3</td>\n",
              "      <td>19</td>\n",
              "    </tr>\n",
              "    <tr>\n",
              "      <th>3</th>\n",
              "      <td>2</td>\n",
              "      <td>18</td>\n",
              "    </tr>\n",
              "    <tr>\n",
              "      <th>4</th>\n",
              "      <td>4</td>\n",
              "      <td>9</td>\n",
              "    </tr>\n",
              "    <tr>\n",
              "      <th>5</th>\n",
              "      <td>7</td>\n",
              "      <td>5</td>\n",
              "    </tr>\n",
              "    <tr>\n",
              "      <th>6</th>\n",
              "      <td>5</td>\n",
              "      <td>5</td>\n",
              "    </tr>\n",
              "    <tr>\n",
              "      <th>7</th>\n",
              "      <td>6</td>\n",
              "      <td>4</td>\n",
              "    </tr>\n",
              "    <tr>\n",
              "      <th>8</th>\n",
              "      <td>8</td>\n",
              "      <td>2</td>\n",
              "    </tr>\n",
              "    <tr>\n",
              "      <th>9</th>\n",
              "      <td>12</td>\n",
              "      <td>1</td>\n",
              "    </tr>\n",
              "  </tbody>\n",
              "</table>\n",
              "</div>"
            ],
            "text/plain": [
              "   Silver Medals  counts\n",
              "0              0     207\n",
              "1              1      55\n",
              "2              3      19\n",
              "3              2      18\n",
              "4              4       9\n",
              "5              7       5\n",
              "6              5       5\n",
              "7              6       4\n",
              "8              8       2\n",
              "9             12       1"
            ]
          },
          "metadata": {
            "tags": []
          },
          "execution_count": 40
        }
      ]
    },
    {
      "cell_type": "code",
      "metadata": {
        "id": "e9vMnuMrYefq",
        "colab": {
          "base_uri": "https://localhost:8080/",
          "height": 462
        },
        "outputId": "ac459a49-22c0-4a10-aaec-296323f75d95"
      },
      "source": [
        "plt.rcParams['figure.figsize'] = (12,6)\n",
        "\n",
        "sns.swarmplot(Silver2['counts'], Silver2['Silver Medals'], palette = 'twilight')\n",
        "plt.title('Silver Medal vs Counts', fontsize = 20)\n",
        "plt.show()"
      ],
      "execution_count": null,
      "outputs": [
        {
          "output_type": "stream",
          "text": [
            "/usr/local/lib/python3.6/dist-packages/seaborn/_decorators.py:43: FutureWarning: Pass the following variables as keyword args: x, y. From version 0.12, the only valid positional argument will be `data`, and passing other arguments without an explicit keyword will result in an error or misinterpretation.\n",
            "  FutureWarning\n"
          ],
          "name": "stderr"
        },
        {
          "output_type": "display_data",
          "data": {
            "image/png": "[encoded data removed]",
            "text/plain": [
              "<Figure size 864x432 with 1 Axes>"
            ]
          },
          "metadata": {
            "tags": [],
            "needs_background": "light"
          }
        }
      ]
    },
    {
      "cell_type": "code",
      "metadata": {
        "id": "UeyRKcvyqFM-",
        "colab": {
          "base_uri": "https://localhost:8080/",
          "height": 787
        },
        "outputId": "40370908-a0ef-48a0-e4e1-157f54f1a5db"
      },
      "source": [
        "Bronze2 = data.totalBronzeMedals.value_counts().to_frame().reset_index().rename(columns={\"index\":\"Bronze Medals\",\"totalBronzeMedals\":\"counts\"})\n",
        "Bronze2"
      ],
      "execution_count": null,
      "outputs": [
        {
          "output_type": "execute_result",
          "data": {
            "text/html": [
              "<div>\n",
              "<style scoped>\n",
              "    .dataframe tbody tr th:only-of-type {\n",
              "        vertical-align: middle;\n",
              "    }\n",
              "\n",
              "    .dataframe tbody tr th {\n",
              "        vertical-align: top;\n",
              "    }\n",
              "\n",
              "    .dataframe thead th {\n",
              "        text-align: right;\n",
              "    }\n",
              "</style>\n",
              "<table border=\"1\" class=\"dataframe\">\n",
              "  <thead>\n",
              "    <tr style=\"text-align: right;\">\n",
              "      <th></th>\n",
              "      <th>Bronze Medals</th>\n",
              "      <th>counts</th>\n",
              "    </tr>\n",
              "  </thead>\n",
              "  <tbody>\n",
              "    <tr>\n",
              "      <th>0</th>\n",
              "      <td>3</td>\n",
              "      <td>127</td>\n",
              "    </tr>\n",
              "    <tr>\n",
              "      <th>1</th>\n",
              "      <td>4</td>\n",
              "      <td>46</td>\n",
              "    </tr>\n",
              "    <tr>\n",
              "      <th>2</th>\n",
              "      <td>2</td>\n",
              "      <td>38</td>\n",
              "    </tr>\n",
              "    <tr>\n",
              "      <th>3</th>\n",
              "      <td>5</td>\n",
              "      <td>30</td>\n",
              "    </tr>\n",
              "    <tr>\n",
              "      <th>4</th>\n",
              "      <td>1</td>\n",
              "      <td>17</td>\n",
              "    </tr>\n",
              "    <tr>\n",
              "      <th>5</th>\n",
              "      <td>6</td>\n",
              "      <td>17</td>\n",
              "    </tr>\n",
              "    <tr>\n",
              "      <th>6</th>\n",
              "      <td>7</td>\n",
              "      <td>15</td>\n",
              "    </tr>\n",
              "    <tr>\n",
              "      <th>7</th>\n",
              "      <td>11</td>\n",
              "      <td>8</td>\n",
              "    </tr>\n",
              "    <tr>\n",
              "      <th>8</th>\n",
              "      <td>0</td>\n",
              "      <td>6</td>\n",
              "    </tr>\n",
              "    <tr>\n",
              "      <th>9</th>\n",
              "      <td>8</td>\n",
              "      <td>3</td>\n",
              "    </tr>\n",
              "    <tr>\n",
              "      <th>10</th>\n",
              "      <td>13</td>\n",
              "      <td>3</td>\n",
              "    </tr>\n",
              "    <tr>\n",
              "      <th>11</th>\n",
              "      <td>9</td>\n",
              "      <td>2</td>\n",
              "    </tr>\n",
              "    <tr>\n",
              "      <th>12</th>\n",
              "      <td>10</td>\n",
              "      <td>1</td>\n",
              "    </tr>\n",
              "    <tr>\n",
              "      <th>13</th>\n",
              "      <td>51</td>\n",
              "      <td>1</td>\n",
              "    </tr>\n",
              "    <tr>\n",
              "      <th>14</th>\n",
              "      <td>43</td>\n",
              "      <td>1</td>\n",
              "    </tr>\n",
              "    <tr>\n",
              "      <th>15</th>\n",
              "      <td>14</td>\n",
              "      <td>1</td>\n",
              "    </tr>\n",
              "    <tr>\n",
              "      <th>16</th>\n",
              "      <td>16</td>\n",
              "      <td>1</td>\n",
              "    </tr>\n",
              "    <tr>\n",
              "      <th>17</th>\n",
              "      <td>19</td>\n",
              "      <td>1</td>\n",
              "    </tr>\n",
              "    <tr>\n",
              "      <th>18</th>\n",
              "      <td>20</td>\n",
              "      <td>1</td>\n",
              "    </tr>\n",
              "    <tr>\n",
              "      <th>19</th>\n",
              "      <td>22</td>\n",
              "      <td>1</td>\n",
              "    </tr>\n",
              "    <tr>\n",
              "      <th>20</th>\n",
              "      <td>23</td>\n",
              "      <td>1</td>\n",
              "    </tr>\n",
              "    <tr>\n",
              "      <th>21</th>\n",
              "      <td>25</td>\n",
              "      <td>1</td>\n",
              "    </tr>\n",
              "    <tr>\n",
              "      <th>22</th>\n",
              "      <td>28</td>\n",
              "      <td>1</td>\n",
              "    </tr>\n",
              "    <tr>\n",
              "      <th>23</th>\n",
              "      <td>39</td>\n",
              "      <td>1</td>\n",
              "    </tr>\n",
              "    <tr>\n",
              "      <th>24</th>\n",
              "      <td>12</td>\n",
              "      <td>1</td>\n",
              "    </tr>\n",
              "  </tbody>\n",
              "</table>\n",
              "</div>"
            ],
            "text/plain": [
              "    Bronze Medals  counts\n",
              "0               3     127\n",
              "1               4      46\n",
              "2               2      38\n",
              "3               5      30\n",
              "4               1      17\n",
              "5               6      17\n",
              "6               7      15\n",
              "7              11       8\n",
              "8               0       6\n",
              "9               8       3\n",
              "10             13       3\n",
              "11              9       2\n",
              "12             10       1\n",
              "13             51       1\n",
              "14             43       1\n",
              "15             14       1\n",
              "16             16       1\n",
              "17             19       1\n",
              "18             20       1\n",
              "19             22       1\n",
              "20             23       1\n",
              "21             25       1\n",
              "22             28       1\n",
              "23             39       1\n",
              "24             12       1"
            ]
          },
          "metadata": {
            "tags": []
          },
          "execution_count": 42
        }
      ]
    },
    {
      "cell_type": "code",
      "metadata": {
        "id": "Fg1MgnnuZBk5",
        "colab": {
          "base_uri": "https://localhost:8080/",
          "height": 462
        },
        "outputId": "4736bf74-6adc-4c29-d3f9-5d5ea964622b"
      },
      "source": [
        "plt.rcParams['figure.figsize'] = (12,6)\n",
        "\n",
        "sns.swarmplot(Bronze2['counts'], Bronze2['Bronze Medals'], palette = 'twilight')\n",
        "plt.title('Bronze Medal vs Counts', fontsize = 20)\n",
        "plt.show()"
      ],
      "execution_count": null,
      "outputs": [
        {
          "output_type": "stream",
          "text": [
            "/usr/local/lib/python3.6/dist-packages/seaborn/_decorators.py:43: FutureWarning: Pass the following variables as keyword args: x, y. From version 0.12, the only valid positional argument will be `data`, and passing other arguments without an explicit keyword will result in an error or misinterpretation.\n",
            "  FutureWarning\n"
          ],
          "name": "stderr"
        },
        {
          "output_type": "display_data",
          "data": {
            "image/png": "[encoded data removed]",
            "text/plain": [
              "<Figure size 864x432 with 1 Axes>"
            ]
          },
          "metadata": {
            "tags": [],
            "needs_background": "light"
          }
        }
      ]
    },
    {
      "cell_type": "code",
      "metadata": {
        "id": "swKnH3w_qRPa",
        "colab": {
          "base_uri": "https://localhost:8080/"
        },
        "outputId": "4d0ea03d-4380-48d2-a317-d8871b0a551b"
      },
      "source": [
        "Gold_medals = np.round(data['totalGoldMedals'].min())\n",
        "Silver_medals = np.round(data['totalSilverMedals'].min())\n",
        "Bronze_medals = np.round(data['totalBronzeMedals'].min())\n",
        "min_points = np.round(data['points'].min())\n",
        "\n",
        "print(\"Minimum no. of Gold Medals to any Dataset:\", Gold_medals)\n",
        "print(\"Minimum no. of Silver Medals to any Dataset:\", Silver_medals)\n",
        "print(\"Minimum no. of Bronze Medals to any Dataset:\", Bronze_medals)\n",
        "print(\"Minimum points to any Dataset:\", min_points)"
      ],
      "execution_count": null,
      "outputs": [
        {
          "output_type": "stream",
          "text": [
            "Minimum no. of Gold Medals to any Dataset: 0\n",
            "Minimum no. of Silver Medals to any Dataset: 0\n",
            "Minimum no. of Bronze Medals to any Dataset: 0\n",
            "Minimum points to any Dataset: 5.0\n"
          ],
          "name": "stdout"
        }
      ]
    },
    {
      "cell_type": "code",
      "metadata": {
        "id": "zOHhoILfqa1e",
        "colab": {
          "base_uri": "https://localhost:8080/"
        },
        "outputId": "4fa0fa25-427a-4d82-8a0b-31d37e24f2d9"
      },
      "source": [
        "Gold_medals = np.round(data['totalGoldMedals'].max())\n",
        "Silver_medals = np.round(data['totalSilverMedals'].max())\n",
        "Bronze_medals = np.round(data['totalBronzeMedals'].max())\n",
        "max_points = np.round(data['points'].max())\n",
        "\n",
        "print(\"Maximum no. of Gold Medals to any Dataset:\", Gold_medals)\n",
        "print(\"Mamimum no. of Silver Medals to any Dataset:\", Silver_medals)\n",
        "print(\"Maximum no. of Bronze Medals to any Dataset:\", Bronze_medals)\n",
        "print(\"Maximum points to any Dataset:\", max_points)"
      ],
      "execution_count": null,
      "outputs": [
        {
          "output_type": "stream",
          "text": [
            "Maximum no. of Gold Medals to any Dataset: 8\n",
            "Mamimum no. of Silver Medals to any Dataset: 12\n",
            "Maximum no. of Bronze Medals to any Dataset: 51\n",
            "Maximum points to any Dataset: 1031.0\n"
          ],
          "name": "stdout"
        }
      ]
    },
    {
      "cell_type": "code",
      "metadata": {
        "id": "s32gEiUFqjQg",
        "colab": {
          "base_uri": "https://localhost:8080/"
        },
        "outputId": "ce312a0c-386e-40a8-dd70-ad1d4f428f8b"
      },
      "source": [
        "Gold_medals = np.round(data['totalGoldMedals'].mean())\n",
        "Silver_medals = np.round(data['totalSilverMedals'].mean())\n",
        "Bronze_medals = np.round(data['totalBronzeMedals'].mean())\n",
        "avg_points = np.round(data['points'].mean())\n",
        "\n",
        "print(\"Average no. of Gold Medals:\", Gold_medals)\n",
        "print(\"Average no. of Silver Medals:\", Silver_medals)\n",
        "print(\"Average no. of Bronze Medals:\", Bronze_medals)\n",
        "print(\"Average points:\", avg_points)"
      ],
      "execution_count": null,
      "outputs": [
        {
          "output_type": "stream",
          "text": [
            "Average no. of Gold Medals: 0.0\n",
            "Average no. of Silver Medals: 1.0\n",
            "Average no. of Bronze Medals: 5.0\n",
            "Average points: 75.0\n"
          ],
          "name": "stdout"
        }
      ]
    },
    {
      "cell_type": "code",
      "metadata": {
        "id": "AXI81JKHviog",
        "colab": {
          "base_uri": "https://localhost:8080/",
          "height": 638
        },
        "outputId": "cdc204f7-40e7-436e-e125-18c81aed8f18"
      },
      "source": [
        "plt.rcParams['figure.figsize'] = (20,9)\n",
        "\n",
        "stemlines = plt.stem(data['currentRanking'], data['totalGoldMedals'])\n",
        "plt.setp(stemlines, color = 'indianred', linewidth = 0.2)\n",
        "plt.title('Gold Medal vs Current Ranking', fontsize = 24)\n",
        "plt.xlabel('Current Ranking', fontsize = 18)\n",
        "plt.ylabel('Gold Medal', fontsize = 18)\n",
        "plt.show()"
      ],
      "execution_count": null,
      "outputs": [
        {
          "output_type": "stream",
          "text": [
            "/usr/local/lib/python3.6/dist-packages/ipykernel_launcher.py:3: UserWarning: In Matplotlib 3.3 individual lines on a stem plot will be added as a LineCollection instead of individual lines. This significantly improves the performance of a stem plot. To remove this warning and switch to the new behaviour, set the \"use_line_collection\" keyword argument to True.\n",
            "  This is separate from the ipykernel package so we can avoid doing imports until\n"
          ],
          "name": "stderr"
        },
        {
          "output_type": "display_data",
          "data": {
            "image/png": "[encoded data removed]",
            "text/plain": [
              "<Figure size 1440x648 with 1 Axes>"
            ]
          },
          "metadata": {
            "tags": [],
            "needs_background": "light"
          }
        }
      ]
    },
    {
      "cell_type": "code",
      "metadata": {
        "id": "jHh4t6WWw0ty",
        "colab": {
          "base_uri": "https://localhost:8080/",
          "height": 638
        },
        "outputId": "25e9efd4-908f-454c-810e-f06a2024bffe"
      },
      "source": [
        "plt.rcParams['figure.figsize'] = (20,9)\n",
        "\n",
        "stemlines = plt.stem(data['currentRanking'], data['totalSilverMedals'])\n",
        "plt.setp(stemlines, color = 'darkorange', linewidth = 0.2)\n",
        "plt.title('Silver Medal vs Current Ranking', fontsize = 24)\n",
        "plt.xlabel('Current Ranking', fontsize = 18)\n",
        "plt.ylabel('Silver Medal', fontsize = 18)\n",
        "plt.show()"
      ],
      "execution_count": null,
      "outputs": [
        {
          "output_type": "stream",
          "text": [
            "/usr/local/lib/python3.6/dist-packages/ipykernel_launcher.py:3: UserWarning: In Matplotlib 3.3 individual lines on a stem plot will be added as a LineCollection instead of individual lines. This significantly improves the performance of a stem plot. To remove this warning and switch to the new behaviour, set the \"use_line_collection\" keyword argument to True.\n",
            "  This is separate from the ipykernel package so we can avoid doing imports until\n"
          ],
          "name": "stderr"
        },
        {
          "output_type": "display_data",
          "data": {
            "image/png": "[encoded data removed]",
            "text/plain": [
              "<Figure size 1440x648 with 1 Axes>"
            ]
          },
          "metadata": {
            "tags": [],
            "needs_background": "light"
          }
        }
      ]
    },
    {
      "cell_type": "code",
      "metadata": {
        "id": "i24w0smaxFeb",
        "colab": {
          "base_uri": "https://localhost:8080/",
          "height": 638
        },
        "outputId": "04a062e0-74be-43b8-c7d5-4e46942227a9"
      },
      "source": [
        "plt.rcParams['figure.figsize'] = (20,9)\n",
        "\n",
        "stemlines = plt.stem(data['currentRanking'], data['totalBronzeMedals'])\n",
        "plt.setp(stemlines, color = 'springgreen', linewidth = 0.2)\n",
        "plt.title('Bronze Medal vs Current Ranking', fontsize = 24)\n",
        "plt.xlabel('Current Ranking', fontsize = 18)\n",
        "plt.ylabel('Bronze Medal', fontsize = 18)\n",
        "plt.show()"
      ],
      "execution_count": null,
      "outputs": [
        {
          "output_type": "stream",
          "text": [
            "/usr/local/lib/python3.6/dist-packages/ipykernel_launcher.py:3: UserWarning: In Matplotlib 3.3 individual lines on a stem plot will be added as a LineCollection instead of individual lines. This significantly improves the performance of a stem plot. To remove this warning and switch to the new behaviour, set the \"use_line_collection\" keyword argument to True.\n",
            "  This is separate from the ipykernel package so we can avoid doing imports until\n"
          ],
          "name": "stderr"
        },
        {
          "output_type": "display_data",
          "data": {
            "image/png": "[encoded data removed]",
            "text/plain": [
              "<Figure size 1440x648 with 1 Axes>"
            ]
          },
          "metadata": {
            "tags": [],
            "needs_background": "light"
          }
        }
      ]
    },
    {
      "cell_type": "code",
      "metadata": {
        "id": "BnE1bDrKDDd3"
      },
      "source": [
        "x1 = data.drop(['currentRanking', 'displayName','tier', 'userUrl', 'joined'], axis=1)\n",
        "y1 = data.iloc[:, :1]"
      ],
      "execution_count": null,
      "outputs": []
    },
    {
      "cell_type": "code",
      "metadata": {
        "id": "iHRYcjsyDbkV",
        "colab": {
          "base_uri": "https://localhost:8080/",
          "height": 212
        },
        "outputId": "5c5b68d3-4fcd-4276-fb59-0a6e7b76f1d0"
      },
      "source": [
        "print(x1.shape)\n",
        "x1.head()"
      ],
      "execution_count": null,
      "outputs": [
        {
          "output_type": "stream",
          "text": [
            "(325, 5)\n"
          ],
          "name": "stdout"
        },
        {
          "output_type": "execute_result",
          "data": {
            "text/html": [
              "<div>\n",
              "<style scoped>\n",
              "    .dataframe tbody tr th:only-of-type {\n",
              "        vertical-align: middle;\n",
              "    }\n",
              "\n",
              "    .dataframe tbody tr th {\n",
              "        vertical-align: top;\n",
              "    }\n",
              "\n",
              "    .dataframe thead th {\n",
              "        text-align: right;\n",
              "    }\n",
              "</style>\n",
              "<table border=\"1\" class=\"dataframe\">\n",
              "  <thead>\n",
              "    <tr style=\"text-align: right;\">\n",
              "      <th></th>\n",
              "      <th>points</th>\n",
              "      <th>totalGoldMedals</th>\n",
              "      <th>totalSilverMedals</th>\n",
              "      <th>totalBronzeMedals</th>\n",
              "      <th>tier_Cleaned</th>\n",
              "    </tr>\n",
              "  </thead>\n",
              "  <tbody>\n",
              "    <tr>\n",
              "      <th>0</th>\n",
              "      <td>1031.0</td>\n",
              "      <td>8</td>\n",
              "      <td>8</td>\n",
              "      <td>22</td>\n",
              "      <td>1</td>\n",
              "    </tr>\n",
              "    <tr>\n",
              "      <th>1</th>\n",
              "      <td>1001.0</td>\n",
              "      <td>5</td>\n",
              "      <td>5</td>\n",
              "      <td>3</td>\n",
              "      <td>1</td>\n",
              "    </tr>\n",
              "    <tr>\n",
              "      <th>2</th>\n",
              "      <td>880.0</td>\n",
              "      <td>6</td>\n",
              "      <td>5</td>\n",
              "      <td>28</td>\n",
              "      <td>1</td>\n",
              "    </tr>\n",
              "    <tr>\n",
              "      <th>3</th>\n",
              "      <td>656.0</td>\n",
              "      <td>7</td>\n",
              "      <td>12</td>\n",
              "      <td>51</td>\n",
              "      <td>1</td>\n",
              "    </tr>\n",
              "    <tr>\n",
              "      <th>4</th>\n",
              "      <td>636.0</td>\n",
              "      <td>7</td>\n",
              "      <td>4</td>\n",
              "      <td>0</td>\n",
              "      <td>1</td>\n",
              "    </tr>\n",
              "  </tbody>\n",
              "</table>\n",
              "</div>"
            ],
            "text/plain": [
              "   points  totalGoldMedals  totalSilverMedals  totalBronzeMedals  tier_Cleaned\n",
              "0  1031.0                8                  8                 22             1\n",
              "1  1001.0                5                  5                  3             1\n",
              "2   880.0                6                  5                 28             1\n",
              "3   656.0                7                 12                 51             1\n",
              "4   636.0                7                  4                  0             1"
            ]
          },
          "metadata": {
            "tags": []
          },
          "execution_count": 54
        }
      ]
    },
    {
      "cell_type": "code",
      "metadata": {
        "id": "HLFO-7hDDgmz",
        "colab": {
          "base_uri": "https://localhost:8080/",
          "height": 212
        },
        "outputId": "68caa577-6641-46cc-960e-f0e4688435b3"
      },
      "source": [
        "print(y1.shape)\n",
        "y1.head()"
      ],
      "execution_count": null,
      "outputs": [
        {
          "output_type": "stream",
          "text": [
            "(325, 1)\n"
          ],
          "name": "stdout"
        },
        {
          "output_type": "execute_result",
          "data": {
            "text/html": [
              "<div>\n",
              "<style scoped>\n",
              "    .dataframe tbody tr th:only-of-type {\n",
              "        vertical-align: middle;\n",
              "    }\n",
              "\n",
              "    .dataframe tbody tr th {\n",
              "        vertical-align: top;\n",
              "    }\n",
              "\n",
              "    .dataframe thead th {\n",
              "        text-align: right;\n",
              "    }\n",
              "</style>\n",
              "<table border=\"1\" class=\"dataframe\">\n",
              "  <thead>\n",
              "    <tr style=\"text-align: right;\">\n",
              "      <th></th>\n",
              "      <th>currentRanking</th>\n",
              "    </tr>\n",
              "  </thead>\n",
              "  <tbody>\n",
              "    <tr>\n",
              "      <th>0</th>\n",
              "      <td>1</td>\n",
              "    </tr>\n",
              "    <tr>\n",
              "      <th>1</th>\n",
              "      <td>2</td>\n",
              "    </tr>\n",
              "    <tr>\n",
              "      <th>2</th>\n",
              "      <td>3</td>\n",
              "    </tr>\n",
              "    <tr>\n",
              "      <th>3</th>\n",
              "      <td>4</td>\n",
              "    </tr>\n",
              "    <tr>\n",
              "      <th>4</th>\n",
              "      <td>5</td>\n",
              "    </tr>\n",
              "  </tbody>\n",
              "</table>\n",
              "</div>"
            ],
            "text/plain": [
              "   currentRanking\n",
              "0               1\n",
              "1               2\n",
              "2               3\n",
              "3               4\n",
              "4               5"
            ]
          },
          "metadata": {
            "tags": []
          },
          "execution_count": 55
        }
      ]
    },
    {
      "cell_type": "code",
      "metadata": {
        "id": "GGo0sopiDwWt",
        "colab": {
          "base_uri": "https://localhost:8080/"
        },
        "outputId": "79539393-8afa-41b8-9b1d-806d90ae6eef"
      },
      "source": [
        "from sklearn.model_selection import train_test_split\n",
        "\n",
        "x1_train, x1_test, y1_train, y1_test = train_test_split(x1, y1, test_size = 0.2, random_state = 0)\n",
        "\n",
        "print(\"Shape of x_train :\", x1_train.shape)\n",
        "print(\"Shape of x_test :\", x1_test.shape)\n",
        "print(\"Shape of y_train :\", y1_train.shape)\n",
        "print(\"Shape of y_test :\", y1_test.shape)"
      ],
      "execution_count": null,
      "outputs": [
        {
          "output_type": "stream",
          "text": [
            "Shape of x_train : (260, 5)\n",
            "Shape of x_test : (65, 5)\n",
            "Shape of y_train : (260, 1)\n",
            "Shape of y_test : (65, 1)\n"
          ],
          "name": "stdout"
        }
      ]
    },
    {
      "cell_type": "markdown",
      "metadata": {
        "id": "8DW06bH-Exim"
      },
      "source": [
        "LINEAR REGRESSION"
      ]
    },
    {
      "cell_type": "code",
      "metadata": {
        "id": "X2ND2aaRD30P",
        "colab": {
          "base_uri": "https://localhost:8080/"
        },
        "outputId": "a612e761-4d03-4b72-9e7b-4752325be2e5"
      },
      "source": [
        "from sklearn.linear_model import LinearRegression\n",
        "\n",
        "from sklearn.metrics import mean_squared_error\n",
        "from sklearn.metrics import r2_score\n",
        "\n",
        "linreg1 = LinearRegression()\n",
        "linreg1.fit(x1_train, y1_train)\n",
        "\n",
        "r_sq1 = linreg1.score(x,y)\n",
        "print(\"coefficient of determination: \", r_sq1)\n",
        "\n",
        "print(\"intercept: \", linreg1.intercept_)\n",
        "print(\"Slope: \", linreg1.coef_)\n",
        "\n",
        "linreg_pred1 = linreg1.predict(x1_test)\n",
        "\n",
        "mse1 = mean_squared_error(y1_test, linreg_pred1)\n",
        "rmse1 = np.sqrt(mse1)\n",
        "r21 = r2_score(y1_test, linreg_pred1)\n",
        "\n",
        "print(\"Root Mean Squared Error : \",rmse1)\n",
        "print(\"R-Squared Error:\", r21)"
      ],
      "execution_count": null,
      "outputs": [
        {
          "output_type": "stream",
          "text": [
            "coefficient of determination:  -5.118813747856947\n",
            "intercept:  [205.80585369]\n",
            "Slope:  [[ -0.27887971   4.93719436 -18.8497684   -0.33613728  -1.45974038]]\n",
            "Root Mean Squared Error :  63.98075354940157\n",
            "R-Squared Error: 0.4597479012692697\n"
          ],
          "name": "stdout"
        }
      ]
    },
    {
      "cell_type": "markdown",
      "metadata": {
        "id": "zP6d259fFOn2"
      },
      "source": [
        "SUPPORT VECTOR MACHINE"
      ]
    },
    {
      "cell_type": "code",
      "metadata": {
        "id": "GFV69JBYEwwD",
        "colab": {
          "base_uri": "https://localhost:8080/"
        },
        "outputId": "57a9311e-49e8-462c-be8e-a5ecc007b6d1"
      },
      "source": [
        "from sklearn.svm import SVR\n",
        "\n",
        "from sklearn.metrics import mean_squared_error\n",
        "from sklearn.metrics import r2_score\n",
        "\n",
        "svr1 = SVR(kernel = 'linear')\n",
        "svr1.fit(x1_train, y1_train)\n",
        "\n",
        "svr_pred1 = svr1.predict(x1_test)\n",
        "\n",
        "mse1 = mean_squared_error(y1_test, svr_pred1)\n",
        "rmse1 = np.sqrt(mse1)\n",
        "r21 = r2_score(y1_test, svr_pred1)\n",
        "\n",
        "print(\"Root Mean Squared Error : \",rmse1)\n",
        "print(\"R-Squared Error:\", r21)"
      ],
      "execution_count": null,
      "outputs": [
        {
          "output_type": "stream",
          "text": [
            "Root Mean Squared Error :  55.5934295356651\n",
            "R-Squared Error: 0.5921084638287013\n"
          ],
          "name": "stdout"
        },
        {
          "output_type": "stream",
          "text": [
            "/usr/local/lib/python3.6/dist-packages/sklearn/utils/validation.py:760: DataConversionWarning: A column-vector y was passed when a 1d array was expected. Please change the shape of y to (n_samples, ), for example using ravel().\n",
            "  y = column_or_1d(y, warn=True)\n"
          ],
          "name": "stderr"
        }
      ]
    },
    {
      "cell_type": "markdown",
      "metadata": {
        "id": "M-whHYuNF5dh"
      },
      "source": [
        "RANDOM FOREST"
      ]
    },
    {
      "cell_type": "code",
      "metadata": {
        "id": "vPXDz1YoFu8r",
        "colab": {
          "base_uri": "https://localhost:8080/"
        },
        "outputId": "02c9cff0-1a72-4306-d783-5066f01a9866"
      },
      "source": [
        "from sklearn.ensemble import RandomForestRegressor\n",
        "\n",
        "from sklearn.metrics import mean_squared_error\n",
        "from sklearn.metrics import r2_score\n",
        "\n",
        "rfr = RandomForestRegressor()\n",
        "rfr.fit(x1_train, y1_train)\n",
        "\n",
        "rfr_pred = linreg.predict(x1_test)\n",
        "\n",
        "mse1 = mean_squared_error(y1_test, rfr_pred)\n",
        "rmse1 = np.sqrt(mse1)\n",
        "r21 = r2_score(y1_test, rfr_pred)\n",
        "\n",
        "print(\"Root Mean Squared Error : \",rmse1)\n",
        "print(\"R-Squared Error:\", r21)"
      ],
      "execution_count": null,
      "outputs": [
        {
          "output_type": "stream",
          "text": [
            "Root Mean Squared Error :  144856.90917736272\n",
            "R-Squared Error: -2769338.4340385646\n"
          ],
          "name": "stdout"
        },
        {
          "output_type": "stream",
          "text": [
            "/usr/local/lib/python3.6/dist-packages/ipykernel_launcher.py:7: DataConversionWarning: A column-vector y was passed when a 1d array was expected. Please change the shape of y to (n_samples,), for example using ravel().\n",
            "  import sys\n"
          ],
          "name": "stderr"
        }
      ]
    },
    {
      "cell_type": "markdown",
      "metadata": {
        "id": "xaroxL6JGhYw"
      },
      "source": [
        "Xg Boost"
      ]
    },
    {
      "cell_type": "code",
      "metadata": {
        "id": "RYORKSn-GAeF",
        "colab": {
          "base_uri": "https://localhost:8080/"
        },
        "outputId": "5f8eb237-1ee9-4faf-b690-047fff3e2a73"
      },
      "source": [
        "from sklearn.ensemble import ExtraTreesRegressor\n",
        "\n",
        "from sklearn.metrics import mean_squared_error\n",
        "from sklearn.metrics import r2_score\n",
        "\n",
        "etr1 = ExtraTreesRegressor()\n",
        "etr1.fit(x1_train, y1_train)\n",
        "\n",
        "etr_pred1 = etr1.predict(x1_test)\n",
        "\n",
        "mse1 = mean_squared_error(y1_test, etr_pred1)\n",
        "rmse1 = np.sqrt(mse1)\n",
        "r21 = r2_score(y1_test, etr_pred1)\n",
        "\n",
        "print(\"Root Mean Squared Error : \",rmse1)\n",
        "print(\"R-Squared Error:\", r21)"
      ],
      "execution_count": null,
      "outputs": [
        {
          "output_type": "stream",
          "text": [
            "Root Mean Squared Error :  3.168457306116068\n",
            "R-Squared Error: 0.9986750683332285\n"
          ],
          "name": "stdout"
        },
        {
          "output_type": "stream",
          "text": [
            "/usr/local/lib/python3.6/dist-packages/ipykernel_launcher.py:7: DataConversionWarning: A column-vector y was passed when a 1d array was expected. Please change the shape of y to (n_samples,), for example using ravel().\n",
            "  import sys\n"
          ],
          "name": "stderr"
        }
      ]
    },
    {
      "cell_type": "markdown",
      "metadata": {
        "id": "2nq7Im1ZbCe1"
      },
      "source": [
        "## **DATASET 3**"
      ]
    },
    {
      "cell_type": "code",
      "metadata": {
        "id": "hx9Pi12bZvgP",
        "colab": {
          "base_uri": "https://localhost:8080/",
          "height": 212
        },
        "outputId": "9581aca5-7ae6-4da4-da17-bb838bba51fd"
      },
      "source": [
        "#Loading Dataset 3\n",
        "Notebook = pd.read_csv('notebooks_rankings.csv')\n",
        "print(Notebook.shape)\n",
        "Notebook.head()"
      ],
      "execution_count": null,
      "outputs": [
        {
          "output_type": "stream",
          "text": [
            "(1567, 9)\n"
          ],
          "name": "stdout"
        },
        {
          "output_type": "execute_result",
          "data": {
            "text/html": [
              "<div>\n",
              "<style scoped>\n",
              "    .dataframe tbody tr th:only-of-type {\n",
              "        vertical-align: middle;\n",
              "    }\n",
              "\n",
              "    .dataframe tbody tr th {\n",
              "        vertical-align: top;\n",
              "    }\n",
              "\n",
              "    .dataframe thead th {\n",
              "        text-align: right;\n",
              "    }\n",
              "</style>\n",
              "<table border=\"1\" class=\"dataframe\">\n",
              "  <thead>\n",
              "    <tr style=\"text-align: right;\">\n",
              "      <th></th>\n",
              "      <th>currentRanking</th>\n",
              "      <th>displayName</th>\n",
              "      <th>userUrl</th>\n",
              "      <th>tier</th>\n",
              "      <th>points</th>\n",
              "      <th>joined</th>\n",
              "      <th>totalGoldMedals</th>\n",
              "      <th>totalSilverMedals</th>\n",
              "      <th>totalBronzeMedals</th>\n",
              "    </tr>\n",
              "  </thead>\n",
              "  <tbody>\n",
              "    <tr>\n",
              "      <th>0</th>\n",
              "      <td>1</td>\n",
              "      <td>Chris Deotte</td>\n",
              "      <td>/cdeotte</td>\n",
              "      <td>grandmaster</td>\n",
              "      <td>3974.0</td>\n",
              "      <td>2018-03-14T22:51:30.63Z</td>\n",
              "      <td>43</td>\n",
              "      <td>11</td>\n",
              "      <td>3</td>\n",
              "    </tr>\n",
              "    <tr>\n",
              "      <th>1</th>\n",
              "      <td>2</td>\n",
              "      <td>DanB</td>\n",
              "      <td>/dansbecker</td>\n",
              "      <td>grandmaster</td>\n",
              "      <td>3379.0</td>\n",
              "      <td>2011-04-06T17:55:23.257Z</td>\n",
              "      <td>42</td>\n",
              "      <td>3</td>\n",
              "      <td>22</td>\n",
              "    </tr>\n",
              "    <tr>\n",
              "      <th>2</th>\n",
              "      <td>3</td>\n",
              "      <td>Andrew Lukyanenko</td>\n",
              "      <td>/artgor</td>\n",
              "      <td>grandmaster</td>\n",
              "      <td>3258.0</td>\n",
              "      <td>2016-09-24T18:37:08.813Z</td>\n",
              "      <td>40</td>\n",
              "      <td>20</td>\n",
              "      <td>25</td>\n",
              "    </tr>\n",
              "    <tr>\n",
              "      <th>3</th>\n",
              "      <td>4</td>\n",
              "      <td>Abhishek Thakur</td>\n",
              "      <td>/abhishek</td>\n",
              "      <td>grandmaster</td>\n",
              "      <td>2603.0</td>\n",
              "      <td>2011-01-12T03:44:52Z</td>\n",
              "      <td>31</td>\n",
              "      <td>16</td>\n",
              "      <td>14</td>\n",
              "    </tr>\n",
              "    <tr>\n",
              "      <th>4</th>\n",
              "      <td>5</td>\n",
              "      <td>Alex Shonenkov</td>\n",
              "      <td>/shonenkov</td>\n",
              "      <td>grandmaster</td>\n",
              "      <td>2125.0</td>\n",
              "      <td>2018-05-17T08:49:26.743Z</td>\n",
              "      <td>18</td>\n",
              "      <td>3</td>\n",
              "      <td>5</td>\n",
              "    </tr>\n",
              "  </tbody>\n",
              "</table>\n",
              "</div>"
            ],
            "text/plain": [
              "   currentRanking        displayName  ... totalSilverMedals totalBronzeMedals\n",
              "0               1       Chris Deotte  ...                11                 3\n",
              "1               2               DanB  ...                 3                22\n",
              "2               3  Andrew Lukyanenko  ...                20                25\n",
              "3               4    Abhishek Thakur  ...                16                14\n",
              "4               5     Alex Shonenkov  ...                 3                 5\n",
              "\n",
              "[5 rows x 9 columns]"
            ]
          },
          "metadata": {
            "tags": []
          },
          "execution_count": 64
        }
      ]
    },
    {
      "cell_type": "code",
      "metadata": {
        "id": "KZFoeMfiaGVm",
        "colab": {
          "base_uri": "https://localhost:8080/"
        },
        "outputId": "6314060b-290a-4118-becb-938cc78731b9"
      },
      "source": [
        "Notebook.isnull().sum()"
      ],
      "execution_count": null,
      "outputs": [
        {
          "output_type": "execute_result",
          "data": {
            "text/plain": [
              "currentRanking       0\n",
              "displayName          0\n",
              "userUrl              0\n",
              "tier                 0\n",
              "points               0\n",
              "joined               0\n",
              "totalGoldMedals      0\n",
              "totalSilverMedals    0\n",
              "totalBronzeMedals    0\n",
              "dtype: int64"
            ]
          },
          "metadata": {
            "tags": []
          },
          "execution_count": 65
        }
      ]
    },
    {
      "cell_type": "code",
      "metadata": {
        "id": "9-FR49HetvLQ",
        "colab": {
          "base_uri": "https://localhost:8080/",
          "height": 136
        },
        "outputId": "08e95f83-ca07-47d2-d1ae-79b9b55ce0d9"
      },
      "source": [
        "Tier3 = Notebook.tier.value_counts().to_frame().reset_index().rename(columns={\"index\":\"tier\",\"tier\":\"counts\"})\n",
        "Tier3"
      ],
      "execution_count": null,
      "outputs": [
        {
          "output_type": "execute_result",
          "data": {
            "text/html": [
              "<div>\n",
              "<style scoped>\n",
              "    .dataframe tbody tr th:only-of-type {\n",
              "        vertical-align: middle;\n",
              "    }\n",
              "\n",
              "    .dataframe tbody tr th {\n",
              "        vertical-align: top;\n",
              "    }\n",
              "\n",
              "    .dataframe thead th {\n",
              "        text-align: right;\n",
              "    }\n",
              "</style>\n",
              "<table border=\"1\" class=\"dataframe\">\n",
              "  <thead>\n",
              "    <tr style=\"text-align: right;\">\n",
              "      <th></th>\n",
              "      <th>tier</th>\n",
              "      <th>counts</th>\n",
              "    </tr>\n",
              "  </thead>\n",
              "  <tbody>\n",
              "    <tr>\n",
              "      <th>0</th>\n",
              "      <td>expert</td>\n",
              "      <td>1411</td>\n",
              "    </tr>\n",
              "    <tr>\n",
              "      <th>1</th>\n",
              "      <td>master</td>\n",
              "      <td>122</td>\n",
              "    </tr>\n",
              "    <tr>\n",
              "      <th>2</th>\n",
              "      <td>grandmaster</td>\n",
              "      <td>34</td>\n",
              "    </tr>\n",
              "  </tbody>\n",
              "</table>\n",
              "</div>"
            ],
            "text/plain": [
              "          tier  counts\n",
              "0       expert    1411\n",
              "1       master     122\n",
              "2  grandmaster      34"
            ]
          },
          "metadata": {
            "tags": []
          },
          "execution_count": 66
        }
      ]
    },
    {
      "cell_type": "code",
      "metadata": {
        "id": "OTIqzG9yJ9Lt",
        "colab": {
          "base_uri": "https://localhost:8080/",
          "height": 402
        },
        "outputId": "00958fe1-21ee-4fca-f538-eea7151d232b"
      },
      "source": [
        "Notebook[\"tier\"] = Notebook[\"tier\"].astype('category')\n",
        "Notebook[\"tier_Cleaned\"] = Notebook[\"tier\"].cat.codes\n",
        "Notebook"
      ],
      "execution_count": null,
      "outputs": [
        {
          "output_type": "execute_result",
          "data": {
            "text/html": [
              "<div>\n",
              "<style scoped>\n",
              "    .dataframe tbody tr th:only-of-type {\n",
              "        vertical-align: middle;\n",
              "    }\n",
              "\n",
              "    .dataframe tbody tr th {\n",
              "        vertical-align: top;\n",
              "    }\n",
              "\n",
              "    .dataframe thead th {\n",
              "        text-align: right;\n",
              "    }\n",
              "</style>\n",
              "<table border=\"1\" class=\"dataframe\">\n",
              "  <thead>\n",
              "    <tr style=\"text-align: right;\">\n",
              "      <th></th>\n",
              "      <th>currentRanking</th>\n",
              "      <th>displayName</th>\n",
              "      <th>userUrl</th>\n",
              "      <th>tier</th>\n",
              "      <th>points</th>\n",
              "      <th>joined</th>\n",
              "      <th>totalGoldMedals</th>\n",
              "      <th>totalSilverMedals</th>\n",
              "      <th>totalBronzeMedals</th>\n",
              "      <th>tier_Cleaned</th>\n",
              "    </tr>\n",
              "  </thead>\n",
              "  <tbody>\n",
              "    <tr>\n",
              "      <th>0</th>\n",
              "      <td>1</td>\n",
              "      <td>Chris Deotte</td>\n",
              "      <td>/cdeotte</td>\n",
              "      <td>grandmaster</td>\n",
              "      <td>3974.0</td>\n",
              "      <td>2018-03-14T22:51:30.63Z</td>\n",
              "      <td>43</td>\n",
              "      <td>11</td>\n",
              "      <td>3</td>\n",
              "      <td>1</td>\n",
              "    </tr>\n",
              "    <tr>\n",
              "      <th>1</th>\n",
              "      <td>2</td>\n",
              "      <td>DanB</td>\n",
              "      <td>/dansbecker</td>\n",
              "      <td>grandmaster</td>\n",
              "      <td>3379.0</td>\n",
              "      <td>2011-04-06T17:55:23.257Z</td>\n",
              "      <td>42</td>\n",
              "      <td>3</td>\n",
              "      <td>22</td>\n",
              "      <td>1</td>\n",
              "    </tr>\n",
              "    <tr>\n",
              "      <th>2</th>\n",
              "      <td>3</td>\n",
              "      <td>Andrew Lukyanenko</td>\n",
              "      <td>/artgor</td>\n",
              "      <td>grandmaster</td>\n",
              "      <td>3258.0</td>\n",
              "      <td>2016-09-24T18:37:08.813Z</td>\n",
              "      <td>40</td>\n",
              "      <td>20</td>\n",
              "      <td>25</td>\n",
              "      <td>1</td>\n",
              "    </tr>\n",
              "    <tr>\n",
              "      <th>3</th>\n",
              "      <td>4</td>\n",
              "      <td>Abhishek Thakur</td>\n",
              "      <td>/abhishek</td>\n",
              "      <td>grandmaster</td>\n",
              "      <td>2603.0</td>\n",
              "      <td>2011-01-12T03:44:52Z</td>\n",
              "      <td>31</td>\n",
              "      <td>16</td>\n",
              "      <td>14</td>\n",
              "      <td>1</td>\n",
              "    </tr>\n",
              "    <tr>\n",
              "      <th>4</th>\n",
              "      <td>5</td>\n",
              "      <td>Alex Shonenkov</td>\n",
              "      <td>/shonenkov</td>\n",
              "      <td>grandmaster</td>\n",
              "      <td>2125.0</td>\n",
              "      <td>2018-05-17T08:49:26.743Z</td>\n",
              "      <td>18</td>\n",
              "      <td>3</td>\n",
              "      <td>5</td>\n",
              "      <td>1</td>\n",
              "    </tr>\n",
              "    <tr>\n",
              "      <th>...</th>\n",
              "      <td>...</td>\n",
              "      <td>...</td>\n",
              "      <td>...</td>\n",
              "      <td>...</td>\n",
              "      <td>...</td>\n",
              "      <td>...</td>\n",
              "      <td>...</td>\n",
              "      <td>...</td>\n",
              "      <td>...</td>\n",
              "      <td>...</td>\n",
              "    </tr>\n",
              "    <tr>\n",
              "      <th>1562</th>\n",
              "      <td>1563</td>\n",
              "      <td>wacax</td>\n",
              "      <td>/wacaxx</td>\n",
              "      <td>expert</td>\n",
              "      <td>3.0</td>\n",
              "      <td>2011-11-17T14:27:31.747Z</td>\n",
              "      <td>0</td>\n",
              "      <td>0</td>\n",
              "      <td>5</td>\n",
              "      <td>0</td>\n",
              "    </tr>\n",
              "    <tr>\n",
              "      <th>1563</th>\n",
              "      <td>1564</td>\n",
              "      <td>Ben Watson</td>\n",
              "      <td>/benwatson</td>\n",
              "      <td>expert</td>\n",
              "      <td>3.0</td>\n",
              "      <td>2012-01-09T05:32:46.067Z</td>\n",
              "      <td>0</td>\n",
              "      <td>0</td>\n",
              "      <td>5</td>\n",
              "      <td>0</td>\n",
              "    </tr>\n",
              "    <tr>\n",
              "      <th>1564</th>\n",
              "      <td>1565</td>\n",
              "      <td>Ronin</td>\n",
              "      <td>/rdslater</td>\n",
              "      <td>expert</td>\n",
              "      <td>3.0</td>\n",
              "      <td>2015-12-08T01:59:41.863Z</td>\n",
              "      <td>0</td>\n",
              "      <td>0</td>\n",
              "      <td>5</td>\n",
              "      <td>0</td>\n",
              "    </tr>\n",
              "    <tr>\n",
              "      <th>1565</th>\n",
              "      <td>1566</td>\n",
              "      <td>MHA</td>\n",
              "      <td>/hamzaashraf</td>\n",
              "      <td>expert</td>\n",
              "      <td>3.0</td>\n",
              "      <td>2017-07-24T07:33:51.517Z</td>\n",
              "      <td>0</td>\n",
              "      <td>0</td>\n",
              "      <td>5</td>\n",
              "      <td>0</td>\n",
              "    </tr>\n",
              "    <tr>\n",
              "      <th>1566</th>\n",
              "      <td>1567</td>\n",
              "      <td>David Chudzicki</td>\n",
              "      <td>/dchudz</td>\n",
              "      <td>expert</td>\n",
              "      <td>2.0</td>\n",
              "      <td>2010-11-21T22:44:21Z</td>\n",
              "      <td>0</td>\n",
              "      <td>0</td>\n",
              "      <td>7</td>\n",
              "      <td>0</td>\n",
              "    </tr>\n",
              "  </tbody>\n",
              "</table>\n",
              "<p>1567 rows × 10 columns</p>\n",
              "</div>"
            ],
            "text/plain": [
              "      currentRanking        displayName  ... totalBronzeMedals tier_Cleaned\n",
              "0                  1       Chris Deotte  ...                 3            1\n",
              "1                  2               DanB  ...                22            1\n",
              "2                  3  Andrew Lukyanenko  ...                25            1\n",
              "3                  4    Abhishek Thakur  ...                14            1\n",
              "4                  5     Alex Shonenkov  ...                 5            1\n",
              "...              ...                ...  ...               ...          ...\n",
              "1562            1563              wacax  ...                 5            0\n",
              "1563            1564         Ben Watson  ...                 5            0\n",
              "1564            1565              Ronin  ...                 5            0\n",
              "1565            1566                MHA  ...                 5            0\n",
              "1566            1567    David Chudzicki  ...                 7            0\n",
              "\n",
              "[1567 rows x 10 columns]"
            ]
          },
          "metadata": {
            "tags": []
          },
          "execution_count": 67
        }
      ]
    },
    {
      "cell_type": "code",
      "metadata": {
        "id": "xvwCK_eKt0Ni",
        "colab": {
          "base_uri": "https://localhost:8080/",
          "height": 567
        },
        "outputId": "3d54f43d-14c6-44d0-d15a-b6ed94e3c0de"
      },
      "source": [
        "plt.rcParams['figure.figsize'] = (9, 9)\n",
        "\n",
        "plt.bar(Tier3['tier'],Tier3['counts'] , color ='cyan',  width = 0.4) \n",
        "  \n",
        "plt.xlabel(\"Tier\") \n",
        "plt.ylabel(\"No. of Notebooks Uploaded\") \n",
        "plt.title(\"No. of Notebooks\") \n",
        "plt.show()"
      ],
      "execution_count": null,
      "outputs": [
        {
          "output_type": "display_data",
          "data": {
            "image/png": "[encoded data removed]",
            "text/plain": [
              "<Figure size 648x648 with 1 Axes>"
            ]
          },
          "metadata": {
            "tags": [],
            "needs_background": "light"
          }
        }
      ]
    },
    {
      "cell_type": "code",
      "metadata": {
        "id": "CmbXzpVVt3SX",
        "colab": {
          "base_uri": "https://localhost:8080/",
          "height": 876
        },
        "outputId": "cf62cf02-728a-417f-d1bb-dcec412ba922"
      },
      "source": [
        "Gold3 = Notebook.totalGoldMedals.value_counts().to_frame().reset_index().rename(columns={\"index\":\"Gold Medals\",\"totalGoldMedals\":\"counts\"})\n",
        "Gold3"
      ],
      "execution_count": null,
      "outputs": [
        {
          "output_type": "execute_result",
          "data": {
            "text/html": [
              "<div>\n",
              "<style scoped>\n",
              "    .dataframe tbody tr th:only-of-type {\n",
              "        vertical-align: middle;\n",
              "    }\n",
              "\n",
              "    .dataframe tbody tr th {\n",
              "        vertical-align: top;\n",
              "    }\n",
              "\n",
              "    .dataframe thead th {\n",
              "        text-align: right;\n",
              "    }\n",
              "</style>\n",
              "<table border=\"1\" class=\"dataframe\">\n",
              "  <thead>\n",
              "    <tr style=\"text-align: right;\">\n",
              "      <th></th>\n",
              "      <th>Gold Medals</th>\n",
              "      <th>counts</th>\n",
              "    </tr>\n",
              "  </thead>\n",
              "  <tbody>\n",
              "    <tr>\n",
              "      <th>0</th>\n",
              "      <td>0</td>\n",
              "      <td>1064</td>\n",
              "    </tr>\n",
              "    <tr>\n",
              "      <th>1</th>\n",
              "      <td>1</td>\n",
              "      <td>202</td>\n",
              "    </tr>\n",
              "    <tr>\n",
              "      <th>2</th>\n",
              "      <td>2</td>\n",
              "      <td>100</td>\n",
              "    </tr>\n",
              "    <tr>\n",
              "      <th>3</th>\n",
              "      <td>3</td>\n",
              "      <td>47</td>\n",
              "    </tr>\n",
              "    <tr>\n",
              "      <th>4</th>\n",
              "      <td>4</td>\n",
              "      <td>35</td>\n",
              "    </tr>\n",
              "    <tr>\n",
              "      <th>5</th>\n",
              "      <td>5</td>\n",
              "      <td>29</td>\n",
              "    </tr>\n",
              "    <tr>\n",
              "      <th>6</th>\n",
              "      <td>6</td>\n",
              "      <td>16</td>\n",
              "    </tr>\n",
              "    <tr>\n",
              "      <th>7</th>\n",
              "      <td>15</td>\n",
              "      <td>10</td>\n",
              "    </tr>\n",
              "    <tr>\n",
              "      <th>8</th>\n",
              "      <td>7</td>\n",
              "      <td>9</td>\n",
              "    </tr>\n",
              "    <tr>\n",
              "      <th>9</th>\n",
              "      <td>8</td>\n",
              "      <td>8</td>\n",
              "    </tr>\n",
              "    <tr>\n",
              "      <th>10</th>\n",
              "      <td>12</td>\n",
              "      <td>6</td>\n",
              "    </tr>\n",
              "    <tr>\n",
              "      <th>11</th>\n",
              "      <td>11</td>\n",
              "      <td>6</td>\n",
              "    </tr>\n",
              "    <tr>\n",
              "      <th>12</th>\n",
              "      <td>16</td>\n",
              "      <td>5</td>\n",
              "    </tr>\n",
              "    <tr>\n",
              "      <th>13</th>\n",
              "      <td>9</td>\n",
              "      <td>5</td>\n",
              "    </tr>\n",
              "    <tr>\n",
              "      <th>14</th>\n",
              "      <td>17</td>\n",
              "      <td>4</td>\n",
              "    </tr>\n",
              "    <tr>\n",
              "      <th>15</th>\n",
              "      <td>13</td>\n",
              "      <td>3</td>\n",
              "    </tr>\n",
              "    <tr>\n",
              "      <th>16</th>\n",
              "      <td>18</td>\n",
              "      <td>3</td>\n",
              "    </tr>\n",
              "    <tr>\n",
              "      <th>17</th>\n",
              "      <td>20</td>\n",
              "      <td>3</td>\n",
              "    </tr>\n",
              "    <tr>\n",
              "      <th>18</th>\n",
              "      <td>10</td>\n",
              "      <td>2</td>\n",
              "    </tr>\n",
              "    <tr>\n",
              "      <th>19</th>\n",
              "      <td>22</td>\n",
              "      <td>2</td>\n",
              "    </tr>\n",
              "    <tr>\n",
              "      <th>20</th>\n",
              "      <td>42</td>\n",
              "      <td>1</td>\n",
              "    </tr>\n",
              "    <tr>\n",
              "      <th>21</th>\n",
              "      <td>14</td>\n",
              "      <td>1</td>\n",
              "    </tr>\n",
              "    <tr>\n",
              "      <th>22</th>\n",
              "      <td>24</td>\n",
              "      <td>1</td>\n",
              "    </tr>\n",
              "    <tr>\n",
              "      <th>23</th>\n",
              "      <td>25</td>\n",
              "      <td>1</td>\n",
              "    </tr>\n",
              "    <tr>\n",
              "      <th>24</th>\n",
              "      <td>29</td>\n",
              "      <td>1</td>\n",
              "    </tr>\n",
              "    <tr>\n",
              "      <th>25</th>\n",
              "      <td>31</td>\n",
              "      <td>1</td>\n",
              "    </tr>\n",
              "    <tr>\n",
              "      <th>26</th>\n",
              "      <td>40</td>\n",
              "      <td>1</td>\n",
              "    </tr>\n",
              "    <tr>\n",
              "      <th>27</th>\n",
              "      <td>43</td>\n",
              "      <td>1</td>\n",
              "    </tr>\n",
              "  </tbody>\n",
              "</table>\n",
              "</div>"
            ],
            "text/plain": [
              "    Gold Medals  counts\n",
              "0             0    1064\n",
              "1             1     202\n",
              "2             2     100\n",
              "3             3      47\n",
              "4             4      35\n",
              "5             5      29\n",
              "6             6      16\n",
              "7            15      10\n",
              "8             7       9\n",
              "9             8       8\n",
              "10           12       6\n",
              "11           11       6\n",
              "12           16       5\n",
              "13            9       5\n",
              "14           17       4\n",
              "15           13       3\n",
              "16           18       3\n",
              "17           20       3\n",
              "18           10       2\n",
              "19           22       2\n",
              "20           42       1\n",
              "21           14       1\n",
              "22           24       1\n",
              "23           25       1\n",
              "24           29       1\n",
              "25           31       1\n",
              "26           40       1\n",
              "27           43       1"
            ]
          },
          "metadata": {
            "tags": []
          },
          "execution_count": 69
        }
      ]
    },
    {
      "cell_type": "code",
      "metadata": {
        "id": "jVmf5KohZyeG",
        "colab": {
          "base_uri": "https://localhost:8080/",
          "height": 462
        },
        "outputId": "74641daf-03e6-4b61-83c6-306878ca8684"
      },
      "source": [
        "plt.rcParams['figure.figsize'] = (12,6)\n",
        "\n",
        "sns.swarmplot(Gold3['counts'], Gold3['Gold Medals'], palette = 'twilight')\n",
        "plt.title('Gold Medal vs Counts', fontsize = 20)\n",
        "plt.show()"
      ],
      "execution_count": null,
      "outputs": [
        {
          "output_type": "stream",
          "text": [
            "/usr/local/lib/python3.6/dist-packages/seaborn/_decorators.py:43: FutureWarning: Pass the following variables as keyword args: x, y. From version 0.12, the only valid positional argument will be `data`, and passing other arguments without an explicit keyword will result in an error or misinterpretation.\n",
            "  FutureWarning\n"
          ],
          "name": "stderr"
        },
        {
          "output_type": "display_data",
          "data": {
            "image/png": "[encoded data removed]",
            "text/plain": [
              "<Figure size 864x432 with 1 Axes>"
            ]
          },
          "metadata": {
            "tags": [],
            "needs_background": "light"
          }
        }
      ]
    },
    {
      "cell_type": "code",
      "metadata": {
        "id": "5iiDyZjKt6kn",
        "colab": {
          "base_uri": "https://localhost:8080/",
          "height": 698
        },
        "outputId": "edd92b97-fe78-4ae6-cf0d-9b4b6de27353"
      },
      "source": [
        "Silver3= Notebook.totalSilverMedals.value_counts().to_frame().reset_index().rename(columns={\"index\":\"Silver Medals\",\"totalSilverMedals\":\"counts\"})\n",
        "Silver3"
      ],
      "execution_count": null,
      "outputs": [
        {
          "output_type": "execute_result",
          "data": {
            "text/html": [
              "<div>\n",
              "<style scoped>\n",
              "    .dataframe tbody tr th:only-of-type {\n",
              "        vertical-align: middle;\n",
              "    }\n",
              "\n",
              "    .dataframe tbody tr th {\n",
              "        vertical-align: top;\n",
              "    }\n",
              "\n",
              "    .dataframe thead th {\n",
              "        text-align: right;\n",
              "    }\n",
              "</style>\n",
              "<table border=\"1\" class=\"dataframe\">\n",
              "  <thead>\n",
              "    <tr style=\"text-align: right;\">\n",
              "      <th></th>\n",
              "      <th>Silver Medals</th>\n",
              "      <th>counts</th>\n",
              "    </tr>\n",
              "  </thead>\n",
              "  <tbody>\n",
              "    <tr>\n",
              "      <th>0</th>\n",
              "      <td>0</td>\n",
              "      <td>612</td>\n",
              "    </tr>\n",
              "    <tr>\n",
              "      <th>1</th>\n",
              "      <td>1</td>\n",
              "      <td>319</td>\n",
              "    </tr>\n",
              "    <tr>\n",
              "      <th>2</th>\n",
              "      <td>2</td>\n",
              "      <td>218</td>\n",
              "    </tr>\n",
              "    <tr>\n",
              "      <th>3</th>\n",
              "      <td>3</td>\n",
              "      <td>129</td>\n",
              "    </tr>\n",
              "    <tr>\n",
              "      <th>4</th>\n",
              "      <td>4</td>\n",
              "      <td>74</td>\n",
              "    </tr>\n",
              "    <tr>\n",
              "      <th>5</th>\n",
              "      <td>5</td>\n",
              "      <td>52</td>\n",
              "    </tr>\n",
              "    <tr>\n",
              "      <th>6</th>\n",
              "      <td>8</td>\n",
              "      <td>36</td>\n",
              "    </tr>\n",
              "    <tr>\n",
              "      <th>7</th>\n",
              "      <td>6</td>\n",
              "      <td>32</td>\n",
              "    </tr>\n",
              "    <tr>\n",
              "      <th>8</th>\n",
              "      <td>7</td>\n",
              "      <td>23</td>\n",
              "    </tr>\n",
              "    <tr>\n",
              "      <th>9</th>\n",
              "      <td>9</td>\n",
              "      <td>22</td>\n",
              "    </tr>\n",
              "    <tr>\n",
              "      <th>10</th>\n",
              "      <td>10</td>\n",
              "      <td>17</td>\n",
              "    </tr>\n",
              "    <tr>\n",
              "      <th>11</th>\n",
              "      <td>12</td>\n",
              "      <td>6</td>\n",
              "    </tr>\n",
              "    <tr>\n",
              "      <th>12</th>\n",
              "      <td>13</td>\n",
              "      <td>6</td>\n",
              "    </tr>\n",
              "    <tr>\n",
              "      <th>13</th>\n",
              "      <td>11</td>\n",
              "      <td>5</td>\n",
              "    </tr>\n",
              "    <tr>\n",
              "      <th>14</th>\n",
              "      <td>14</td>\n",
              "      <td>3</td>\n",
              "    </tr>\n",
              "    <tr>\n",
              "      <th>15</th>\n",
              "      <td>16</td>\n",
              "      <td>3</td>\n",
              "    </tr>\n",
              "    <tr>\n",
              "      <th>16</th>\n",
              "      <td>17</td>\n",
              "      <td>3</td>\n",
              "    </tr>\n",
              "    <tr>\n",
              "      <th>17</th>\n",
              "      <td>15</td>\n",
              "      <td>2</td>\n",
              "    </tr>\n",
              "    <tr>\n",
              "      <th>18</th>\n",
              "      <td>20</td>\n",
              "      <td>2</td>\n",
              "    </tr>\n",
              "    <tr>\n",
              "      <th>19</th>\n",
              "      <td>30</td>\n",
              "      <td>1</td>\n",
              "    </tr>\n",
              "    <tr>\n",
              "      <th>20</th>\n",
              "      <td>24</td>\n",
              "      <td>1</td>\n",
              "    </tr>\n",
              "    <tr>\n",
              "      <th>21</th>\n",
              "      <td>36</td>\n",
              "      <td>1</td>\n",
              "    </tr>\n",
              "  </tbody>\n",
              "</table>\n",
              "</div>"
            ],
            "text/plain": [
              "    Silver Medals  counts\n",
              "0               0     612\n",
              "1               1     319\n",
              "2               2     218\n",
              "3               3     129\n",
              "4               4      74\n",
              "5               5      52\n",
              "6               8      36\n",
              "7               6      32\n",
              "8               7      23\n",
              "9               9      22\n",
              "10             10      17\n",
              "11             12       6\n",
              "12             13       6\n",
              "13             11       5\n",
              "14             14       3\n",
              "15             16       3\n",
              "16             17       3\n",
              "17             15       2\n",
              "18             20       2\n",
              "19             30       1\n",
              "20             24       1\n",
              "21             36       1"
            ]
          },
          "metadata": {
            "tags": []
          },
          "execution_count": 71
        }
      ]
    },
    {
      "cell_type": "code",
      "metadata": {
        "id": "4L6P6vizZ_Du",
        "colab": {
          "base_uri": "https://localhost:8080/",
          "height": 462
        },
        "outputId": "e4d6e439-19ed-40a6-fe4a-172d7455ca30"
      },
      "source": [
        "plt.rcParams['figure.figsize'] = (12,6)\n",
        "\n",
        "sns.swarmplot(Silver3['counts'], Silver3['Silver Medals'], palette = 'twilight')\n",
        "plt.title('Silver Medal vs Counts', fontsize = 20)\n",
        "plt.show()"
      ],
      "execution_count": null,
      "outputs": [
        {
          "output_type": "stream",
          "text": [
            "/usr/local/lib/python3.6/dist-packages/seaborn/_decorators.py:43: FutureWarning: Pass the following variables as keyword args: x, y. From version 0.12, the only valid positional argument will be `data`, and passing other arguments without an explicit keyword will result in an error or misinterpretation.\n",
            "  FutureWarning\n"
          ],
          "name": "stderr"
        },
        {
          "output_type": "display_data",
          "data": {
            "image/png": "[encoded data removed]",
            "text/plain": [
              "<Figure size 864x432 with 1 Axes>"
            ]
          },
          "metadata": {
            "tags": [],
            "needs_background": "light"
          }
        }
      ]
    },
    {
      "cell_type": "code",
      "metadata": {
        "id": "G7bEao0St9c7",
        "colab": {
          "base_uri": "https://localhost:8080/",
          "height": 1000
        },
        "outputId": "976758be-8517-4a56-a166-6c142208195b"
      },
      "source": [
        "Bronze3 = Notebook.totalBronzeMedals.value_counts().to_frame().reset_index().rename(columns={\"index\":\"Bronze Medals\",\"totalBronzeMedals\":\"counts\"})\n",
        "Bronze3"
      ],
      "execution_count": null,
      "outputs": [
        {
          "output_type": "execute_result",
          "data": {
            "text/html": [
              "<div>\n",
              "<style scoped>\n",
              "    .dataframe tbody tr th:only-of-type {\n",
              "        vertical-align: middle;\n",
              "    }\n",
              "\n",
              "    .dataframe tbody tr th {\n",
              "        vertical-align: top;\n",
              "    }\n",
              "\n",
              "    .dataframe thead th {\n",
              "        text-align: right;\n",
              "    }\n",
              "</style>\n",
              "<table border=\"1\" class=\"dataframe\">\n",
              "  <thead>\n",
              "    <tr style=\"text-align: right;\">\n",
              "      <th></th>\n",
              "      <th>Bronze Medals</th>\n",
              "      <th>counts</th>\n",
              "    </tr>\n",
              "  </thead>\n",
              "  <tbody>\n",
              "    <tr>\n",
              "      <th>0</th>\n",
              "      <td>5</td>\n",
              "      <td>373</td>\n",
              "    </tr>\n",
              "    <tr>\n",
              "      <th>1</th>\n",
              "      <td>6</td>\n",
              "      <td>241</td>\n",
              "    </tr>\n",
              "    <tr>\n",
              "      <th>2</th>\n",
              "      <td>4</td>\n",
              "      <td>184</td>\n",
              "    </tr>\n",
              "    <tr>\n",
              "      <th>3</th>\n",
              "      <td>7</td>\n",
              "      <td>137</td>\n",
              "    </tr>\n",
              "    <tr>\n",
              "      <th>4</th>\n",
              "      <td>3</td>\n",
              "      <td>117</td>\n",
              "    </tr>\n",
              "    <tr>\n",
              "      <th>5</th>\n",
              "      <td>8</td>\n",
              "      <td>93</td>\n",
              "    </tr>\n",
              "    <tr>\n",
              "      <th>6</th>\n",
              "      <td>2</td>\n",
              "      <td>76</td>\n",
              "    </tr>\n",
              "    <tr>\n",
              "      <th>7</th>\n",
              "      <td>9</td>\n",
              "      <td>54</td>\n",
              "    </tr>\n",
              "    <tr>\n",
              "      <th>8</th>\n",
              "      <td>10</td>\n",
              "      <td>49</td>\n",
              "    </tr>\n",
              "    <tr>\n",
              "      <th>9</th>\n",
              "      <td>11</td>\n",
              "      <td>38</td>\n",
              "    </tr>\n",
              "    <tr>\n",
              "      <th>10</th>\n",
              "      <td>0</td>\n",
              "      <td>34</td>\n",
              "    </tr>\n",
              "    <tr>\n",
              "      <th>11</th>\n",
              "      <td>1</td>\n",
              "      <td>33</td>\n",
              "    </tr>\n",
              "    <tr>\n",
              "      <th>12</th>\n",
              "      <td>12</td>\n",
              "      <td>31</td>\n",
              "    </tr>\n",
              "    <tr>\n",
              "      <th>13</th>\n",
              "      <td>13</td>\n",
              "      <td>13</td>\n",
              "    </tr>\n",
              "    <tr>\n",
              "      <th>14</th>\n",
              "      <td>15</td>\n",
              "      <td>13</td>\n",
              "    </tr>\n",
              "    <tr>\n",
              "      <th>15</th>\n",
              "      <td>16</td>\n",
              "      <td>11</td>\n",
              "    </tr>\n",
              "    <tr>\n",
              "      <th>16</th>\n",
              "      <td>14</td>\n",
              "      <td>10</td>\n",
              "    </tr>\n",
              "    <tr>\n",
              "      <th>17</th>\n",
              "      <td>19</td>\n",
              "      <td>8</td>\n",
              "    </tr>\n",
              "    <tr>\n",
              "      <th>18</th>\n",
              "      <td>17</td>\n",
              "      <td>6</td>\n",
              "    </tr>\n",
              "    <tr>\n",
              "      <th>19</th>\n",
              "      <td>21</td>\n",
              "      <td>6</td>\n",
              "    </tr>\n",
              "    <tr>\n",
              "      <th>20</th>\n",
              "      <td>28</td>\n",
              "      <td>5</td>\n",
              "    </tr>\n",
              "    <tr>\n",
              "      <th>21</th>\n",
              "      <td>23</td>\n",
              "      <td>4</td>\n",
              "    </tr>\n",
              "    <tr>\n",
              "      <th>22</th>\n",
              "      <td>25</td>\n",
              "      <td>4</td>\n",
              "    </tr>\n",
              "    <tr>\n",
              "      <th>23</th>\n",
              "      <td>22</td>\n",
              "      <td>3</td>\n",
              "    </tr>\n",
              "    <tr>\n",
              "      <th>24</th>\n",
              "      <td>20</td>\n",
              "      <td>3</td>\n",
              "    </tr>\n",
              "    <tr>\n",
              "      <th>25</th>\n",
              "      <td>18</td>\n",
              "      <td>2</td>\n",
              "    </tr>\n",
              "    <tr>\n",
              "      <th>26</th>\n",
              "      <td>30</td>\n",
              "      <td>2</td>\n",
              "    </tr>\n",
              "    <tr>\n",
              "      <th>27</th>\n",
              "      <td>36</td>\n",
              "      <td>2</td>\n",
              "    </tr>\n",
              "    <tr>\n",
              "      <th>28</th>\n",
              "      <td>45</td>\n",
              "      <td>1</td>\n",
              "    </tr>\n",
              "    <tr>\n",
              "      <th>29</th>\n",
              "      <td>63</td>\n",
              "      <td>1</td>\n",
              "    </tr>\n",
              "    <tr>\n",
              "      <th>30</th>\n",
              "      <td>60</td>\n",
              "      <td>1</td>\n",
              "    </tr>\n",
              "    <tr>\n",
              "      <th>31</th>\n",
              "      <td>57</td>\n",
              "      <td>1</td>\n",
              "    </tr>\n",
              "    <tr>\n",
              "      <th>32</th>\n",
              "      <td>54</td>\n",
              "      <td>1</td>\n",
              "    </tr>\n",
              "    <tr>\n",
              "      <th>33</th>\n",
              "      <td>53</td>\n",
              "      <td>1</td>\n",
              "    </tr>\n",
              "    <tr>\n",
              "      <th>34</th>\n",
              "      <td>46</td>\n",
              "      <td>1</td>\n",
              "    </tr>\n",
              "    <tr>\n",
              "      <th>35</th>\n",
              "      <td>31</td>\n",
              "      <td>1</td>\n",
              "    </tr>\n",
              "    <tr>\n",
              "      <th>36</th>\n",
              "      <td>34</td>\n",
              "      <td>1</td>\n",
              "    </tr>\n",
              "    <tr>\n",
              "      <th>37</th>\n",
              "      <td>33</td>\n",
              "      <td>1</td>\n",
              "    </tr>\n",
              "    <tr>\n",
              "      <th>38</th>\n",
              "      <td>80</td>\n",
              "      <td>1</td>\n",
              "    </tr>\n",
              "    <tr>\n",
              "      <th>39</th>\n",
              "      <td>29</td>\n",
              "      <td>1</td>\n",
              "    </tr>\n",
              "    <tr>\n",
              "      <th>40</th>\n",
              "      <td>27</td>\n",
              "      <td>1</td>\n",
              "    </tr>\n",
              "    <tr>\n",
              "      <th>41</th>\n",
              "      <td>26</td>\n",
              "      <td>1</td>\n",
              "    </tr>\n",
              "    <tr>\n",
              "      <th>42</th>\n",
              "      <td>98</td>\n",
              "      <td>1</td>\n",
              "    </tr>\n",
              "  </tbody>\n",
              "</table>\n",
              "</div>"
            ],
            "text/plain": [
              "    Bronze Medals  counts\n",
              "0               5     373\n",
              "1               6     241\n",
              "2               4     184\n",
              "3               7     137\n",
              "4               3     117\n",
              "5               8      93\n",
              "6               2      76\n",
              "7               9      54\n",
              "8              10      49\n",
              "9              11      38\n",
              "10              0      34\n",
              "11              1      33\n",
              "12             12      31\n",
              "13             13      13\n",
              "14             15      13\n",
              "15             16      11\n",
              "16             14      10\n",
              "17             19       8\n",
              "18             17       6\n",
              "19             21       6\n",
              "20             28       5\n",
              "21             23       4\n",
              "22             25       4\n",
              "23             22       3\n",
              "24             20       3\n",
              "25             18       2\n",
              "26             30       2\n",
              "27             36       2\n",
              "28             45       1\n",
              "29             63       1\n",
              "30             60       1\n",
              "31             57       1\n",
              "32             54       1\n",
              "33             53       1\n",
              "34             46       1\n",
              "35             31       1\n",
              "36             34       1\n",
              "37             33       1\n",
              "38             80       1\n",
              "39             29       1\n",
              "40             27       1\n",
              "41             26       1\n",
              "42             98       1"
            ]
          },
          "metadata": {
            "tags": []
          },
          "execution_count": 73
        }
      ]
    },
    {
      "cell_type": "code",
      "metadata": {
        "id": "7mZke9ywaJK_",
        "colab": {
          "base_uri": "https://localhost:8080/",
          "height": 462
        },
        "outputId": "9794eeb3-fbad-4c3f-f8e5-e1757a48ccae"
      },
      "source": [
        "plt.rcParams['figure.figsize'] = (12,6)\n",
        "\n",
        "sns.swarmplot(Bronze3['counts'], Bronze3['Bronze Medals'], palette = 'twilight')\n",
        "plt.title('Bronze Medal vs Counts', fontsize = 20)\n",
        "plt.show()"
      ],
      "execution_count": null,
      "outputs": [
        {
          "output_type": "stream",
          "text": [
            "/usr/local/lib/python3.6/dist-packages/seaborn/_decorators.py:43: FutureWarning: Pass the following variables as keyword args: x, y. From version 0.12, the only valid positional argument will be `data`, and passing other arguments without an explicit keyword will result in an error or misinterpretation.\n",
            "  FutureWarning\n"
          ],
          "name": "stderr"
        },
        {
          "output_type": "display_data",
          "data": {
            "image/png": "[encoded data removed]",
            "text/plain": [
              "<Figure size 864x432 with 1 Axes>"
            ]
          },
          "metadata": {
            "tags": [],
            "needs_background": "light"
          }
        }
      ]
    },
    {
      "cell_type": "code",
      "metadata": {
        "id": "n0hczzs_uDhX",
        "colab": {
          "base_uri": "https://localhost:8080/"
        },
        "outputId": "ab0bd1e6-d817-4a3a-9157-2670f0f7ae99"
      },
      "source": [
        "Gold_medals = np.round(Notebook['totalGoldMedals'].min())\n",
        "Silver_medals = np.round(Notebook['totalSilverMedals'].min())\n",
        "Bronze_medals = np.round(Notebook['totalBronzeMedals'].min())\n",
        "min_points = np.round(Notebook['points'].min())\n",
        "\n",
        "print(\"Minimum no. of Gold Medals to any Notebook:\", Gold_medals)\n",
        "print(\"Minimum no. of Silver Medals to any Notebook:\", Silver_medals)\n",
        "print(\"Minimum no. of Bronze Medals to any Notebook:\", Bronze_medals)\n",
        "print(\"Minimum points to any Notebook:\", min_points)"
      ],
      "execution_count": null,
      "outputs": [
        {
          "output_type": "stream",
          "text": [
            "Minimum no. of Gold Medals to any Notebook: 0\n",
            "Minimum no. of Silver Medals to any Notebook: 0\n",
            "Minimum no. of Bronze Medals to any Notebook: 0\n",
            "Minimum points to any Notebook: 2.0\n"
          ],
          "name": "stdout"
        }
      ]
    },
    {
      "cell_type": "code",
      "metadata": {
        "id": "NmFoyh9GuGGl",
        "colab": {
          "base_uri": "https://localhost:8080/"
        },
        "outputId": "c5a12e24-947a-4043-a7e9-a536c129c6be"
      },
      "source": [
        "Gold_medals = np.round(Notebook['totalGoldMedals'].max())\n",
        "Silver_medals = np.round(Notebook['totalSilverMedals'].max())\n",
        "Bronze_medals = np.round(Notebook['totalBronzeMedals'].max())\n",
        "max_points = np.round(Notebook['points'].max())\n",
        "\n",
        "print(\"Maximum no. of Gold Medals to any Notebook:\", Gold_medals)\n",
        "print(\"Mamimum no. of Silver Medals to any Notebook:\", Silver_medals)\n",
        "print(\"Maximum no. of Bronze Medals to any Notebook:\", Bronze_medals)\n",
        "print(\"Maximum points to any Notebook:\", max_points)"
      ],
      "execution_count": null,
      "outputs": [
        {
          "output_type": "stream",
          "text": [
            "Maximum no. of Gold Medals to any Notebook: 43\n",
            "Mamimum no. of Silver Medals to any Notebook: 36\n",
            "Maximum no. of Bronze Medals to any Notebook: 98\n",
            "Maximum points to any Notebook: 3974.0\n"
          ],
          "name": "stdout"
        }
      ]
    },
    {
      "cell_type": "code",
      "metadata": {
        "id": "WKOIbxWguI2J",
        "colab": {
          "base_uri": "https://localhost:8080/"
        },
        "outputId": "e9d231d5-1b5c-418b-bd27-4b05bf5a832e"
      },
      "source": [
        "Gold_medals = np.round(Notebook['totalGoldMedals'].mean())\n",
        "Silver_medals = np.round(Notebook['totalSilverMedals'].mean())\n",
        "Bronze_medals = np.round(Notebook['totalBronzeMedals'].mean())\n",
        "avg_points = np.round(Notebook['points'].mean())\n",
        "\n",
        "print(\"Average no. of Gold Medals:\", Gold_medals)\n",
        "print(\"Average no. of Silver Medals:\", Silver_medals)\n",
        "print(\"Average no. of Bronze Medals:\", Bronze_medals)\n",
        "print(\"Average points:\", avg_points)"
      ],
      "execution_count": null,
      "outputs": [
        {
          "output_type": "stream",
          "text": [
            "Average no. of Gold Medals: 1.0\n",
            "Average no. of Silver Medals: 2.0\n",
            "Average no. of Bronze Medals: 7.0\n",
            "Average points: 149.0\n"
          ],
          "name": "stdout"
        }
      ]
    },
    {
      "cell_type": "code",
      "metadata": {
        "id": "-s0GtrkYxYIi",
        "colab": {
          "base_uri": "https://localhost:8080/",
          "height": 638
        },
        "outputId": "1e2c7b94-cea9-43ee-c8d7-ee3cc6bea6dd"
      },
      "source": [
        "plt.rcParams['figure.figsize'] = (20,9)\n",
        "\n",
        "stemlines = plt.stem(Notebook['currentRanking'], Notebook['totalGoldMedals'])\n",
        "plt.setp(stemlines, color = 'indianred', linewidth = 0.2)\n",
        "plt.title('Gold Medal vs Current Ranking', fontsize = 24)\n",
        "plt.xlabel('Current Ranking', fontsize = 18)\n",
        "plt.ylabel('Gold Medal', fontsize = 18)\n",
        "plt.show()"
      ],
      "execution_count": null,
      "outputs": [
        {
          "output_type": "stream",
          "text": [
            "/usr/local/lib/python3.6/dist-packages/ipykernel_launcher.py:3: UserWarning: In Matplotlib 3.3 individual lines on a stem plot will be added as a LineCollection instead of individual lines. This significantly improves the performance of a stem plot. To remove this warning and switch to the new behaviour, set the \"use_line_collection\" keyword argument to True.\n",
            "  This is separate from the ipykernel package so we can avoid doing imports until\n"
          ],
          "name": "stderr"
        },
        {
          "output_type": "display_data",
          "data": {
            "image/png": "[encoded data removed]",
            "text/plain": [
              "<Figure size 1440x648 with 1 Axes>"
            ]
          },
          "metadata": {
            "tags": [],
            "needs_background": "light"
          }
        }
      ]
    },
    {
      "cell_type": "code",
      "metadata": {
        "id": "w47g6P82xb34",
        "colab": {
          "base_uri": "https://localhost:8080/",
          "height": 638
        },
        "outputId": "1b037a44-dfc9-471f-f253-58dd1646dfc4"
      },
      "source": [
        "plt.rcParams['figure.figsize'] = (20,9)\n",
        "\n",
        "stemlines = plt.stem(Notebook['currentRanking'], Notebook['totalSilverMedals'])\n",
        "plt.setp(stemlines, color = 'darkorange', linewidth = 0.2)\n",
        "plt.title('Silver Medal vs Current Ranking', fontsize = 24)\n",
        "plt.xlabel('Current Ranking', fontsize = 18)\n",
        "plt.ylabel('Silver Medal', fontsize = 18)\n",
        "plt.show()"
      ],
      "execution_count": null,
      "outputs": [
        {
          "output_type": "stream",
          "text": [
            "/usr/local/lib/python3.6/dist-packages/ipykernel_launcher.py:3: UserWarning: In Matplotlib 3.3 individual lines on a stem plot will be added as a LineCollection instead of individual lines. This significantly improves the performance of a stem plot. To remove this warning and switch to the new behaviour, set the \"use_line_collection\" keyword argument to True.\n",
            "  This is separate from the ipykernel package so we can avoid doing imports until\n"
          ],
          "name": "stderr"
        },
        {
          "output_type": "display_data",
          "data": {
            "image/png": "[encoded data removed]",
            "text/plain": [
              "<Figure size 1440x648 with 1 Axes>"
            ]
          },
          "metadata": {
            "tags": [],
            "needs_background": "light"
          }
        }
      ]
    },
    {
      "cell_type": "code",
      "metadata": {
        "id": "tgJ-bjw4xcgT",
        "colab": {
          "base_uri": "https://localhost:8080/",
          "height": 638
        },
        "outputId": "3f6677be-7771-4e86-9507-3233e83cb9c4"
      },
      "source": [
        "plt.rcParams['figure.figsize'] = (20,9)\n",
        "\n",
        "stemlines = plt.stem(Notebook['currentRanking'], Notebook['totalBronzeMedals'])\n",
        "plt.setp(stemlines, color = 'olive', linewidth = 0.2)\n",
        "plt.title('Bronze Medal vs Current Ranking', fontsize = 24)\n",
        "plt.xlabel('Current Ranking', fontsize = 18)\n",
        "plt.ylabel('Bronze Medal', fontsize = 18)\n",
        "plt.show()"
      ],
      "execution_count": null,
      "outputs": [
        {
          "output_type": "stream",
          "text": [
            "/usr/local/lib/python3.6/dist-packages/ipykernel_launcher.py:3: UserWarning: In Matplotlib 3.3 individual lines on a stem plot will be added as a LineCollection instead of individual lines. This significantly improves the performance of a stem plot. To remove this warning and switch to the new behaviour, set the \"use_line_collection\" keyword argument to True.\n",
            "  This is separate from the ipykernel package so we can avoid doing imports until\n"
          ],
          "name": "stderr"
        },
        {
          "output_type": "display_data",
          "data": {
            "image/png": "[encoded data removed]",
            "text/plain": [
              "<Figure size 1440x648 with 1 Axes>"
            ]
          },
          "metadata": {
            "tags": [],
            "needs_background": "light"
          }
        }
      ]
    },
    {
      "cell_type": "code",
      "metadata": {
        "id": "ej_lIHKQKaHa"
      },
      "source": [
        "x2 = Notebook.drop(['currentRanking', 'displayName','tier', 'userUrl', 'joined'], axis=1)\n",
        "y2 = Notebook.iloc[:, :1]"
      ],
      "execution_count": null,
      "outputs": []
    },
    {
      "cell_type": "code",
      "metadata": {
        "id": "3YoKIFdiLHvu",
        "colab": {
          "base_uri": "https://localhost:8080/",
          "height": 212
        },
        "outputId": "2c0f6a16-0c81-4f05-eb8c-1350a9817ec7"
      },
      "source": [
        "print(x2.shape)\n",
        "x2.head()"
      ],
      "execution_count": null,
      "outputs": [
        {
          "output_type": "stream",
          "text": [
            "(1567, 5)\n"
          ],
          "name": "stdout"
        },
        {
          "output_type": "execute_result",
          "data": {
            "text/html": [
              "<div>\n",
              "<style scoped>\n",
              "    .dataframe tbody tr th:only-of-type {\n",
              "        vertical-align: middle;\n",
              "    }\n",
              "\n",
              "    .dataframe tbody tr th {\n",
              "        vertical-align: top;\n",
              "    }\n",
              "\n",
              "    .dataframe thead th {\n",
              "        text-align: right;\n",
              "    }\n",
              "</style>\n",
              "<table border=\"1\" class=\"dataframe\">\n",
              "  <thead>\n",
              "    <tr style=\"text-align: right;\">\n",
              "      <th></th>\n",
              "      <th>points</th>\n",
              "      <th>totalGoldMedals</th>\n",
              "      <th>totalSilverMedals</th>\n",
              "      <th>totalBronzeMedals</th>\n",
              "      <th>tier_Cleaned</th>\n",
              "    </tr>\n",
              "  </thead>\n",
              "  <tbody>\n",
              "    <tr>\n",
              "      <th>0</th>\n",
              "      <td>3974.0</td>\n",
              "      <td>43</td>\n",
              "      <td>11</td>\n",
              "      <td>3</td>\n",
              "      <td>1</td>\n",
              "    </tr>\n",
              "    <tr>\n",
              "      <th>1</th>\n",
              "      <td>3379.0</td>\n",
              "      <td>42</td>\n",
              "      <td>3</td>\n",
              "      <td>22</td>\n",
              "      <td>1</td>\n",
              "    </tr>\n",
              "    <tr>\n",
              "      <th>2</th>\n",
              "      <td>3258.0</td>\n",
              "      <td>40</td>\n",
              "      <td>20</td>\n",
              "      <td>25</td>\n",
              "      <td>1</td>\n",
              "    </tr>\n",
              "    <tr>\n",
              "      <th>3</th>\n",
              "      <td>2603.0</td>\n",
              "      <td>31</td>\n",
              "      <td>16</td>\n",
              "      <td>14</td>\n",
              "      <td>1</td>\n",
              "    </tr>\n",
              "    <tr>\n",
              "      <th>4</th>\n",
              "      <td>2125.0</td>\n",
              "      <td>18</td>\n",
              "      <td>3</td>\n",
              "      <td>5</td>\n",
              "      <td>1</td>\n",
              "    </tr>\n",
              "  </tbody>\n",
              "</table>\n",
              "</div>"
            ],
            "text/plain": [
              "   points  totalGoldMedals  totalSilverMedals  totalBronzeMedals  tier_Cleaned\n",
              "0  3974.0               43                 11                  3             1\n",
              "1  3379.0               42                  3                 22             1\n",
              "2  3258.0               40                 20                 25             1\n",
              "3  2603.0               31                 16                 14             1\n",
              "4  2125.0               18                  3                  5             1"
            ]
          },
          "metadata": {
            "tags": []
          },
          "execution_count": 82
        }
      ]
    },
    {
      "cell_type": "code",
      "metadata": {
        "id": "ihWD6WepLNyh",
        "colab": {
          "base_uri": "https://localhost:8080/",
          "height": 212
        },
        "outputId": "a367d44b-5adf-438a-f2e6-cfd5d2d0653c"
      },
      "source": [
        "print(y2.shape)\n",
        "y2.head()"
      ],
      "execution_count": null,
      "outputs": [
        {
          "output_type": "stream",
          "text": [
            "(1567, 1)\n"
          ],
          "name": "stdout"
        },
        {
          "output_type": "execute_result",
          "data": {
            "text/html": [
              "<div>\n",
              "<style scoped>\n",
              "    .dataframe tbody tr th:only-of-type {\n",
              "        vertical-align: middle;\n",
              "    }\n",
              "\n",
              "    .dataframe tbody tr th {\n",
              "        vertical-align: top;\n",
              "    }\n",
              "\n",
              "    .dataframe thead th {\n",
              "        text-align: right;\n",
              "    }\n",
              "</style>\n",
              "<table border=\"1\" class=\"dataframe\">\n",
              "  <thead>\n",
              "    <tr style=\"text-align: right;\">\n",
              "      <th></th>\n",
              "      <th>currentRanking</th>\n",
              "    </tr>\n",
              "  </thead>\n",
              "  <tbody>\n",
              "    <tr>\n",
              "      <th>0</th>\n",
              "      <td>1</td>\n",
              "    </tr>\n",
              "    <tr>\n",
              "      <th>1</th>\n",
              "      <td>2</td>\n",
              "    </tr>\n",
              "    <tr>\n",
              "      <th>2</th>\n",
              "      <td>3</td>\n",
              "    </tr>\n",
              "    <tr>\n",
              "      <th>3</th>\n",
              "      <td>4</td>\n",
              "    </tr>\n",
              "    <tr>\n",
              "      <th>4</th>\n",
              "      <td>5</td>\n",
              "    </tr>\n",
              "  </tbody>\n",
              "</table>\n",
              "</div>"
            ],
            "text/plain": [
              "   currentRanking\n",
              "0               1\n",
              "1               2\n",
              "2               3\n",
              "3               4\n",
              "4               5"
            ]
          },
          "metadata": {
            "tags": []
          },
          "execution_count": 83
        }
      ]
    },
    {
      "cell_type": "code",
      "metadata": {
        "id": "UymF53zMLUtO",
        "colab": {
          "base_uri": "https://localhost:8080/"
        },
        "outputId": "f07797c4-ae47-4b18-d439-f0d8c56ee592"
      },
      "source": [
        "from sklearn.model_selection import train_test_split\n",
        "\n",
        "x2_train, x2_test, y2_train, y2_test = train_test_split(x2, y2, test_size = 0.2, random_state = 0)\n",
        "\n",
        "print(\"Shape of x_train :\", x2_train.shape)\n",
        "print(\"Shape of x_test :\", x2_test.shape)\n",
        "print(\"Shape of y_train :\", y2_train.shape)\n",
        "print(\"Shape of y_test :\", y2_test.shape)"
      ],
      "execution_count": null,
      "outputs": [
        {
          "output_type": "stream",
          "text": [
            "Shape of x_train : (1253, 5)\n",
            "Shape of x_test : (314, 5)\n",
            "Shape of y_train : (1253, 1)\n",
            "Shape of y_test : (314, 1)\n"
          ],
          "name": "stdout"
        }
      ]
    },
    {
      "cell_type": "markdown",
      "metadata": {
        "id": "7ilZ8JEkNyeZ"
      },
      "source": [
        "LINEAR REGRESSION"
      ]
    },
    {
      "cell_type": "code",
      "metadata": {
        "id": "A-STlJiLLiQe",
        "colab": {
          "base_uri": "https://localhost:8080/"
        },
        "outputId": "09fe5855-fb3c-46fc-e26b-6368d0274324"
      },
      "source": [
        "from sklearn.linear_model import LinearRegression\n",
        "\n",
        "from sklearn.metrics import mean_squared_error\n",
        "from sklearn.metrics import r2_score\n",
        "\n",
        "linreg2 = LinearRegression()\n",
        "linreg2.fit(x2_train, y2_train)\n",
        "\n",
        "r_sq2 = linreg2.score(x2,y2)\n",
        "print(\"coefficient of determination: \", r_sq2)\n",
        "\n",
        "print(\"intercept: \", linreg2.intercept_)\n",
        "print(\"Slope: \", linreg2.coef_)\n",
        "\n",
        "linreg_pred2 = linreg2.predict(x2_test)\n",
        "\n",
        "mse2 = mean_squared_error(y2_test, linreg_pred2)\n",
        "rmse2 = np.sqrt(mse2)\n",
        "r22 = r2_score(y2_test, linreg_pred2)\n",
        "\n",
        "print(\"Root Mean Squared Error : \",rmse2)\n",
        "print(\"R-Squared Error:\", r22)"
      ],
      "execution_count": null,
      "outputs": [
        {
          "output_type": "stream",
          "text": [
            "coefficient of determination:  0.4082153472593968\n",
            "intercept:  [990.86192257]\n",
            "Slope:  [[ -1.05820233  37.50968843 -44.84986942   0.84730997 -70.66709433]]\n",
            "Root Mean Squared Error :  367.67698501498506\n",
            "R-Squared Error: 0.36732192357430926\n"
          ],
          "name": "stdout"
        }
      ]
    },
    {
      "cell_type": "markdown",
      "metadata": {
        "id": "vkV2O0EZNsQS"
      },
      "source": [
        "SUPPORT VECTOR MACHINE"
      ]
    },
    {
      "cell_type": "code",
      "metadata": {
        "id": "qvodX0PTNfnx",
        "colab": {
          "base_uri": "https://localhost:8080/"
        },
        "outputId": "c2a5056d-7e3f-4fd0-b92e-291288ea4d71"
      },
      "source": [
        "from sklearn.svm import SVR\n",
        "\n",
        "from sklearn.metrics import mean_squared_error\n",
        "from sklearn.metrics import r2_score\n",
        "\n",
        "svr2 = SVR(kernel = 'linear')\n",
        "svr2.fit(x2_train, y2_train)\n",
        "\n",
        "svr_pred2 = svr1.predict(x2_test)\n",
        "\n",
        "mse2 = mean_squared_error(y2_test, svr_pred2)\n",
        "rmse2 = np.sqrt(mse1)\n",
        "r22 = r2_score(y2_test, svr_pred2)\n",
        "\n",
        "print(\"Root Mean Squared Error : \",rmse2)\n",
        "print(\"R-Squared Error:\", r22)"
      ],
      "execution_count": null,
      "outputs": [
        {
          "output_type": "stream",
          "text": [
            "/usr/local/lib/python3.6/dist-packages/sklearn/utils/validation.py:760: DataConversionWarning: A column-vector y was passed when a 1d array was expected. Please change the shape of y to (n_samples, ), for example using ravel().\n",
            "  y = column_or_1d(y, warn=True)\n"
          ],
          "name": "stderr"
        },
        {
          "output_type": "stream",
          "text": [
            "Root Mean Squared Error :  171.90601188753382\n",
            "R-Squared Error: -1.8797360512328578\n"
          ],
          "name": "stdout"
        }
      ]
    },
    {
      "cell_type": "markdown",
      "metadata": {
        "id": "BZqd9wrxOtNk"
      },
      "source": [
        "RANDOM FOREST"
      ]
    },
    {
      "cell_type": "code",
      "metadata": {
        "id": "stYROimtOdnV",
        "colab": {
          "base_uri": "https://localhost:8080/"
        },
        "outputId": "25bc46fe-aeda-47f4-d180-f33e33a5b90c"
      },
      "source": [
        "from sklearn.ensemble import RandomForestRegressor\n",
        "\n",
        "from sklearn.metrics import mean_squared_error\n",
        "from sklearn.metrics import r2_score\n",
        "\n",
        "rfr2 = RandomForestRegressor()\n",
        "rfr2.fit(x2_train, y2_train)\n",
        "\n",
        "rfr_pred2 = linreg2.predict(x2_test)\n",
        "\n",
        "mse2 = mean_squared_error(y2_test, rfr_pred2)\n",
        "rmse2 = np.sqrt(mse2)\n",
        "r22 = r2_score(y2_test, rfr_pred2)\n",
        "\n",
        "print(\"Root Mean Squared Error : \",rmse2)\n",
        "print(\"R-Squared Error:\", r22)"
      ],
      "execution_count": null,
      "outputs": [
        {
          "output_type": "stream",
          "text": [
            "/usr/local/lib/python3.6/dist-packages/ipykernel_launcher.py:7: DataConversionWarning: A column-vector y was passed when a 1d array was expected. Please change the shape of y to (n_samples,), for example using ravel().\n",
            "  import sys\n"
          ],
          "name": "stderr"
        },
        {
          "output_type": "stream",
          "text": [
            "Root Mean Squared Error :  367.67698501498506\n",
            "R-Squared Error: 0.36732192357430926\n"
          ],
          "name": "stdout"
        }
      ]
    },
    {
      "cell_type": "markdown",
      "metadata": {
        "id": "ht4d_gjXPIvI"
      },
      "source": [
        "Xg Boost"
      ]
    },
    {
      "cell_type": "code",
      "metadata": {
        "id": "-Gm52_lXPMja",
        "colab": {
          "base_uri": "https://localhost:8080/"
        },
        "outputId": "ad156b92-e1b0-474b-e245-97e3280d4096"
      },
      "source": [
        "from sklearn.ensemble import ExtraTreesRegressor\n",
        "\n",
        "from sklearn.metrics import mean_squared_error\n",
        "from sklearn.metrics import r2_score\n",
        "\n",
        "etr2 = ExtraTreesRegressor()\n",
        "etr2.fit(x2_train, y2_train)\n",
        "\n",
        "etr_pred2 = etr2.predict(x2_test)\n",
        "\n",
        "mse2 = mean_squared_error(y2_test, etr_pred2)\n",
        "rmse2 = np.sqrt(mse2)\n",
        "r22 = r2_score(y2_test, etr_pred2)\n",
        "\n",
        "print(\"Root Mean Squared Error : \",rmse2)\n",
        "print(\"R-Squared Error:\", r22)"
      ],
      "execution_count": null,
      "outputs": [
        {
          "output_type": "stream",
          "text": [
            "/usr/local/lib/python3.6/dist-packages/ipykernel_launcher.py:7: DataConversionWarning: A column-vector y was passed when a 1d array was expected. Please change the shape of y to (n_samples,), for example using ravel().\n",
            "  import sys\n"
          ],
          "name": "stderr"
        },
        {
          "output_type": "stream",
          "text": [
            "Root Mean Squared Error :  5.891147221190714\n",
            "R-Squared Error: 0.9998375762077993\n"
          ],
          "name": "stdout"
        }
      ]
    },
    {
      "cell_type": "markdown",
      "metadata": {
        "id": "qD6IgMMLbOH0"
      },
      "source": [
        "## **DATASET 4**"
      ]
    },
    {
      "cell_type": "code",
      "metadata": {
        "id": "wkWBCNlNaKqX",
        "colab": {
          "base_uri": "https://localhost:8080/",
          "height": 400
        },
        "outputId": "248f300a-757e-4224-9cea-d7c44207d0a6"
      },
      "source": [
        "#Loading Dataset 4\n",
        "kernel = pd.read_csv('kernels.csv')\n",
        "print(kernel.shape)\n",
        "kernel.head()"
      ],
      "execution_count": null,
      "outputs": [
        {
          "output_type": "stream",
          "text": [
            "(1020, 17)\n"
          ],
          "name": "stdout"
        },
        {
          "output_type": "execute_result",
          "data": {
            "text/html": [
              "<div>\n",
              "<style scoped>\n",
              "    .dataframe tbody tr th:only-of-type {\n",
              "        vertical-align: middle;\n",
              "    }\n",
              "\n",
              "    .dataframe tbody tr th {\n",
              "        vertical-align: top;\n",
              "    }\n",
              "\n",
              "    .dataframe thead th {\n",
              "        text-align: right;\n",
              "    }\n",
              "</style>\n",
              "<table border=\"1\" class=\"dataframe\">\n",
              "  <thead>\n",
              "    <tr style=\"text-align: right;\">\n",
              "      <th></th>\n",
              "      <th>title</th>\n",
              "      <th>totalComments</th>\n",
              "      <th>totalLines</th>\n",
              "      <th>totalViews</th>\n",
              "      <th>totalVotes</th>\n",
              "      <th>versionNumber</th>\n",
              "      <th>aceLanguageName</th>\n",
              "      <th>author.displayName</th>\n",
              "      <th>author.performanceTier</th>\n",
              "      <th>medal</th>\n",
              "      <th>categories</th>\n",
              "      <th>isNotebook</th>\n",
              "      <th>languageName</th>\n",
              "      <th>hasCollaborators</th>\n",
              "      <th>lastRunExecutionTimeSeconds</th>\n",
              "      <th>lastRunTime</th>\n",
              "      <th>scriptVersionDateCreated</th>\n",
              "    </tr>\n",
              "  </thead>\n",
              "  <tbody>\n",
              "    <tr>\n",
              "      <th>0</th>\n",
              "      <td>Understanding the data + Catalyst/Kekas baseline</td>\n",
              "      <td>120</td>\n",
              "      <td>593</td>\n",
              "      <td>35837</td>\n",
              "      <td>432</td>\n",
              "      <td>104</td>\n",
              "      <td>python</td>\n",
              "      <td>Trigram</td>\n",
              "      <td>3</td>\n",
              "      <td>gold</td>\n",
              "      <td>[{'competitionCount': 2, 'datasetCount': 19, '...</td>\n",
              "      <td>True</td>\n",
              "      <td>Python</td>\n",
              "      <td>False</td>\n",
              "      <td>1107</td>\n",
              "      <td>2020-10-14T09:23:08.83Z</td>\n",
              "      <td>2020-10-14T09:23:06.253Z</td>\n",
              "    </tr>\n",
              "    <tr>\n",
              "      <th>1</th>\n",
              "      <td>FIFA Data Visualization</td>\n",
              "      <td>209</td>\n",
              "      <td>640</td>\n",
              "      <td>40749</td>\n",
              "      <td>539</td>\n",
              "      <td>35</td>\n",
              "      <td>python</td>\n",
              "      <td>Roshan Sharma</td>\n",
              "      <td>4</td>\n",
              "      <td>gold</td>\n",
              "      <td>[{'competitionCount': 0, 'datasetCount': 186, ...</td>\n",
              "      <td>True</td>\n",
              "      <td>Python</td>\n",
              "      <td>False</td>\n",
              "      <td>4</td>\n",
              "      <td>2020-10-14T05:57:35.307Z</td>\n",
              "      <td>2020-10-14T05:57:19.923Z</td>\n",
              "    </tr>\n",
              "    <tr>\n",
              "      <th>2</th>\n",
              "      <td>Data Visualization &amp; Modeling (82% acc, 75% f1)</td>\n",
              "      <td>22</td>\n",
              "      <td>693</td>\n",
              "      <td>4878</td>\n",
              "      <td>78</td>\n",
              "      <td>69</td>\n",
              "      <td>python</td>\n",
              "      <td>Kostiantyn Isaienkov</td>\n",
              "      <td>3</td>\n",
              "      <td>silver</td>\n",
              "      <td>[{'competitionCount': 7, 'datasetCount': 416, ...</td>\n",
              "      <td>True</td>\n",
              "      <td>Python</td>\n",
              "      <td>False</td>\n",
              "      <td>95</td>\n",
              "      <td>2020-10-14T13:08:50.92Z</td>\n",
              "      <td>2020-10-14T13:08:48.34Z</td>\n",
              "    </tr>\n",
              "    <tr>\n",
              "      <th>3</th>\n",
              "      <td>MalariaSkinClassification - TransferLearning</td>\n",
              "      <td>0</td>\n",
              "      <td>285</td>\n",
              "      <td>64</td>\n",
              "      <td>6</td>\n",
              "      <td>2</td>\n",
              "      <td>python</td>\n",
              "      <td>MANISH SHARMA</td>\n",
              "      <td>1</td>\n",
              "      <td>NaN</td>\n",
              "      <td>[{'competitionCount': 0, 'datasetCount': 666, ...</td>\n",
              "      <td>True</td>\n",
              "      <td>Python</td>\n",
              "      <td>False</td>\n",
              "      <td>4</td>\n",
              "      <td>2020-10-14T13:07:06.737Z</td>\n",
              "      <td>2020-10-14T13:06:53.143Z</td>\n",
              "    </tr>\n",
              "    <tr>\n",
              "      <th>4</th>\n",
              "      <td>Heart Failure - Model Prediction Comparisons</td>\n",
              "      <td>20</td>\n",
              "      <td>172</td>\n",
              "      <td>1535</td>\n",
              "      <td>42</td>\n",
              "      <td>8</td>\n",
              "      <td>python</td>\n",
              "      <td>Rupesh Deshmukh</td>\n",
              "      <td>2</td>\n",
              "      <td>silver</td>\n",
              "      <td>[{'competitionCount': 7, 'datasetCount': 416, ...</td>\n",
              "      <td>True</td>\n",
              "      <td>Python</td>\n",
              "      <td>False</td>\n",
              "      <td>42</td>\n",
              "      <td>2020-10-14T12:12:37.307Z</td>\n",
              "      <td>2020-10-14T12:12:34.453Z</td>\n",
              "    </tr>\n",
              "  </tbody>\n",
              "</table>\n",
              "</div>"
            ],
            "text/plain": [
              "                                              title  ...  scriptVersionDateCreated\n",
              "0  Understanding the data + Catalyst/Kekas baseline  ...  2020-10-14T09:23:06.253Z\n",
              "1                           FIFA Data Visualization  ...  2020-10-14T05:57:19.923Z\n",
              "2   Data Visualization & Modeling (82% acc, 75% f1)  ...   2020-10-14T13:08:48.34Z\n",
              "3     MalariaSkinClassification - TransferLearning   ...  2020-10-14T13:06:53.143Z\n",
              "4      Heart Failure - Model Prediction Comparisons  ...  2020-10-14T12:12:34.453Z\n",
              "\n",
              "[5 rows x 17 columns]"
            ]
          },
          "metadata": {
            "tags": []
          },
          "execution_count": 111
        }
      ]
    },
    {
      "cell_type": "code",
      "metadata": {
        "id": "WxZXO3BpadTc",
        "colab": {
          "base_uri": "https://localhost:8080/"
        },
        "outputId": "f828d49f-7cd3-4599-f5a9-16eca0f59aa2"
      },
      "source": [
        "kernel.isnull().sum()"
      ],
      "execution_count": null,
      "outputs": [
        {
          "output_type": "execute_result",
          "data": {
            "text/plain": [
              "title                            0\n",
              "totalComments                    0\n",
              "totalLines                       0\n",
              "totalViews                       0\n",
              "totalVotes                       0\n",
              "versionNumber                    0\n",
              "aceLanguageName                  0\n",
              "author.displayName               0\n",
              "author.performanceTier           0\n",
              "medal                          187\n",
              "categories                       0\n",
              "isNotebook                       0\n",
              "languageName                     0\n",
              "hasCollaborators                 0\n",
              "lastRunExecutionTimeSeconds      0\n",
              "lastRunTime                      0\n",
              "scriptVersionDateCreated         0\n",
              "dtype: int64"
            ]
          },
          "metadata": {
            "tags": []
          },
          "execution_count": 113
        }
      ]
    },
    {
      "cell_type": "code",
      "metadata": {
        "id": "pcX0XCKyaiJL",
        "colab": {
          "base_uri": "https://localhost:8080/",
          "height": 467
        },
        "outputId": "c4f06f80-a699-4dd7-c7f3-ab39b04225e3"
      },
      "source": [
        "kernel = kernel.dropna()\n",
        "kernel.head()"
      ],
      "execution_count": null,
      "outputs": [
        {
          "output_type": "execute_result",
          "data": {
            "text/html": [
              "<div>\n",
              "<style scoped>\n",
              "    .dataframe tbody tr th:only-of-type {\n",
              "        vertical-align: middle;\n",
              "    }\n",
              "\n",
              "    .dataframe tbody tr th {\n",
              "        vertical-align: top;\n",
              "    }\n",
              "\n",
              "    .dataframe thead th {\n",
              "        text-align: right;\n",
              "    }\n",
              "</style>\n",
              "<table border=\"1\" class=\"dataframe\">\n",
              "  <thead>\n",
              "    <tr style=\"text-align: right;\">\n",
              "      <th></th>\n",
              "      <th>title</th>\n",
              "      <th>totalComments</th>\n",
              "      <th>totalLines</th>\n",
              "      <th>totalViews</th>\n",
              "      <th>totalVotes</th>\n",
              "      <th>versionNumber</th>\n",
              "      <th>aceLanguageName</th>\n",
              "      <th>author.displayName</th>\n",
              "      <th>author.performanceTier</th>\n",
              "      <th>medal</th>\n",
              "      <th>categories</th>\n",
              "      <th>isNotebook</th>\n",
              "      <th>languageName</th>\n",
              "      <th>hasCollaborators</th>\n",
              "      <th>lastRunExecutionTimeSeconds</th>\n",
              "      <th>lastRunTime</th>\n",
              "      <th>scriptVersionDateCreated</th>\n",
              "    </tr>\n",
              "  </thead>\n",
              "  <tbody>\n",
              "    <tr>\n",
              "      <th>0</th>\n",
              "      <td>Understanding the data + Catalyst/Kekas baseline</td>\n",
              "      <td>120</td>\n",
              "      <td>593</td>\n",
              "      <td>35837</td>\n",
              "      <td>432</td>\n",
              "      <td>104</td>\n",
              "      <td>python</td>\n",
              "      <td>Trigram</td>\n",
              "      <td>3</td>\n",
              "      <td>gold</td>\n",
              "      <td>[{'competitionCount': 2, 'datasetCount': 19, '...</td>\n",
              "      <td>True</td>\n",
              "      <td>Python</td>\n",
              "      <td>False</td>\n",
              "      <td>1107</td>\n",
              "      <td>2020-10-14T09:23:08.83Z</td>\n",
              "      <td>2020-10-14T09:23:06.253Z</td>\n",
              "    </tr>\n",
              "    <tr>\n",
              "      <th>1</th>\n",
              "      <td>FIFA Data Visualization</td>\n",
              "      <td>209</td>\n",
              "      <td>640</td>\n",
              "      <td>40749</td>\n",
              "      <td>539</td>\n",
              "      <td>35</td>\n",
              "      <td>python</td>\n",
              "      <td>Roshan Sharma</td>\n",
              "      <td>4</td>\n",
              "      <td>gold</td>\n",
              "      <td>[{'competitionCount': 0, 'datasetCount': 186, ...</td>\n",
              "      <td>True</td>\n",
              "      <td>Python</td>\n",
              "      <td>False</td>\n",
              "      <td>4</td>\n",
              "      <td>2020-10-14T05:57:35.307Z</td>\n",
              "      <td>2020-10-14T05:57:19.923Z</td>\n",
              "    </tr>\n",
              "    <tr>\n",
              "      <th>2</th>\n",
              "      <td>Data Visualization &amp; Modeling (82% acc, 75% f1)</td>\n",
              "      <td>22</td>\n",
              "      <td>693</td>\n",
              "      <td>4878</td>\n",
              "      <td>78</td>\n",
              "      <td>69</td>\n",
              "      <td>python</td>\n",
              "      <td>Kostiantyn Isaienkov</td>\n",
              "      <td>3</td>\n",
              "      <td>silver</td>\n",
              "      <td>[{'competitionCount': 7, 'datasetCount': 416, ...</td>\n",
              "      <td>True</td>\n",
              "      <td>Python</td>\n",
              "      <td>False</td>\n",
              "      <td>95</td>\n",
              "      <td>2020-10-14T13:08:50.92Z</td>\n",
              "      <td>2020-10-14T13:08:48.34Z</td>\n",
              "    </tr>\n",
              "    <tr>\n",
              "      <th>4</th>\n",
              "      <td>Heart Failure - Model Prediction Comparisons</td>\n",
              "      <td>20</td>\n",
              "      <td>172</td>\n",
              "      <td>1535</td>\n",
              "      <td>42</td>\n",
              "      <td>8</td>\n",
              "      <td>python</td>\n",
              "      <td>Rupesh Deshmukh</td>\n",
              "      <td>2</td>\n",
              "      <td>silver</td>\n",
              "      <td>[{'competitionCount': 7, 'datasetCount': 416, ...</td>\n",
              "      <td>True</td>\n",
              "      <td>Python</td>\n",
              "      <td>False</td>\n",
              "      <td>42</td>\n",
              "      <td>2020-10-14T12:12:37.307Z</td>\n",
              "      <td>2020-10-14T12:12:34.453Z</td>\n",
              "    </tr>\n",
              "    <tr>\n",
              "      <th>5</th>\n",
              "      <td>Mechanisms of Action (MoA) Prediction - EDA</td>\n",
              "      <td>2</td>\n",
              "      <td>420</td>\n",
              "      <td>1092</td>\n",
              "      <td>40</td>\n",
              "      <td>8</td>\n",
              "      <td>python</td>\n",
              "      <td>Gunes Evitan</td>\n",
              "      <td>3</td>\n",
              "      <td>silver</td>\n",
              "      <td>[{'competitionCount': 1, 'datasetCount': 312, ...</td>\n",
              "      <td>True</td>\n",
              "      <td>Python</td>\n",
              "      <td>False</td>\n",
              "      <td>178</td>\n",
              "      <td>2020-10-14T07:05:10.61Z</td>\n",
              "      <td>2020-10-14T07:05:09.147Z</td>\n",
              "    </tr>\n",
              "  </tbody>\n",
              "</table>\n",
              "</div>"
            ],
            "text/plain": [
              "                                              title  ...  scriptVersionDateCreated\n",
              "0  Understanding the data + Catalyst/Kekas baseline  ...  2020-10-14T09:23:06.253Z\n",
              "1                           FIFA Data Visualization  ...  2020-10-14T05:57:19.923Z\n",
              "2   Data Visualization & Modeling (82% acc, 75% f1)  ...   2020-10-14T13:08:48.34Z\n",
              "4      Heart Failure - Model Prediction Comparisons  ...  2020-10-14T12:12:34.453Z\n",
              "5       Mechanisms of Action (MoA) Prediction - EDA  ...  2020-10-14T07:05:09.147Z\n",
              "\n",
              "[5 rows x 17 columns]"
            ]
          },
          "metadata": {
            "tags": []
          },
          "execution_count": 114
        }
      ]
    },
    {
      "cell_type": "code",
      "metadata": {
        "id": "3EYDLPTPaorW",
        "colab": {
          "base_uri": "https://localhost:8080/"
        },
        "outputId": "ca43dd0b-2bf4-429e-fd14-d2a2be2ca4db"
      },
      "source": [
        "kernel.isnull().sum()"
      ],
      "execution_count": null,
      "outputs": [
        {
          "output_type": "execute_result",
          "data": {
            "text/plain": [
              "title                          0\n",
              "totalComments                  0\n",
              "totalLines                     0\n",
              "totalViews                     0\n",
              "totalVotes                     0\n",
              "versionNumber                  0\n",
              "aceLanguageName                0\n",
              "author.displayName             0\n",
              "author.performanceTier         0\n",
              "medal                          0\n",
              "categories                     0\n",
              "isNotebook                     0\n",
              "languageName                   0\n",
              "hasCollaborators               0\n",
              "lastRunExecutionTimeSeconds    0\n",
              "lastRunTime                    0\n",
              "scriptVersionDateCreated       0\n",
              "dtype: int64"
            ]
          },
          "metadata": {
            "tags": []
          },
          "execution_count": 115
        }
      ]
    },
    {
      "cell_type": "code",
      "metadata": {
        "id": "38xYp33Ozsbk",
        "colab": {
          "base_uri": "https://localhost:8080/",
          "height": 467
        },
        "outputId": "b8ed8e1a-cd93-4de3-df54-d188b2a6f85f"
      },
      "source": [
        "kernel = kernel.rename(columns = {\"author.performanceTier\":\"author_performanceTier\"}) \n",
        "kernel = kernel.rename(columns = {\"author.displayName\":\"author_displayName\"})\n",
        "kernel.head()"
      ],
      "execution_count": null,
      "outputs": [
        {
          "output_type": "execute_result",
          "data": {
            "text/html": [
              "<div>\n",
              "<style scoped>\n",
              "    .dataframe tbody tr th:only-of-type {\n",
              "        vertical-align: middle;\n",
              "    }\n",
              "\n",
              "    .dataframe tbody tr th {\n",
              "        vertical-align: top;\n",
              "    }\n",
              "\n",
              "    .dataframe thead th {\n",
              "        text-align: right;\n",
              "    }\n",
              "</style>\n",
              "<table border=\"1\" class=\"dataframe\">\n",
              "  <thead>\n",
              "    <tr style=\"text-align: right;\">\n",
              "      <th></th>\n",
              "      <th>title</th>\n",
              "      <th>totalComments</th>\n",
              "      <th>totalLines</th>\n",
              "      <th>totalViews</th>\n",
              "      <th>totalVotes</th>\n",
              "      <th>versionNumber</th>\n",
              "      <th>aceLanguageName</th>\n",
              "      <th>author_displayName</th>\n",
              "      <th>author_performanceTier</th>\n",
              "      <th>medal</th>\n",
              "      <th>categories</th>\n",
              "      <th>isNotebook</th>\n",
              "      <th>languageName</th>\n",
              "      <th>hasCollaborators</th>\n",
              "      <th>lastRunExecutionTimeSeconds</th>\n",
              "      <th>lastRunTime</th>\n",
              "      <th>scriptVersionDateCreated</th>\n",
              "    </tr>\n",
              "  </thead>\n",
              "  <tbody>\n",
              "    <tr>\n",
              "      <th>0</th>\n",
              "      <td>Understanding the data + Catalyst/Kekas baseline</td>\n",
              "      <td>120</td>\n",
              "      <td>593</td>\n",
              "      <td>35837</td>\n",
              "      <td>432</td>\n",
              "      <td>104</td>\n",
              "      <td>python</td>\n",
              "      <td>Trigram</td>\n",
              "      <td>3</td>\n",
              "      <td>gold</td>\n",
              "      <td>[{'competitionCount': 2, 'datasetCount': 19, '...</td>\n",
              "      <td>True</td>\n",
              "      <td>Python</td>\n",
              "      <td>False</td>\n",
              "      <td>1107</td>\n",
              "      <td>2020-10-14T09:23:08.83Z</td>\n",
              "      <td>2020-10-14T09:23:06.253Z</td>\n",
              "    </tr>\n",
              "    <tr>\n",
              "      <th>1</th>\n",
              "      <td>FIFA Data Visualization</td>\n",
              "      <td>209</td>\n",
              "      <td>640</td>\n",
              "      <td>40749</td>\n",
              "      <td>539</td>\n",
              "      <td>35</td>\n",
              "      <td>python</td>\n",
              "      <td>Roshan Sharma</td>\n",
              "      <td>4</td>\n",
              "      <td>gold</td>\n",
              "      <td>[{'competitionCount': 0, 'datasetCount': 186, ...</td>\n",
              "      <td>True</td>\n",
              "      <td>Python</td>\n",
              "      <td>False</td>\n",
              "      <td>4</td>\n",
              "      <td>2020-10-14T05:57:35.307Z</td>\n",
              "      <td>2020-10-14T05:57:19.923Z</td>\n",
              "    </tr>\n",
              "    <tr>\n",
              "      <th>2</th>\n",
              "      <td>Data Visualization &amp; Modeling (82% acc, 75% f1)</td>\n",
              "      <td>22</td>\n",
              "      <td>693</td>\n",
              "      <td>4878</td>\n",
              "      <td>78</td>\n",
              "      <td>69</td>\n",
              "      <td>python</td>\n",
              "      <td>Kostiantyn Isaienkov</td>\n",
              "      <td>3</td>\n",
              "      <td>silver</td>\n",
              "      <td>[{'competitionCount': 7, 'datasetCount': 416, ...</td>\n",
              "      <td>True</td>\n",
              "      <td>Python</td>\n",
              "      <td>False</td>\n",
              "      <td>95</td>\n",
              "      <td>2020-10-14T13:08:50.92Z</td>\n",
              "      <td>2020-10-14T13:08:48.34Z</td>\n",
              "    </tr>\n",
              "    <tr>\n",
              "      <th>4</th>\n",
              "      <td>Heart Failure - Model Prediction Comparisons</td>\n",
              "      <td>20</td>\n",
              "      <td>172</td>\n",
              "      <td>1535</td>\n",
              "      <td>42</td>\n",
              "      <td>8</td>\n",
              "      <td>python</td>\n",
              "      <td>Rupesh Deshmukh</td>\n",
              "      <td>2</td>\n",
              "      <td>silver</td>\n",
              "      <td>[{'competitionCount': 7, 'datasetCount': 416, ...</td>\n",
              "      <td>True</td>\n",
              "      <td>Python</td>\n",
              "      <td>False</td>\n",
              "      <td>42</td>\n",
              "      <td>2020-10-14T12:12:37.307Z</td>\n",
              "      <td>2020-10-14T12:12:34.453Z</td>\n",
              "    </tr>\n",
              "    <tr>\n",
              "      <th>5</th>\n",
              "      <td>Mechanisms of Action (MoA) Prediction - EDA</td>\n",
              "      <td>2</td>\n",
              "      <td>420</td>\n",
              "      <td>1092</td>\n",
              "      <td>40</td>\n",
              "      <td>8</td>\n",
              "      <td>python</td>\n",
              "      <td>Gunes Evitan</td>\n",
              "      <td>3</td>\n",
              "      <td>silver</td>\n",
              "      <td>[{'competitionCount': 1, 'datasetCount': 312, ...</td>\n",
              "      <td>True</td>\n",
              "      <td>Python</td>\n",
              "      <td>False</td>\n",
              "      <td>178</td>\n",
              "      <td>2020-10-14T07:05:10.61Z</td>\n",
              "      <td>2020-10-14T07:05:09.147Z</td>\n",
              "    </tr>\n",
              "  </tbody>\n",
              "</table>\n",
              "</div>"
            ],
            "text/plain": [
              "                                              title  ...  scriptVersionDateCreated\n",
              "0  Understanding the data + Catalyst/Kekas baseline  ...  2020-10-14T09:23:06.253Z\n",
              "1                           FIFA Data Visualization  ...  2020-10-14T05:57:19.923Z\n",
              "2   Data Visualization & Modeling (82% acc, 75% f1)  ...   2020-10-14T13:08:48.34Z\n",
              "4      Heart Failure - Model Prediction Comparisons  ...  2020-10-14T12:12:34.453Z\n",
              "5       Mechanisms of Action (MoA) Prediction - EDA  ...  2020-10-14T07:05:09.147Z\n",
              "\n",
              "[5 rows x 17 columns]"
            ]
          },
          "metadata": {
            "tags": []
          },
          "execution_count": 116
        }
      ]
    },
    {
      "cell_type": "code",
      "metadata": {
        "id": "QNSawqti2cBe",
        "colab": {
          "base_uri": "https://localhost:8080/",
          "height": 467
        },
        "outputId": "8bbfdb73-5142-4f93-97dd-47aa2ada29b6"
      },
      "source": [
        "kernel[\"aceLanguageName\"] = kernel[\"aceLanguageName\"].astype('category')\n",
        "kernel[\"aceLanguage_Cleaned\"] = kernel[\"aceLanguageName\"].cat.codes\n",
        "kernel[\"medal\"] = kernel[\"medal\"].astype('category')\n",
        "kernel[\"medal_Cleaned\"] = kernel[\"medal\"].cat.codes\n",
        "kernel[\"isNotebook\"] = kernel[\"isNotebook\"].astype('category')\n",
        "kernel[\"isNotebook_Cleaned\"] = kernel[\"isNotebook\"].cat.codes\n",
        "kernel[\"languageName\"] = kernel[\"languageName\"].astype('category')\n",
        "kernel[\"Language_Cleaned\"] = kernel[\"languageName\"].cat.codes\n",
        "kernel.head()"
      ],
      "execution_count": null,
      "outputs": [
        {
          "output_type": "execute_result",
          "data": {
            "text/html": [
              "<div>\n",
              "<style scoped>\n",
              "    .dataframe tbody tr th:only-of-type {\n",
              "        vertical-align: middle;\n",
              "    }\n",
              "\n",
              "    .dataframe tbody tr th {\n",
              "        vertical-align: top;\n",
              "    }\n",
              "\n",
              "    .dataframe thead th {\n",
              "        text-align: right;\n",
              "    }\n",
              "</style>\n",
              "<table border=\"1\" class=\"dataframe\">\n",
              "  <thead>\n",
              "    <tr style=\"text-align: right;\">\n",
              "      <th></th>\n",
              "      <th>title</th>\n",
              "      <th>totalComments</th>\n",
              "      <th>totalLines</th>\n",
              "      <th>totalViews</th>\n",
              "      <th>totalVotes</th>\n",
              "      <th>versionNumber</th>\n",
              "      <th>aceLanguageName</th>\n",
              "      <th>author_displayName</th>\n",
              "      <th>author_performanceTier</th>\n",
              "      <th>medal</th>\n",
              "      <th>categories</th>\n",
              "      <th>isNotebook</th>\n",
              "      <th>languageName</th>\n",
              "      <th>hasCollaborators</th>\n",
              "      <th>lastRunExecutionTimeSeconds</th>\n",
              "      <th>lastRunTime</th>\n",
              "      <th>scriptVersionDateCreated</th>\n",
              "      <th>aceLanguage_Cleaned</th>\n",
              "      <th>medal_Cleaned</th>\n",
              "      <th>isNotebook_Cleaned</th>\n",
              "      <th>Language_Cleaned</th>\n",
              "    </tr>\n",
              "  </thead>\n",
              "  <tbody>\n",
              "    <tr>\n",
              "      <th>0</th>\n",
              "      <td>Understanding the data + Catalyst/Kekas baseline</td>\n",
              "      <td>120</td>\n",
              "      <td>593</td>\n",
              "      <td>35837</td>\n",
              "      <td>432</td>\n",
              "      <td>104</td>\n",
              "      <td>python</td>\n",
              "      <td>Trigram</td>\n",
              "      <td>3</td>\n",
              "      <td>gold</td>\n",
              "      <td>[{'competitionCount': 2, 'datasetCount': 19, '...</td>\n",
              "      <td>True</td>\n",
              "      <td>Python</td>\n",
              "      <td>False</td>\n",
              "      <td>1107</td>\n",
              "      <td>2020-10-14T09:23:08.83Z</td>\n",
              "      <td>2020-10-14T09:23:06.253Z</td>\n",
              "      <td>1</td>\n",
              "      <td>1</td>\n",
              "      <td>1</td>\n",
              "      <td>0</td>\n",
              "    </tr>\n",
              "    <tr>\n",
              "      <th>1</th>\n",
              "      <td>FIFA Data Visualization</td>\n",
              "      <td>209</td>\n",
              "      <td>640</td>\n",
              "      <td>40749</td>\n",
              "      <td>539</td>\n",
              "      <td>35</td>\n",
              "      <td>python</td>\n",
              "      <td>Roshan Sharma</td>\n",
              "      <td>4</td>\n",
              "      <td>gold</td>\n",
              "      <td>[{'competitionCount': 0, 'datasetCount': 186, ...</td>\n",
              "      <td>True</td>\n",
              "      <td>Python</td>\n",
              "      <td>False</td>\n",
              "      <td>4</td>\n",
              "      <td>2020-10-14T05:57:35.307Z</td>\n",
              "      <td>2020-10-14T05:57:19.923Z</td>\n",
              "      <td>1</td>\n",
              "      <td>1</td>\n",
              "      <td>1</td>\n",
              "      <td>0</td>\n",
              "    </tr>\n",
              "    <tr>\n",
              "      <th>2</th>\n",
              "      <td>Data Visualization &amp; Modeling (82% acc, 75% f1)</td>\n",
              "      <td>22</td>\n",
              "      <td>693</td>\n",
              "      <td>4878</td>\n",
              "      <td>78</td>\n",
              "      <td>69</td>\n",
              "      <td>python</td>\n",
              "      <td>Kostiantyn Isaienkov</td>\n",
              "      <td>3</td>\n",
              "      <td>silver</td>\n",
              "      <td>[{'competitionCount': 7, 'datasetCount': 416, ...</td>\n",
              "      <td>True</td>\n",
              "      <td>Python</td>\n",
              "      <td>False</td>\n",
              "      <td>95</td>\n",
              "      <td>2020-10-14T13:08:50.92Z</td>\n",
              "      <td>2020-10-14T13:08:48.34Z</td>\n",
              "      <td>1</td>\n",
              "      <td>2</td>\n",
              "      <td>1</td>\n",
              "      <td>0</td>\n",
              "    </tr>\n",
              "    <tr>\n",
              "      <th>4</th>\n",
              "      <td>Heart Failure - Model Prediction Comparisons</td>\n",
              "      <td>20</td>\n",
              "      <td>172</td>\n",
              "      <td>1535</td>\n",
              "      <td>42</td>\n",
              "      <td>8</td>\n",
              "      <td>python</td>\n",
              "      <td>Rupesh Deshmukh</td>\n",
              "      <td>2</td>\n",
              "      <td>silver</td>\n",
              "      <td>[{'competitionCount': 7, 'datasetCount': 416, ...</td>\n",
              "      <td>True</td>\n",
              "      <td>Python</td>\n",
              "      <td>False</td>\n",
              "      <td>42</td>\n",
              "      <td>2020-10-14T12:12:37.307Z</td>\n",
              "      <td>2020-10-14T12:12:34.453Z</td>\n",
              "      <td>1</td>\n",
              "      <td>2</td>\n",
              "      <td>1</td>\n",
              "      <td>0</td>\n",
              "    </tr>\n",
              "    <tr>\n",
              "      <th>5</th>\n",
              "      <td>Mechanisms of Action (MoA) Prediction - EDA</td>\n",
              "      <td>2</td>\n",
              "      <td>420</td>\n",
              "      <td>1092</td>\n",
              "      <td>40</td>\n",
              "      <td>8</td>\n",
              "      <td>python</td>\n",
              "      <td>Gunes Evitan</td>\n",
              "      <td>3</td>\n",
              "      <td>silver</td>\n",
              "      <td>[{'competitionCount': 1, 'datasetCount': 312, ...</td>\n",
              "      <td>True</td>\n",
              "      <td>Python</td>\n",
              "      <td>False</td>\n",
              "      <td>178</td>\n",
              "      <td>2020-10-14T07:05:10.61Z</td>\n",
              "      <td>2020-10-14T07:05:09.147Z</td>\n",
              "      <td>1</td>\n",
              "      <td>2</td>\n",
              "      <td>1</td>\n",
              "      <td>0</td>\n",
              "    </tr>\n",
              "  </tbody>\n",
              "</table>\n",
              "</div>"
            ],
            "text/plain": [
              "                                              title  ...  Language_Cleaned\n",
              "0  Understanding the data + Catalyst/Kekas baseline  ...                 0\n",
              "1                           FIFA Data Visualization  ...                 0\n",
              "2   Data Visualization & Modeling (82% acc, 75% f1)  ...                 0\n",
              "4      Heart Failure - Model Prediction Comparisons  ...                 0\n",
              "5       Mechanisms of Action (MoA) Prediction - EDA  ...                 0\n",
              "\n",
              "[5 rows x 21 columns]"
            ]
          },
          "metadata": {
            "tags": []
          },
          "execution_count": 117
        }
      ]
    },
    {
      "cell_type": "code",
      "metadata": {
        "id": "x-uHxB-2y4fU",
        "colab": {
          "base_uri": "https://localhost:8080/",
          "height": 136
        },
        "outputId": "66283900-47dc-4290-cfb3-ccc83173f6c0"
      },
      "source": [
        "ace_lang = kernel.aceLanguageName.value_counts().to_frame().reset_index().rename(columns={\"index\":\"language\",\"aceLanguageName\":\"counts\"})\n",
        "ace_lang"
      ],
      "execution_count": null,
      "outputs": [
        {
          "output_type": "execute_result",
          "data": {
            "text/html": [
              "<div>\n",
              "<style scoped>\n",
              "    .dataframe tbody tr th:only-of-type {\n",
              "        vertical-align: middle;\n",
              "    }\n",
              "\n",
              "    .dataframe tbody tr th {\n",
              "        vertical-align: top;\n",
              "    }\n",
              "\n",
              "    .dataframe thead th {\n",
              "        text-align: right;\n",
              "    }\n",
              "</style>\n",
              "<table border=\"1\" class=\"dataframe\">\n",
              "  <thead>\n",
              "    <tr style=\"text-align: right;\">\n",
              "      <th></th>\n",
              "      <th>language</th>\n",
              "      <th>counts</th>\n",
              "    </tr>\n",
              "  </thead>\n",
              "  <tbody>\n",
              "    <tr>\n",
              "      <th>0</th>\n",
              "      <td>python</td>\n",
              "      <td>763</td>\n",
              "    </tr>\n",
              "    <tr>\n",
              "      <th>1</th>\n",
              "      <td>markdown</td>\n",
              "      <td>47</td>\n",
              "    </tr>\n",
              "    <tr>\n",
              "      <th>2</th>\n",
              "      <td>r</td>\n",
              "      <td>23</td>\n",
              "    </tr>\n",
              "  </tbody>\n",
              "</table>\n",
              "</div>"
            ],
            "text/plain": [
              "   language  counts\n",
              "0    python     763\n",
              "1  markdown      47\n",
              "2         r      23"
            ]
          },
          "metadata": {
            "tags": []
          },
          "execution_count": 118
        }
      ]
    },
    {
      "cell_type": "code",
      "metadata": {
        "id": "nzeD97VN-hzw",
        "colab": {
          "base_uri": "https://localhost:8080/",
          "height": 537
        },
        "outputId": "478cf8dc-3f3a-40ec-d5e2-356edd52b1d6"
      },
      "source": [
        "data1_re = kernel['aceLanguage_Cleaned'].value_counts()\n",
        "\n",
        "label1_re = data1_re.index\n",
        "size1_re = data1_re.values\n",
        "\n",
        "colors1 = ['aqua', 'gold', 'lawngreen']\n",
        "\n",
        "plt.pie(data1_re, labels=label1_re ,colors=colors1, startangle=90, autopct = '%1.2f%%')\n",
        "\n",
        "\n",
        "centre_circle = plt.Circle((0,0),0.25,color='white', fc='white',linewidth=1.25)\n",
        "fig = plt.gcf()\n",
        "fig.gca().add_artist(centre_circle)\n",
        "\n",
        "plt.axis('equal')\n",
        "plt.title('Medals 0: Markdown 1: Python 2: R')\n",
        "plt.show()"
      ],
      "execution_count": null,
      "outputs": [
        {
          "output_type": "display_data",
          "data": {
            "image/png": "[encoded data removed]",
            "text/plain": [
              "<Figure size 648x648 with 1 Axes>"
            ]
          },
          "metadata": {
            "tags": []
          }
        }
      ]
    },
    {
      "cell_type": "code",
      "metadata": {
        "id": "o-_gR8GOzGkQ",
        "colab": {
          "base_uri": "https://localhost:8080/",
          "height": 225
        },
        "outputId": "b5b9d7d2-0049-4813-9808-46f31d17acb5"
      },
      "source": [
        "Tier4 = kernel.author_performanceTier.value_counts().to_frame().reset_index().rename(columns={\"index\":\"tier\",\"author_performanceTier\":\"counts\"})\n",
        "Tier4"
      ],
      "execution_count": null,
      "outputs": [
        {
          "output_type": "execute_result",
          "data": {
            "text/html": [
              "<div>\n",
              "<style scoped>\n",
              "    .dataframe tbody tr th:only-of-type {\n",
              "        vertical-align: middle;\n",
              "    }\n",
              "\n",
              "    .dataframe tbody tr th {\n",
              "        vertical-align: top;\n",
              "    }\n",
              "\n",
              "    .dataframe thead th {\n",
              "        text-align: right;\n",
              "    }\n",
              "</style>\n",
              "<table border=\"1\" class=\"dataframe\">\n",
              "  <thead>\n",
              "    <tr style=\"text-align: right;\">\n",
              "      <th></th>\n",
              "      <th>tier</th>\n",
              "      <th>counts</th>\n",
              "    </tr>\n",
              "  </thead>\n",
              "  <tbody>\n",
              "    <tr>\n",
              "      <th>0</th>\n",
              "      <td>4</td>\n",
              "      <td>317</td>\n",
              "    </tr>\n",
              "    <tr>\n",
              "      <th>1</th>\n",
              "      <td>3</td>\n",
              "      <td>192</td>\n",
              "    </tr>\n",
              "    <tr>\n",
              "      <th>2</th>\n",
              "      <td>2</td>\n",
              "      <td>180</td>\n",
              "    </tr>\n",
              "    <tr>\n",
              "      <th>3</th>\n",
              "      <td>1</td>\n",
              "      <td>89</td>\n",
              "    </tr>\n",
              "    <tr>\n",
              "      <th>4</th>\n",
              "      <td>5</td>\n",
              "      <td>31</td>\n",
              "    </tr>\n",
              "    <tr>\n",
              "      <th>5</th>\n",
              "      <td>0</td>\n",
              "      <td>24</td>\n",
              "    </tr>\n",
              "  </tbody>\n",
              "</table>\n",
              "</div>"
            ],
            "text/plain": [
              "   tier  counts\n",
              "0     4     317\n",
              "1     3     192\n",
              "2     2     180\n",
              "3     1      89\n",
              "4     5      31\n",
              "5     0      24"
            ]
          },
          "metadata": {
            "tags": []
          },
          "execution_count": 120
        }
      ]
    },
    {
      "cell_type": "code",
      "metadata": {
        "id": "D9dzTO3Y90WJ",
        "colab": {
          "base_uri": "https://localhost:8080/",
          "height": 541
        },
        "outputId": "6e4253dc-3848-4ec6-c221-c5dc47aa1d08"
      },
      "source": [
        "data1_re = kernel['author_performanceTier'].value_counts()\n",
        "\n",
        "label1_re = data1_re.index\n",
        "size1_re = data1_re.values\n",
        "\n",
        "colors1 = ['aqua', 'salmon','darkorange', 'gold', 'lawngreen','plum']\n",
        "\n",
        "plt.pie(data1_re, labels=label1_re, colors=colors1, startangle=90, autopct = '%1.2f%%')\n",
        "\n",
        "\n",
        "centre_circle = plt.Circle((0,0),0.25,color='white', fc='white',linewidth=1.25)\n",
        "fig = plt.gcf()\n",
        "fig.gca().add_artist(centre_circle)\n",
        "\n",
        "plt.axis('equal')\n",
        "plt.title('University Ratings on Students')\n",
        "plt.show()"
      ],
      "execution_count": null,
      "outputs": [
        {
          "output_type": "display_data",
          "data": {
            "image/png": "[encoded data removed]",
            "text/plain": [
              "<Figure size 648x648 with 1 Axes>"
            ]
          },
          "metadata": {
            "tags": []
          }
        }
      ]
    },
    {
      "cell_type": "code",
      "metadata": {
        "id": "65p09Qes0-vz",
        "colab": {
          "base_uri": "https://localhost:8080/",
          "height": 136
        },
        "outputId": "9278759d-a483-4fa1-8579-ce7dbfff5c59"
      },
      "source": [
        "medals = kernel.medal.value_counts().to_frame().reset_index().rename(columns={\"index\":\"medal\",\"medal\":\"counts\"})\n",
        "medals"
      ],
      "execution_count": null,
      "outputs": [
        {
          "output_type": "execute_result",
          "data": {
            "text/html": [
              "<div>\n",
              "<style scoped>\n",
              "    .dataframe tbody tr th:only-of-type {\n",
              "        vertical-align: middle;\n",
              "    }\n",
              "\n",
              "    .dataframe tbody tr th {\n",
              "        vertical-align: top;\n",
              "    }\n",
              "\n",
              "    .dataframe thead th {\n",
              "        text-align: right;\n",
              "    }\n",
              "</style>\n",
              "<table border=\"1\" class=\"dataframe\">\n",
              "  <thead>\n",
              "    <tr style=\"text-align: right;\">\n",
              "      <th></th>\n",
              "      <th>medal</th>\n",
              "      <th>counts</th>\n",
              "    </tr>\n",
              "  </thead>\n",
              "  <tbody>\n",
              "    <tr>\n",
              "      <th>0</th>\n",
              "      <td>gold</td>\n",
              "      <td>768</td>\n",
              "    </tr>\n",
              "    <tr>\n",
              "      <th>1</th>\n",
              "      <td>bronze</td>\n",
              "      <td>37</td>\n",
              "    </tr>\n",
              "    <tr>\n",
              "      <th>2</th>\n",
              "      <td>silver</td>\n",
              "      <td>28</td>\n",
              "    </tr>\n",
              "  </tbody>\n",
              "</table>\n",
              "</div>"
            ],
            "text/plain": [
              "    medal  counts\n",
              "0    gold     768\n",
              "1  bronze      37\n",
              "2  silver      28"
            ]
          },
          "metadata": {
            "tags": []
          },
          "execution_count": 122
        }
      ]
    },
    {
      "cell_type": "code",
      "metadata": {
        "id": "FDnfze0S4A7c",
        "colab": {
          "base_uri": "https://localhost:8080/",
          "height": 136
        },
        "outputId": "6ee0a52e-8ed5-4a91-ee5f-f41f03164b27"
      },
      "source": [
        "medals_Cleaned = kernel.medal_Cleaned.value_counts().to_frame().reset_index().rename(columns={\"index\":\"medal\",\"medal_Cleaned\":\"counts\"})\n",
        "medals_Cleaned"
      ],
      "execution_count": null,
      "outputs": [
        {
          "output_type": "execute_result",
          "data": {
            "text/html": [
              "<div>\n",
              "<style scoped>\n",
              "    .dataframe tbody tr th:only-of-type {\n",
              "        vertical-align: middle;\n",
              "    }\n",
              "\n",
              "    .dataframe tbody tr th {\n",
              "        vertical-align: top;\n",
              "    }\n",
              "\n",
              "    .dataframe thead th {\n",
              "        text-align: right;\n",
              "    }\n",
              "</style>\n",
              "<table border=\"1\" class=\"dataframe\">\n",
              "  <thead>\n",
              "    <tr style=\"text-align: right;\">\n",
              "      <th></th>\n",
              "      <th>medal</th>\n",
              "      <th>counts</th>\n",
              "    </tr>\n",
              "  </thead>\n",
              "  <tbody>\n",
              "    <tr>\n",
              "      <th>0</th>\n",
              "      <td>1</td>\n",
              "      <td>768</td>\n",
              "    </tr>\n",
              "    <tr>\n",
              "      <th>1</th>\n",
              "      <td>0</td>\n",
              "      <td>37</td>\n",
              "    </tr>\n",
              "    <tr>\n",
              "      <th>2</th>\n",
              "      <td>2</td>\n",
              "      <td>28</td>\n",
              "    </tr>\n",
              "  </tbody>\n",
              "</table>\n",
              "</div>"
            ],
            "text/plain": [
              "   medal  counts\n",
              "0      1     768\n",
              "1      0      37\n",
              "2      2      28"
            ]
          },
          "metadata": {
            "tags": []
          },
          "execution_count": 123
        }
      ]
    },
    {
      "cell_type": "code",
      "metadata": {
        "id": "CjUAzrPv8AX7",
        "colab": {
          "base_uri": "https://localhost:8080/",
          "height": 538
        },
        "outputId": "e1241779-c033-4693-fec0-0224cc8fb0a0"
      },
      "source": [
        "data1_re = kernel['medal_Cleaned'].value_counts()\n",
        "\n",
        "label1_re = data1_re.index\n",
        "size1_re = data1_re.values\n",
        "\n",
        "colors1 = ['aqua', 'gold', 'lawngreen']\n",
        "\n",
        "plt.pie(data1_re, labels=label1_re ,colors=colors1, startangle=90, autopct = '%1.2f%%')\n",
        "\n",
        "\n",
        "centre_circle = plt.Circle((0,0),0.25,color='white', fc='white',linewidth=1.25)\n",
        "fig = plt.gcf()\n",
        "fig.gca().add_artist(centre_circle)\n",
        "\n",
        "plt.axis('equal')\n",
        "plt.title('Medals 0: Silver 1: Gold 2: Bronze')\n",
        "plt.show()"
      ],
      "execution_count": null,
      "outputs": [
        {
          "output_type": "display_data",
          "data": {
            "image/png": "[encoded data removed]",
            "text/plain": [
              "<Figure size 648x648 with 1 Axes>"
            ]
          },
          "metadata": {
            "tags": []
          }
        }
      ]
    },
    {
      "cell_type": "code",
      "metadata": {
        "id": "oR01VaA41IB1",
        "colab": {
          "base_uri": "https://localhost:8080/",
          "height": 106
        },
        "outputId": "43b53194-28c0-4d71-a85b-c827f411c6e1"
      },
      "source": [
        "isnotebook = kernel.isNotebook.value_counts().to_frame().reset_index().rename(columns={\"index\":\"isNotebook\",\"isNotebook\":\"counts\"})\n",
        "isnotebook"
      ],
      "execution_count": null,
      "outputs": [
        {
          "output_type": "execute_result",
          "data": {
            "text/html": [
              "<div>\n",
              "<style scoped>\n",
              "    .dataframe tbody tr th:only-of-type {\n",
              "        vertical-align: middle;\n",
              "    }\n",
              "\n",
              "    .dataframe tbody tr th {\n",
              "        vertical-align: top;\n",
              "    }\n",
              "\n",
              "    .dataframe thead th {\n",
              "        text-align: right;\n",
              "    }\n",
              "</style>\n",
              "<table border=\"1\" class=\"dataframe\">\n",
              "  <thead>\n",
              "    <tr style=\"text-align: right;\">\n",
              "      <th></th>\n",
              "      <th>isNotebook</th>\n",
              "      <th>counts</th>\n",
              "    </tr>\n",
              "  </thead>\n",
              "  <tbody>\n",
              "    <tr>\n",
              "      <th>0</th>\n",
              "      <td>True</td>\n",
              "      <td>764</td>\n",
              "    </tr>\n",
              "    <tr>\n",
              "      <th>1</th>\n",
              "      <td>False</td>\n",
              "      <td>69</td>\n",
              "    </tr>\n",
              "  </tbody>\n",
              "</table>\n",
              "</div>"
            ],
            "text/plain": [
              "  isNotebook  counts\n",
              "0       True     764\n",
              "1      False      69"
            ]
          },
          "metadata": {
            "tags": []
          },
          "execution_count": 125
        }
      ]
    },
    {
      "cell_type": "code",
      "metadata": {
        "id": "8OL7miJM7geU",
        "colab": {
          "base_uri": "https://localhost:8080/",
          "height": 537
        },
        "outputId": "5b959e90-82a5-4019-8a66-0e52682cc42d"
      },
      "source": [
        "data_re = kernel['isNotebook_Cleaned'].value_counts()\n",
        "\n",
        "label_re = data_re.index\n",
        "size_re = data_re.values\n",
        "\n",
        "colors = ['aqua', 'gold']\n",
        "\n",
        "plt.pie(data_re, labels={'False', 'True'}, colors=colors, startangle=90, autopct = '%1.2f%%')\n",
        "\n",
        "centre_circle = plt.Circle((0,0),0.25,color='white', fc='white',linewidth=1.25)\n",
        "fig = plt.gcf()\n",
        "fig.gca().add_artist(centre_circle)\n",
        "\n",
        "plt.axis('equal')\n",
        "plt.title('Notebooks are there or not')\n",
        "plt.show()"
      ],
      "execution_count": null,
      "outputs": [
        {
          "output_type": "display_data",
          "data": {
            "image/png": "[encoded data removed]",
            "text/plain": [
              "<Figure size 648x648 with 1 Axes>"
            ]
          },
          "metadata": {
            "tags": []
          }
        }
      ]
    },
    {
      "cell_type": "code",
      "metadata": {
        "id": "7BSoIycG1Nw9",
        "colab": {
          "base_uri": "https://localhost:8080/",
          "height": 106
        },
        "outputId": "4e0ebb77-e223-4bf6-db2d-bafaf5a12ccd"
      },
      "source": [
        "language = kernel.languageName.value_counts().to_frame().reset_index().rename(columns={\"index\":\"language\",\"languageName\":\"counts\"})\n",
        "language"
      ],
      "execution_count": null,
      "outputs": [
        {
          "output_type": "execute_result",
          "data": {
            "text/html": [
              "<div>\n",
              "<style scoped>\n",
              "    .dataframe tbody tr th:only-of-type {\n",
              "        vertical-align: middle;\n",
              "    }\n",
              "\n",
              "    .dataframe tbody tr th {\n",
              "        vertical-align: top;\n",
              "    }\n",
              "\n",
              "    .dataframe thead th {\n",
              "        text-align: right;\n",
              "    }\n",
              "</style>\n",
              "<table border=\"1\" class=\"dataframe\">\n",
              "  <thead>\n",
              "    <tr style=\"text-align: right;\">\n",
              "      <th></th>\n",
              "      <th>language</th>\n",
              "      <th>counts</th>\n",
              "    </tr>\n",
              "  </thead>\n",
              "  <tbody>\n",
              "    <tr>\n",
              "      <th>0</th>\n",
              "      <td>Python</td>\n",
              "      <td>763</td>\n",
              "    </tr>\n",
              "    <tr>\n",
              "      <th>1</th>\n",
              "      <td>R</td>\n",
              "      <td>70</td>\n",
              "    </tr>\n",
              "  </tbody>\n",
              "</table>\n",
              "</div>"
            ],
            "text/plain": [
              "  language  counts\n",
              "0   Python     763\n",
              "1        R      70"
            ]
          },
          "metadata": {
            "tags": []
          },
          "execution_count": 127
        }
      ]
    },
    {
      "cell_type": "code",
      "metadata": {
        "id": "vVLyo2Y968dw",
        "colab": {
          "base_uri": "https://localhost:8080/",
          "height": 537
        },
        "outputId": "a51a1dc9-8faf-40d1-f971-aea6985c65e8"
      },
      "source": [
        "data_re = kernel['Language_Cleaned'].value_counts()\n",
        "\n",
        "label_re = data_re.index\n",
        "size_re = data_re.values\n",
        "\n",
        "colors = ['aqua', 'gold']\n",
        "\n",
        "plt.pie(data_re, labels={'Python', 'R'}, colors=colors, startangle=90, autopct = '%1.2f%%')\n",
        "\n",
        "centre_circle = plt.Circle((0,0),0.25,color='white', fc='white',linewidth=1.25)\n",
        "fig = plt.gcf()\n",
        "fig.gca().add_artist(centre_circle)\n",
        "\n",
        "plt.axis('equal')\n",
        "plt.title('Notebooks in R or Python')\n",
        "plt.show()"
      ],
      "execution_count": null,
      "outputs": [
        {
          "output_type": "display_data",
          "data": {
            "image/png": "[encoded data removed]",
            "text/plain": [
              "<Figure size 648x648 with 1 Axes>"
            ]
          },
          "metadata": {
            "tags": []
          }
        }
      ]
    },
    {
      "cell_type": "code",
      "metadata": {
        "id": "ZU6GzBTwjHFJ",
        "colab": {
          "base_uri": "https://localhost:8080/",
          "height": 567
        },
        "outputId": "16cd557b-d89b-426b-e1f4-5712f09e20a3"
      },
      "source": [
        "plt.rcParams['figure.figsize'] = (9, 9)\n",
        "\n",
        "plt.bar(kernel['author_performanceTier'],kernel['totalVotes'] , color ='plum',  width = 0.4) \n",
        "\n",
        "plt.xlabel(\"Tier\") \n",
        "plt.ylabel(\"No. of Votes\")\n",
        "plt.title(\"No. of Votes\")\n",
        "plt.show()"
      ],
      "execution_count": null,
      "outputs": [
        {
          "output_type": "display_data",
          "data": {
            "image/png": "[encoded data removed]",
            "text/plain": [
              "<Figure size 648x648 with 1 Axes>"
            ]
          },
          "metadata": {
            "tags": [],
            "needs_background": "light"
          }
        }
      ]
    },
    {
      "cell_type": "code",
      "metadata": {
        "id": "PcIw5fUUlrdd",
        "colab": {
          "base_uri": "https://localhost:8080/",
          "height": 567
        },
        "outputId": "2fdf05e3-fb0b-472a-a720-df98aac4bb9b"
      },
      "source": [
        "plt.rcParams['figure.figsize'] = (9, 9)\n",
        "\n",
        "plt.bar(kernel['medal'],kernel['totalVotes'] , color ='khaki',  width = 0.4)\n",
        "  \n",
        "plt.xlabel(\"Medal\") \n",
        "plt.ylabel(\"No. of Votes\")\n",
        "plt.title(\"No. of Votes\")\n",
        "plt.show()"
      ],
      "execution_count": null,
      "outputs": [
        {
          "output_type": "display_data",
          "data": {
            "image/png": "[encoded data removed]",
            "text/plain": [
              "<Figure size 648x648 with 1 Axes>"
            ]
          },
          "metadata": {
            "tags": [],
            "needs_background": "light"
          }
        }
      ]
    }
  ]
}